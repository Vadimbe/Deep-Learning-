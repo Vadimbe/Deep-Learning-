{
 "cells": [
  {
   "cell_type": "markdown",
   "metadata": {},
   "source": [
    "# Deep Learning : Assignment 1 \n",
    "## Vadim Benichou \n",
    "### Master Data Sciences & Business Analytics"
   ]
  },
  {
   "cell_type": "code",
   "execution_count": 105,
   "metadata": {},
   "outputs": [],
   "source": [
    "import matplotlib.pyplot as plt\n",
    "%matplotlib inline\n",
    "import numpy as np\n",
    "from keras.models import Sequential\n",
    "from keras.layers import Dense, Activation\n",
    "from keras.optimizers import SGD\n",
    "from keras.utils import np_utils\n",
    "from keras.utils import to_categorical\n",
    "import matplotlib.cm as cm\n",
    "from keras import optimizers\n",
    "import keras\n",
    "from keras.layers import MaxPooling2D\n",
    "from keras.layers import Flatten\n",
    "from keras.layers import Conv2D\n",
    "from keras.layers import UpSampling2D\n",
    "from keras.layers import Dropout\n",
    "from keras.layers import BatchNormalization"
   ]
  },
  {
   "cell_type": "code",
   "execution_count": null,
   "metadata": {},
   "outputs": [],
   "source": [
    "# On some implementations of matplotlib\n",
    "IMAGE_SIZE = 72"
   ]
  },
  {
   "cell_type": "markdown",
   "metadata": {},
   "source": [
    "# 2) Getting Started"
   ]
  },
  {
   "cell_type": "code",
   "execution_count": 2,
   "metadata": {},
   "outputs": [],
   "source": [
    "def generate_a_drawing(figsize, U, V, noise=0.0):\n",
    "    fig = plt.figure(figsize=(figsize,figsize))\n",
    "    ax = plt.subplot(111)\n",
    "    plt.axis('Off')\n",
    "    ax.set_xlim(0,figsize)\n",
    "    ax.set_ylim(0,figsize)\n",
    "    ax.fill(U, V, \"k\")\n",
    "    fig.canvas.draw()\n",
    "    imdata = np.frombuffer(fig.canvas.tostring_rgb(), dtype=np.uint8)[::3].astype(np.float32)\n",
    "    imdata = imdata + noise * np.random.random(imdata.size)\n",
    "    plt.close(fig)\n",
    "    return imdata\n",
    "\n",
    "def generate_a_rectangle(noise=0.0, free_location=False):\n",
    "    figsize = 1.0    \n",
    "    U = np.zeros(4)\n",
    "    V = np.zeros(4)\n",
    "    if free_location:\n",
    "        corners = np.random.random(4)\n",
    "        top = max(corners[0], corners[1])\n",
    "        bottom = min(corners[0], corners[1])\n",
    "        left = min(corners[2], corners[3])\n",
    "        right = max(corners[2], corners[3])\n",
    "    else:\n",
    "        side = (0.3 + 0.7 * np.random.random()) * figsize\n",
    "        top = figsize/2 + side/2\n",
    "        bottom = figsize/2 - side/2\n",
    "        left = bottom\n",
    "        right = top\n",
    "    U[0] = U[1] = top\n",
    "    U[2] = U[3] = bottom\n",
    "    V[0] = V[3] = left\n",
    "    V[1] = V[2] = right\n",
    "    return generate_a_drawing(figsize, U, V, noise)\n",
    "\n",
    "\n",
    "def generate_a_disk(noise=0.0, free_location=False):\n",
    "    figsize = 1.0\n",
    "    if free_location:\n",
    "        center = np.random.random(2)\n",
    "    else:\n",
    "        center = (figsize/2, figsize/2)\n",
    "    radius = (0.3 + 0.7 * np.random.random()) * figsize/2\n",
    "    N = 50\n",
    "    U = np.zeros(N)\n",
    "    V = np.zeros(N)\n",
    "    i = 0\n",
    "    for t in np.linspace(0, 2*np.pi, N):\n",
    "        U[i] = center[0] + np.cos(t) * radius\n",
    "        V[i] = center[1] + np.sin(t) * radius\n",
    "        i = i + 1\n",
    "    return generate_a_drawing(figsize, U, V, noise)\n",
    "\n",
    "def generate_a_triangle(noise=0.0, free_location=False):\n",
    "    figsize = 1.0\n",
    "    if free_location:\n",
    "        U = np.random.random(3)\n",
    "        V = np.random.random(3)\n",
    "    else:\n",
    "        size = (0.3 + 0.7 * np.random.random())*figsize/2\n",
    "        middle = figsize/2\n",
    "        U = (middle, middle+size, middle-size)\n",
    "        V = (middle+size, middle-size, middle-size)\n",
    "    imdata = generate_a_drawing(figsize, U, V, noise)\n",
    "    return [imdata, [U[0], V[0], U[1], V[1], U[2], V[2]]]\n",
    "\n",
    "def generate_dataset_classification(nb_samples, noise=0.0, free_location=False):\n",
    "    # Getting im_size:\n",
    "    im_size = generate_a_rectangle().shape[0]\n",
    "    X = np.zeros([nb_samples,im_size])\n",
    "    Y = np.zeros(nb_samples)\n",
    "    print('Creating data:')\n",
    "    for i in range(nb_samples):\n",
    "        if i % 10 == 0:\n",
    "            print(i)\n",
    "        category = np.random.randint(3)\n",
    "        if category == 0:\n",
    "            X[i] = generate_a_rectangle(noise, free_location)\n",
    "        elif category == 1: \n",
    "            X[i] = generate_a_disk(noise, free_location)\n",
    "        else:\n",
    "            [X[i], V] = generate_a_triangle(noise, free_location)\n",
    "        Y[i] = category\n",
    "    X = (X + noise) / (255 + 2 * noise)\n",
    "    return [X, Y]\n",
    "\n",
    "def generate_test_set_classification():\n",
    "    np.random.seed(42)\n",
    "    [X_test, Y_test] = generate_dataset_classification(300, 20, True)\n",
    "    Y_test = np_utils.to_categorical(Y_test, 3) \n",
    "    return [X_test, Y_test]\n",
    "\n",
    "def generate_dataset_regression(nb_samples, noise=0.0):\n",
    "    # Getting im_size:\n",
    "    im_size = generate_a_triangle()[0].shape[0]\n",
    "    X = np.zeros([nb_samples,im_size])\n",
    "    Y = np.zeros([nb_samples, 6])\n",
    "    print('Creating data:')\n",
    "    for i in range(nb_samples):\n",
    "        if i % 10 == 0:\n",
    "            print(i)\n",
    "        [X[i], Y[i]] = generate_a_triangle(noise, True)\n",
    "    X = (X + noise) / (255 + 2 * noise)\n",
    "    return [X, Y]\n",
    "\n",
    "import matplotlib.patches as patches\n",
    "\n",
    "def visualize_prediction(x, y):\n",
    "    fig, ax = plt.subplots(figsize=(5, 5))\n",
    "    I = x.reshape((IMAGE_SIZE,IMAGE_SIZE))\n",
    "    ax.imshow(I, extent=[-0.15,1.15,-0.15,1.15],cmap='gray')\n",
    "    ax.set_xlim([0,1])\n",
    "    ax.set_ylim([0,1])\n",
    "\n",
    "    xy = y.reshape(3,2)\n",
    "    tri = patches.Polygon(xy, closed=True, fill = False, edgecolor = 'r', linewidth = 5, alpha = 0.5)\n",
    "    ax.add_patch(tri)\n",
    "\n",
    "    plt.show()\n",
    "\n",
    "def generate_test_set_regression():\n",
    "    np.random.seed(42)\n",
    "    [X_test, Y_test] = generate_dataset_regression(300, 20)\n",
    "    return [X_test, Y_test]\n"
   ]
  },
  {
   "cell_type": "code",
   "execution_count": 3,
   "metadata": {},
   "outputs": [
    {
     "data": {
      "text/plain": [
       "<matplotlib.image.AxesImage at 0xb262db5c0>"
      ]
     },
     "execution_count": 3,
     "metadata": {},
     "output_type": "execute_result"
    },
    {
     "data": {
      "image/png": "[encoded data removed]",
      "text/plain": [
       "<Figure size 432x288 with 1 Axes>"
      ]
     },
     "metadata": {},
     "output_type": "display_data"
    }
   ],
   "source": [
    "im = generate_a_rectangle(10, True)\n",
    "plt.imshow(im.reshape(IMAGE_SIZE,IMAGE_SIZE), cmap='gray')"
   ]
  },
  {
   "cell_type": "code",
   "execution_count": 4,
   "metadata": {
    "scrolled": true
   },
   "outputs": [
    {
     "data": {
      "text/plain": [
       "<matplotlib.image.AxesImage at 0xb2646d358>"
      ]
     },
     "execution_count": 4,
     "metadata": {},
     "output_type": "execute_result"
    },
    {
     "data": {
      "image/png": "[encoded data removed]",
      "text/plain": [
       "<Figure size 432x288 with 1 Axes>"
      ]
     },
     "metadata": {},
     "output_type": "display_data"
    }
   ],
   "source": [
    "im = generate_a_disk(10)\n",
    "plt.imshow(im.reshape(IMAGE_SIZE,IMAGE_SIZE), cmap='gray')"
   ]
  },
  {
   "cell_type": "code",
   "execution_count": 5,
   "metadata": {
    "scrolled": false
   },
   "outputs": [
    {
     "data": {
      "text/plain": [
       "<matplotlib.image.AxesImage at 0xb26568128>"
      ]
     },
     "execution_count": 5,
     "metadata": {},
     "output_type": "execute_result"
    },
    {
     "data": {
      "image/png": "[encoded data removed]",
      "text/plain": [
       "<Figure size 432x288 with 1 Axes>"
      ]
     },
     "metadata": {},
     "output_type": "display_data"
    }
   ],
   "source": [
    "[im, v] = generate_a_triangle(20, False)\n",
    "plt.imshow(im.reshape(IMAGE_SIZE,IMAGE_SIZE), cmap='gray')"
   ]
  },
  {
   "cell_type": "markdown",
   "metadata": {},
   "source": [
    "# 3) Simple Classification"
   ]
  },
  {
   "cell_type": "code",
   "execution_count": 153,
   "metadata": {
    "scrolled": false
   },
   "outputs": [
    {
     "name": "stdout",
     "output_type": "stream",
     "text": [
      "Creating data:\n",
      "0\n",
      "10\n",
      "20\n",
      "30\n",
      "40\n",
      "50\n",
      "60\n",
      "70\n",
      "80\n",
      "90\n",
      "100\n",
      "110\n",
      "120\n",
      "130\n",
      "140\n",
      "150\n",
      "160\n",
      "170\n",
      "180\n",
      "190\n",
      "200\n",
      "210\n",
      "220\n",
      "230\n",
      "240\n",
      "250\n",
      "260\n",
      "270\n",
      "280\n",
      "290\n"
     ]
    }
   ],
   "source": [
    "[X_train, Y_train] = generate_dataset_classification(300, 20)"
   ]
  },
  {
   "cell_type": "code",
   "execution_count": 154,
   "metadata": {},
   "outputs": [
    {
     "data": {
      "text/plain": [
       "((300, 5184), (300,))"
      ]
     },
     "execution_count": 154,
     "metadata": {},
     "output_type": "execute_result"
    }
   ],
   "source": [
    "X_train.shape,Y_train.shape"
   ]
  },
  {
   "cell_type": "code",
   "execution_count": 155,
   "metadata": {},
   "outputs": [
    {
     "data": {
      "text/plain": [
       "(300, 3)"
      ]
     },
     "execution_count": 155,
     "metadata": {},
     "output_type": "execute_result"
    }
   ],
   "source": [
    "Y_traink = keras.utils.to_categorical(Y_train, 3)\n",
    "Y_traink.shape"
   ]
  },
  {
   "cell_type": "code",
   "execution_count": 156,
   "metadata": {},
   "outputs": [
    {
     "data": {
      "text/plain": [
       "5184"
      ]
     },
     "execution_count": 156,
     "metadata": {},
     "output_type": "execute_result"
    }
   ],
   "source": [
    "n_cols=X_train.shape[1]\n",
    "n_cols"
   ]
  },
  {
   "cell_type": "markdown",
   "metadata": {},
   "source": [
    "### Stochastic gradient descent optimizer"
   ]
  },
  {
   "cell_type": "code",
   "execution_count": 157,
   "metadata": {},
   "outputs": [],
   "source": [
    "model1=Sequential()"
   ]
  },
  {
   "cell_type": "code",
   "execution_count": 158,
   "metadata": {},
   "outputs": [],
   "source": [
    "model1.add(Dense(units=32,kernel_initializer= 'uniform',input_dim=n_cols ,activation=\"relu\"))\n",
    "model1.add(Dropout(rate=0.2))\n",
    "model1.add(Dense(units=10,kernel_initializer= 'uniform',activation=\"relu\"))\n",
    "model1.add(Dropout(rate=0.2))\n",
    "model1.add(Dense(units=3,kernel_initializer= 'uniform',activation=\"softmax\"))"
   ]
  },
  {
   "cell_type": "code",
   "execution_count": 159,
   "metadata": {},
   "outputs": [],
   "source": [
    "sgd = SGD(lr=0.01,decay=1e-6, momentum=0.9,nesterov=True)\n",
    "model1.compile(loss='mean_squared_error', optimizer=sgd, metrics=['accuracy'])"
   ]
  },
  {
   "cell_type": "code",
   "execution_count": 160,
   "metadata": {},
   "outputs": [
    {
     "name": "stdout",
     "output_type": "stream",
     "text": [
      "Epoch 1/60\n",
      "300/300 [==============================] - 1s 3ms/step - loss: 0.6918 - acc: 0.3100\n",
      "Epoch 2/60\n",
      "300/300 [==============================] - 0s 128us/step - loss: 0.6904 - acc: 0.3100\n",
      "Epoch 3/60\n",
      "300/300 [==============================] - 0s 141us/step - loss: 0.6922 - acc: 0.3100\n",
      "Epoch 4/60\n",
      "300/300 [==============================] - 0s 142us/step - loss: 0.6930 - acc: 0.3100\n",
      "Epoch 5/60\n",
      "300/300 [==============================] - 0s 167us/step - loss: 0.6923 - acc: 0.3100\n",
      "Epoch 6/60\n",
      "300/300 [==============================] - 0s 144us/step - loss: 0.6901 - acc: 0.3100\n",
      "Epoch 7/60\n",
      "300/300 [==============================] - 0s 137us/step - loss: 0.6910 - acc: 0.3100\n",
      "Epoch 8/60\n",
      "300/300 [==============================] - 0s 129us/step - loss: 0.6918 - acc: 0.3100\n",
      "Epoch 9/60\n",
      "300/300 [==============================] - 0s 122us/step - loss: 0.6921 - acc: 0.3100\n",
      "Epoch 10/60\n",
      "300/300 [==============================] - 0s 118us/step - loss: 0.6906 - acc: 0.3100\n",
      "Epoch 11/60\n",
      "300/300 [==============================] - 0s 136us/step - loss: 0.6903 - acc: 0.3100\n",
      "Epoch 12/60\n",
      "300/300 [==============================] - 0s 115us/step - loss: 0.6920 - acc: 0.3100\n",
      "Epoch 13/60\n",
      "300/300 [==============================] - 0s 129us/step - loss: 0.6908 - acc: 0.3100\n",
      "Epoch 14/60\n",
      "300/300 [==============================] - 0s 131us/step - loss: 0.6953 - acc: 0.3100\n",
      "Epoch 15/60\n",
      "300/300 [==============================] - 0s 115us/step - loss: 0.6905 - acc: 0.3100\n",
      "Epoch 16/60\n",
      "300/300 [==============================] - 0s 139us/step - loss: 0.6936 - acc: 0.3100\n",
      "Epoch 17/60\n",
      "300/300 [==============================] - 0s 137us/step - loss: 0.6897 - acc: 0.3100\n",
      "Epoch 18/60\n",
      "300/300 [==============================] - 0s 144us/step - loss: 0.6935 - acc: 0.3100\n",
      "Epoch 19/60\n",
      "300/300 [==============================] - 0s 135us/step - loss: 0.6906 - acc: 0.3100\n",
      "Epoch 20/60\n",
      "300/300 [==============================] - 0s 134us/step - loss: 0.6924 - acc: 0.3100\n",
      "Epoch 21/60\n",
      "300/300 [==============================] - 0s 127us/step - loss: 0.6938 - acc: 0.3100\n",
      "Epoch 22/60\n",
      "300/300 [==============================] - 0s 122us/step - loss: 0.6909 - acc: 0.3100\n",
      "Epoch 23/60\n",
      "300/300 [==============================] - 0s 154us/step - loss: 0.6907 - acc: 0.3100\n",
      "Epoch 24/60\n",
      "300/300 [==============================] - 0s 133us/step - loss: 0.6903 - acc: 0.3100\n",
      "Epoch 25/60\n",
      "300/300 [==============================] - 0s 143us/step - loss: 0.6903 - acc: 0.3100\n",
      "Epoch 26/60\n",
      "300/300 [==============================] - 0s 133us/step - loss: 0.6910 - acc: 0.3100\n",
      "Epoch 27/60\n",
      "300/300 [==============================] - 0s 121us/step - loss: 0.6925 - acc: 0.3100\n",
      "Epoch 28/60\n",
      "300/300 [==============================] - 0s 148us/step - loss: 0.6908 - acc: 0.3100\n",
      "Epoch 29/60\n",
      "300/300 [==============================] - 0s 122us/step - loss: 0.6924 - acc: 0.3100\n",
      "Epoch 30/60\n",
      "300/300 [==============================] - 0s 138us/step - loss: 0.6923 - acc: 0.3100\n",
      "Epoch 31/60\n",
      "300/300 [==============================] - 0s 139us/step - loss: 0.6914 - acc: 0.3100\n",
      "Epoch 32/60\n",
      "300/300 [==============================] - 0s 142us/step - loss: 0.6931 - acc: 0.3100\n",
      "Epoch 33/60\n",
      "300/300 [==============================] - 0s 166us/step - loss: 0.6895 - acc: 0.3100\n",
      "Epoch 34/60\n",
      "300/300 [==============================] - 0s 131us/step - loss: 0.6911 - acc: 0.3100\n",
      "Epoch 35/60\n",
      "300/300 [==============================] - 0s 123us/step - loss: 0.6903 - acc: 0.3100\n",
      "Epoch 36/60\n",
      "300/300 [==============================] - 0s 125us/step - loss: 0.6907 - acc: 0.3100\n",
      "Epoch 37/60\n",
      "300/300 [==============================] - 0s 155us/step - loss: 0.6903 - acc: 0.3100\n",
      "Epoch 38/60\n",
      "300/300 [==============================] - 0s 141us/step - loss: 0.6907 - acc: 0.3100\n",
      "Epoch 39/60\n",
      "300/300 [==============================] - 0s 120us/step - loss: 0.6923 - acc: 0.3100\n",
      "Epoch 40/60\n",
      "300/300 [==============================] - 0s 123us/step - loss: 0.6930 - acc: 0.3100\n",
      "Epoch 41/60\n",
      "300/300 [==============================] - 0s 120us/step - loss: 0.6913 - acc: 0.3100\n",
      "Epoch 42/60\n",
      "300/300 [==============================] - 0s 148us/step - loss: 0.6901 - acc: 0.3100\n",
      "Epoch 43/60\n",
      "300/300 [==============================] - 0s 142us/step - loss: 0.6924 - acc: 0.3100\n",
      "Epoch 44/60\n",
      "300/300 [==============================] - 0s 119us/step - loss: 0.6914 - acc: 0.3100\n",
      "Epoch 45/60\n",
      "300/300 [==============================] - 0s 136us/step - loss: 0.6910 - acc: 0.3100\n",
      "Epoch 46/60\n",
      "300/300 [==============================] - 0s 158us/step - loss: 0.6911 - acc: 0.3100\n",
      "Epoch 47/60\n",
      "300/300 [==============================] - 0s 137us/step - loss: 0.7010 - acc: 0.3100\n",
      "Epoch 48/60\n",
      "300/300 [==============================] - 0s 126us/step - loss: 0.6926 - acc: 0.3100\n",
      "Epoch 49/60\n",
      "300/300 [==============================] - 0s 144us/step - loss: 0.6913 - acc: 0.3100\n",
      "Epoch 50/60\n",
      "300/300 [==============================] - 0s 156us/step - loss: 0.6931 - acc: 0.3100\n",
      "Epoch 51/60\n",
      "300/300 [==============================] - 0s 128us/step - loss: 0.6911 - acc: 0.3100\n",
      "Epoch 52/60\n",
      "300/300 [==============================] - 0s 127us/step - loss: 0.6912 - acc: 0.3100\n",
      "Epoch 53/60\n",
      "300/300 [==============================] - 0s 131us/step - loss: 0.6908 - acc: 0.3100\n",
      "Epoch 54/60\n",
      "300/300 [==============================] - 0s 137us/step - loss: 0.6907 - acc: 0.3100\n",
      "Epoch 55/60\n",
      "300/300 [==============================] - 0s 151us/step - loss: 0.6920 - acc: 0.3100\n",
      "Epoch 56/60\n",
      "300/300 [==============================] - 0s 123us/step - loss: 0.6915 - acc: 0.3100\n",
      "Epoch 57/60\n",
      "300/300 [==============================] - 0s 117us/step - loss: 0.6921 - acc: 0.3100\n",
      "Epoch 58/60\n",
      "300/300 [==============================] - 0s 142us/step - loss: 0.6902 - acc: 0.3100\n",
      "Epoch 59/60\n",
      "300/300 [==============================] - 0s 128us/step - loss: 0.6911 - acc: 0.3100\n",
      "Epoch 60/60\n",
      "300/300 [==============================] - 0s 114us/step - loss: 0.6919 - acc: 0.3100\n"
     ]
    },
    {
     "data": {
      "text/plain": [
       "<keras.callbacks.History at 0xb35caf978>"
      ]
     },
     "execution_count": 160,
     "metadata": {},
     "output_type": "execute_result"
    }
   ],
   "source": [
    "model1.fit(X_train, Y_train, epochs=60, batch_size=32)"
   ]
  },
  {
   "cell_type": "markdown",
   "metadata": {},
   "source": [
    "Evaluate the model : "
   ]
  },
  {
   "cell_type": "code",
   "execution_count": 161,
   "metadata": {},
   "outputs": [
    {
     "name": "stdout",
     "output_type": "stream",
     "text": [
      "300/300 [==============================] - 0s 1ms/step\n"
     ]
    },
    {
     "data": {
      "text/plain": [
       "[0.6899419601758321, 0.3100000003973643]"
      ]
     },
     "execution_count": 161,
     "metadata": {},
     "output_type": "execute_result"
    }
   ],
   "source": [
    "scores = model1.evaluate(X_train, Y_train)\n",
    "scores"
   ]
  },
  {
   "cell_type": "markdown",
   "metadata": {},
   "source": [
    "Testing the model on a disk :"
   ]
  },
  {
   "cell_type": "code",
   "execution_count": 162,
   "metadata": {},
   "outputs": [
    {
     "data": {
      "text/plain": [
       "array([[1.0018418]], dtype=float32)"
      ]
     },
     "execution_count": 162,
     "metadata": {},
     "output_type": "execute_result"
    }
   ],
   "source": [
    "X_test = generate_a_disk()\n",
    "X_test = X_test.reshape(1, X_test.shape[0])\n",
    "model1.predict(X_test)"
   ]
  },
  {
   "cell_type": "markdown",
   "metadata": {},
   "source": [
    "### Adam optimizer"
   ]
  },
  {
   "cell_type": "code",
   "execution_count": 179,
   "metadata": {},
   "outputs": [],
   "source": [
    "model2 = Sequential()\n",
    "model2.add(Dense(3,kernel_initializer= 'uniform', activation='softmax',input_dim=n_cols))"
   ]
  },
  {
   "cell_type": "code",
   "execution_count": 180,
   "metadata": {
    "scrolled": false
   },
   "outputs": [
    {
     "name": "stdout",
     "output_type": "stream",
     "text": [
      "Epoch 1/25\n",
      "300/300 [==============================] - 1s 4ms/step - loss: 2.2863 - acc: 0.3900\n",
      "Epoch 2/25\n",
      "300/300 [==============================] - 0s 120us/step - loss: 0.8088 - acc: 0.6467\n",
      "Epoch 3/25\n",
      "300/300 [==============================] - 0s 139us/step - loss: 0.5766 - acc: 0.7400\n",
      "Epoch 4/25\n",
      "300/300 [==============================] - 0s 132us/step - loss: 0.4079 - acc: 0.8733\n",
      "Epoch 5/25\n",
      "300/300 [==============================] - 0s 141us/step - loss: 0.3807 - acc: 0.8267\n",
      "Epoch 6/25\n",
      "300/300 [==============================] - 0s 141us/step - loss: 0.3227 - acc: 0.8633\n",
      "Epoch 7/25\n",
      "300/300 [==============================] - 0s 137us/step - loss: 0.2668 - acc: 0.9100\n",
      "Epoch 8/25\n",
      "300/300 [==============================] - 0s 136us/step - loss: 0.2848 - acc: 0.8733\n",
      "Epoch 9/25\n",
      "300/300 [==============================] - 0s 135us/step - loss: 0.3086 - acc: 0.8500\n",
      "Epoch 10/25\n",
      "300/300 [==============================] - 0s 125us/step - loss: 0.2510 - acc: 0.8900\n",
      "Epoch 11/25\n",
      "300/300 [==============================] - 0s 143us/step - loss: 0.2084 - acc: 0.8933\n",
      "Epoch 12/25\n",
      "300/300 [==============================] - 0s 121us/step - loss: 0.1986 - acc: 0.9333\n",
      "Epoch 13/25\n",
      "300/300 [==============================] - 0s 152us/step - loss: 0.2118 - acc: 0.9133\n",
      "Epoch 14/25\n",
      "300/300 [==============================] - 0s 127us/step - loss: 0.1217 - acc: 0.9833\n",
      "Epoch 15/25\n",
      "300/300 [==============================] - 0s 142us/step - loss: 0.1159 - acc: 0.9833\n",
      "Epoch 16/25\n",
      "300/300 [==============================] - 0s 133us/step - loss: 0.1123 - acc: 0.9800\n",
      "Epoch 17/25\n",
      "300/300 [==============================] - 0s 114us/step - loss: 0.0942 - acc: 0.9967\n",
      "Epoch 18/25\n",
      "300/300 [==============================] - 0s 136us/step - loss: 0.0904 - acc: 0.9967\n",
      "Epoch 19/25\n",
      "300/300 [==============================] - 0s 138us/step - loss: 0.0901 - acc: 0.9967\n",
      "Epoch 20/25\n",
      "300/300 [==============================] - 0s 115us/step - loss: 0.0822 - acc: 1.0000\n",
      "Epoch 21/25\n",
      "300/300 [==============================] - 0s 132us/step - loss: 0.0734 - acc: 1.0000\n",
      "Epoch 22/25\n",
      "300/300 [==============================] - 0s 115us/step - loss: 0.0694 - acc: 1.0000\n",
      "Epoch 23/25\n",
      "300/300 [==============================] - 0s 136us/step - loss: 0.0667 - acc: 1.0000\n",
      "Epoch 24/25\n",
      "300/300 [==============================] - 0s 117us/step - loss: 0.0632 - acc: 1.0000\n",
      "Epoch 25/25\n",
      "300/300 [==============================] - 0s 149us/step - loss: 0.0636 - acc: 1.0000\n"
     ]
    },
    {
     "data": {
      "text/plain": [
       "<keras.callbacks.History at 0xb3e628780>"
      ]
     },
     "execution_count": 180,
     "metadata": {},
     "output_type": "execute_result"
    }
   ],
   "source": [
    "model2.compile(optimizer='adam', loss='categorical_crossentropy', metrics=['accuracy'])\n",
    "model2.fit(X_train, Y_traink,batch_size=32,epochs=25)"
   ]
  },
  {
   "cell_type": "markdown",
   "metadata": {},
   "source": [
    "Testing the model on a disk"
   ]
  },
  {
   "cell_type": "code",
   "execution_count": 181,
   "metadata": {},
   "outputs": [
    {
     "data": {
      "text/plain": [
       "array([[0., 1., 0.]], dtype=float32)"
      ]
     },
     "execution_count": 181,
     "metadata": {},
     "output_type": "execute_result"
    }
   ],
   "source": [
    "X_test = generate_a_disk()\n",
    "X_test = X_test.reshape(1, X_test.shape[0])\n",
    "model2.predict(X_test)"
   ]
  },
  {
   "cell_type": "markdown",
   "metadata": {},
   "source": [
    "## 4) Visualization of the solution"
   ]
  },
  {
   "cell_type": "markdown",
   "metadata": {},
   "source": [
    "#### Visualization for Stochastic gradient descent optimizer"
   ]
  },
  {
   "cell_type": "code",
   "execution_count": 163,
   "metadata": {},
   "outputs": [],
   "source": [
    "Viz1=model1.get_weights()[0]"
   ]
  },
  {
   "cell_type": "code",
   "execution_count": 164,
   "metadata": {},
   "outputs": [],
   "source": [
    "im1 = Viz1[:,0]\n",
    "im2 = Viz1[:,1]\n",
    "im3 = Viz1[:,2]"
   ]
  },
  {
   "cell_type": "code",
   "execution_count": 165,
   "metadata": {},
   "outputs": [
    {
     "data": {
      "text/plain": [
       "((5184,), (5184,), (5184,))"
      ]
     },
     "execution_count": 165,
     "metadata": {},
     "output_type": "execute_result"
    }
   ],
   "source": [
    "im1.shape,im2.shape,im3.shape"
   ]
  },
  {
   "cell_type": "code",
   "execution_count": 166,
   "metadata": {},
   "outputs": [
    {
     "data": {
      "text/plain": [
       "<matplotlib.image.AxesImage at 0xb3c463be0>"
      ]
     },
     "execution_count": 166,
     "metadata": {},
     "output_type": "execute_result"
    },
    {
     "data": {
      "image/png": "[encoded data removed]",
      "text/plain": [
       "<Figure size 432x288 with 1 Axes>"
      ]
     },
     "metadata": {},
     "output_type": "display_data"
    }
   ],
   "source": [
    "%matplotlib inline \n",
    "plt.imshow(im1.reshape(IMAGE_SIZE, IMAGE_SIZE), cmap='gray')"
   ]
  },
  {
   "cell_type": "code",
   "execution_count": 167,
   "metadata": {
    "scrolled": true
   },
   "outputs": [
    {
     "data": {
      "text/plain": [
       "<matplotlib.image.AxesImage at 0xb273e6a58>"
      ]
     },
     "execution_count": 167,
     "metadata": {},
     "output_type": "execute_result"
    },
    {
     "data": {
      "image/png": "[encoded data removed]",
      "text/plain": [
       "<Figure size 432x288 with 1 Axes>"
      ]
     },
     "metadata": {},
     "output_type": "display_data"
    }
   ],
   "source": [
    "%matplotlib inline \n",
    "plt.imshow(im2.reshape(IMAGE_SIZE, IMAGE_SIZE), cmap='gray')"
   ]
  },
  {
   "cell_type": "code",
   "execution_count": 168,
   "metadata": {},
   "outputs": [
    {
     "data": {
      "text/plain": [
       "<matplotlib.image.AxesImage at 0xb38736208>"
      ]
     },
     "execution_count": 168,
     "metadata": {},
     "output_type": "execute_result"
    },
    {
     "data": {
      "image/png": "[encoded data removed]",
      "text/plain": [
       "<Figure size 432x288 with 1 Axes>"
      ]
     },
     "metadata": {},
     "output_type": "display_data"
    }
   ],
   "source": [
    "plt.imshow(im3.reshape(IMAGE_SIZE, IMAGE_SIZE), cmap='gray')"
   ]
  },
  {
   "cell_type": "markdown",
   "metadata": {},
   "source": [
    "#### Visualization for Adam optimizer"
   ]
  },
  {
   "cell_type": "code",
   "execution_count": 182,
   "metadata": {},
   "outputs": [],
   "source": [
    "Viz2=model2.get_weights()[0]"
   ]
  },
  {
   "cell_type": "code",
   "execution_count": 183,
   "metadata": {},
   "outputs": [],
   "source": [
    "im1 = Viz2[:,0]\n",
    "im2 = Viz2[:,1]\n",
    "im3 = Viz2[:,2]"
   ]
  },
  {
   "cell_type": "code",
   "execution_count": 184,
   "metadata": {},
   "outputs": [
    {
     "data": {
      "text/plain": [
       "((5184,), (5184,), (5184,))"
      ]
     },
     "execution_count": 184,
     "metadata": {},
     "output_type": "execute_result"
    }
   ],
   "source": [
    "im1.shape,im2.shape,im3.shape"
   ]
  },
  {
   "cell_type": "code",
   "execution_count": 185,
   "metadata": {},
   "outputs": [
    {
     "data": {
      "text/plain": [
       "<matplotlib.image.AxesImage at 0xb3c4c6f28>"
      ]
     },
     "execution_count": 185,
     "metadata": {},
     "output_type": "execute_result"
    },
    {
     "data": {
      "image/png": "[encoded data removed]",
      "text/plain": [
       "<Figure size 432x288 with 1 Axes>"
      ]
     },
     "metadata": {},
     "output_type": "display_data"
    }
   ],
   "source": [
    "%matplotlib inline \n",
    "plt.imshow(im1.reshape(IMAGE_SIZE, IMAGE_SIZE), cmap='gray')"
   ]
  },
  {
   "cell_type": "code",
   "execution_count": 186,
   "metadata": {
    "scrolled": true
   },
   "outputs": [
    {
     "data": {
      "text/plain": [
       "<matplotlib.image.AxesImage at 0xb3e97aa20>"
      ]
     },
     "execution_count": 186,
     "metadata": {},
     "output_type": "execute_result"
    },
    {
     "data": {
      "image/png": "[encoded data removed]",
      "text/plain": [
       "<Figure size 432x288 with 1 Axes>"
      ]
     },
     "metadata": {},
     "output_type": "display_data"
    }
   ],
   "source": [
    "%matplotlib inline \n",
    "plt.imshow(im2.reshape(IMAGE_SIZE, IMAGE_SIZE), cmap='gray')"
   ]
  },
  {
   "cell_type": "code",
   "execution_count": 187,
   "metadata": {},
   "outputs": [
    {
     "data": {
      "text/plain": [
       "<matplotlib.image.AxesImage at 0xb3eaf61d0>"
      ]
     },
     "execution_count": 187,
     "metadata": {},
     "output_type": "execute_result"
    },
    {
     "data": {
      "image/png": "[encoded data removed]",
      "text/plain": [
       "<Figure size 432x288 with 1 Axes>"
      ]
     },
     "metadata": {},
     "output_type": "display_data"
    }
   ],
   "source": [
    "plt.imshow(im3.reshape(IMAGE_SIZE, IMAGE_SIZE), cmap='gray')"
   ]
  },
  {
   "cell_type": "markdown",
   "metadata": {},
   "source": [
    "## 5) A more difficult classification problem"
   ]
  },
  {
   "cell_type": "markdown",
   "metadata": {},
   "source": [
    "New training set"
   ]
  },
  {
   "cell_type": "code",
   "execution_count": 200,
   "metadata": {
    "scrolled": true
   },
   "outputs": [
    {
     "name": "stdout",
     "output_type": "stream",
     "text": [
      "Creating data:\n",
      "0\n",
      "10\n",
      "20\n",
      "30\n",
      "40\n",
      "50\n",
      "60\n",
      "70\n",
      "80\n",
      "90\n",
      "100\n",
      "110\n",
      "120\n",
      "130\n",
      "140\n",
      "150\n",
      "160\n",
      "170\n",
      "180\n",
      "190\n",
      "200\n",
      "210\n",
      "220\n",
      "230\n",
      "240\n",
      "250\n",
      "260\n",
      "270\n",
      "280\n",
      "290\n"
     ]
    }
   ],
   "source": [
    "[X_train2, Y_train2] = generate_dataset_classification(300, 20, True)\n",
    "Y_train2k = keras.utils.to_categorical(Y_train2, 3)"
   ]
  },
  {
   "cell_type": "code",
   "execution_count": 201,
   "metadata": {},
   "outputs": [],
   "source": [
    "target_train=to_categorical(Y_train2k)"
   ]
  },
  {
   "cell_type": "markdown",
   "metadata": {},
   "source": [
    "Creating a model with SGD optimizer"
   ]
  },
  {
   "cell_type": "code",
   "execution_count": 202,
   "metadata": {},
   "outputs": [],
   "source": [
    "model3= Sequential()\n",
    "model3.add(Dense(16, input_dim=5184, activation='relu'))\n",
    "model3.add(Dense(3))\n"
   ]
  },
  {
   "cell_type": "code",
   "execution_count": 203,
   "metadata": {},
   "outputs": [],
   "source": [
    "sgd = SGD(lr=0.01,decay=1e-6, momentum=0.9,nesterov=True)\n",
    "model3.compile(loss='mean_squared_error', optimizer=sgd, metrics=['accuracy'])"
   ]
  },
  {
   "cell_type": "code",
   "execution_count": 204,
   "metadata": {
    "scrolled": true
   },
   "outputs": [
    {
     "data": {
      "text/plain": [
       "<keras.callbacks.History at 0xb2d5c0e48>"
      ]
     },
     "execution_count": 204,
     "metadata": {},
     "output_type": "execute_result"
    }
   ],
   "source": [
    "model3.fit(X_train2, Y_train2k,batch_size=16,epochs=150,verbose=False)"
   ]
  },
  {
   "cell_type": "markdown",
   "metadata": {},
   "source": [
    "Generate a test set :"
   ]
  },
  {
   "cell_type": "code",
   "execution_count": 205,
   "metadata": {
    "scrolled": true
   },
   "outputs": [
    {
     "name": "stdout",
     "output_type": "stream",
     "text": [
      "Creating data:\n",
      "0\n",
      "10\n",
      "20\n",
      "30\n",
      "40\n",
      "50\n",
      "60\n",
      "70\n",
      "80\n",
      "90\n",
      "100\n",
      "110\n",
      "120\n",
      "130\n",
      "140\n",
      "150\n",
      "160\n",
      "170\n",
      "180\n",
      "190\n",
      "200\n",
      "210\n",
      "220\n",
      "230\n",
      "240\n",
      "250\n",
      "260\n",
      "270\n",
      "280\n",
      "290\n"
     ]
    }
   ],
   "source": [
    "[X_test2, Y_test2] = generate_test_set_classification()"
   ]
  },
  {
   "cell_type": "markdown",
   "metadata": {},
   "source": [
    "Evaluating the model :"
   ]
  },
  {
   "cell_type": "code",
   "execution_count": 206,
   "metadata": {},
   "outputs": [
    {
     "name": "stdout",
     "output_type": "stream",
     "text": [
      "300/300 [==============================] - 0s 2ms/step\n"
     ]
    },
    {
     "data": {
      "text/plain": [
       "[0.22403119802474974, 0.33]"
      ]
     },
     "execution_count": 206,
     "metadata": {},
     "output_type": "execute_result"
    }
   ],
   "source": [
    "model3.evaluate(X_test2, Y_test2)"
   ]
  },
  {
   "cell_type": "markdown",
   "metadata": {},
   "source": [
    "Reshape X_train "
   ]
  },
  {
   "cell_type": "code",
   "execution_count": 207,
   "metadata": {},
   "outputs": [],
   "source": [
    "X_train2 = X_train2.reshape(X_train2.shape[0],72,72,1)"
   ]
  },
  {
   "cell_type": "markdown",
   "metadata": {},
   "source": [
    "Convolutional model"
   ]
  },
  {
   "cell_type": "code",
   "execution_count": 208,
   "metadata": {},
   "outputs": [],
   "source": [
    "model4 = Sequential()\n",
    "model4.add(Conv2D(16,kernel_size=(5, 5), activation='relu',input_shape=(72, 72, 1)))\n",
    "model4.add(MaxPooling2D(pool_size=(2, 2))) \n",
    "model4.add(Flatten())\n",
    "model4.add(Dense(100,activation='relu'))\n",
    "model4.add(Dense(3,activation='sigmoid'))"
   ]
  },
  {
   "cell_type": "code",
   "execution_count": 209,
   "metadata": {},
   "outputs": [],
   "source": [
    "sgd = SGD(lr=0.01,decay=1e-6, momentum=0.9,nesterov=True)\n",
    "model4.compile(loss='mean_squared_error', optimizer=sgd, metrics=['accuracy'])"
   ]
  },
  {
   "cell_type": "code",
   "execution_count": 210,
   "metadata": {},
   "outputs": [
    {
     "name": "stdout",
     "output_type": "stream",
     "text": [
      "Epoch 1/15\n",
      "300/300 [==============================] - 3s 11ms/step - loss: 0.2264 - acc: 0.3900\n",
      "Epoch 2/15\n",
      "300/300 [==============================] - 1s 4ms/step - loss: 0.2170 - acc: 0.4867\n",
      "Epoch 3/15\n",
      "300/300 [==============================] - 1s 5ms/step - loss: 0.2121 - acc: 0.4400\n",
      "Epoch 4/15\n",
      "300/300 [==============================] - 2s 5ms/step - loss: 0.2052 - acc: 0.5333\n",
      "Epoch 5/15\n",
      "300/300 [==============================] - 1s 5ms/step - loss: 0.1948 - acc: 0.5867\n",
      "Epoch 6/15\n",
      "300/300 [==============================] - 1s 5ms/step - loss: 0.1818 - acc: 0.5933\n",
      "Epoch 7/15\n",
      "300/300 [==============================] - 1s 5ms/step - loss: 0.1749 - acc: 0.5867\n",
      "Epoch 8/15\n",
      "300/300 [==============================] - 1s 5ms/step - loss: 0.1652 - acc: 0.6567\n",
      "Epoch 9/15\n",
      "300/300 [==============================] - 1s 5ms/step - loss: 0.1545 - acc: 0.6600\n",
      "Epoch 10/15\n",
      "300/300 [==============================] - 1s 5ms/step - loss: 0.1459 - acc: 0.6833\n",
      "Epoch 11/15\n",
      "300/300 [==============================] - 1s 4ms/step - loss: 0.1509 - acc: 0.7000\n",
      "Epoch 12/15\n",
      "300/300 [==============================] - 1s 5ms/step - loss: 0.1354 - acc: 0.7333\n",
      "Epoch 13/15\n",
      "300/300 [==============================] - 1s 5ms/step - loss: 0.1390 - acc: 0.7067\n",
      "Epoch 14/15\n",
      "300/300 [==============================] - 1s 5ms/step - loss: 0.1271 - acc: 0.7433\n",
      "Epoch 15/15\n",
      "300/300 [==============================] - 1s 5ms/step - loss: 0.1267 - acc: 0.7300\n"
     ]
    },
    {
     "data": {
      "text/plain": [
       "<keras.callbacks.History at 0xb3b84ba90>"
      ]
     },
     "execution_count": 210,
     "metadata": {},
     "output_type": "execute_result"
    }
   ],
   "source": [
    "model4.fit(X_train2,Y_train2k, batch_size=16, epochs=15)"
   ]
  },
  {
   "cell_type": "code",
   "execution_count": 211,
   "metadata": {},
   "outputs": [
    {
     "name": "stdout",
     "output_type": "stream",
     "text": [
      "Creating data:\n",
      "0\n",
      "10\n",
      "20\n",
      "30\n",
      "40\n",
      "50\n",
      "60\n",
      "70\n",
      "80\n",
      "90\n",
      "100\n",
      "110\n",
      "120\n",
      "130\n",
      "140\n",
      "150\n",
      "160\n",
      "170\n",
      "180\n",
      "190\n",
      "200\n",
      "210\n",
      "220\n",
      "230\n",
      "240\n",
      "250\n",
      "260\n",
      "270\n",
      "280\n",
      "290\n"
     ]
    }
   ],
   "source": [
    "[X_test3, Y_test3] = generate_test_set_classification()"
   ]
  },
  {
   "cell_type": "code",
   "execution_count": 214,
   "metadata": {},
   "outputs": [
    {
     "name": "stdout",
     "output_type": "stream",
     "text": [
      "300/300 [==============================] - 1s 2ms/step\n"
     ]
    },
    {
     "data": {
      "text/plain": [
       "[0.11573171863953273, 0.7700000007947286]"
      ]
     },
     "execution_count": 214,
     "metadata": {},
     "output_type": "execute_result"
    }
   ],
   "source": [
    "model4.evaluate(X_train2,Y_train2k)"
   ]
  },
  {
   "cell_type": "code",
   "execution_count": 215,
   "metadata": {},
   "outputs": [
    {
     "name": "stdout",
     "output_type": "stream",
     "text": [
      "300/300 [==============================] - 1s 2ms/step\n",
      "The loss is : 0.15235363950332007\n"
     ]
    }
   ],
   "source": [
    "print('The loss is : {0}'.format(model4.evaluate(X_test3.reshape(X_test3.shape[0],72,72,1),Y_test3)[0]))"
   ]
  },
  {
   "cell_type": "markdown",
   "metadata": {},
   "source": [
    "# 6) A Regression Problem"
   ]
  },
  {
   "cell_type": "markdown",
   "metadata": {},
   "source": [
    "New training set"
   ]
  },
  {
   "cell_type": "code",
   "execution_count": 216,
   "metadata": {},
   "outputs": [
    {
     "name": "stdout",
     "output_type": "stream",
     "text": [
      "Creating data:\n",
      "0\n",
      "10\n",
      "20\n",
      "30\n",
      "40\n",
      "50\n",
      "60\n",
      "70\n",
      "80\n",
      "90\n",
      "100\n",
      "110\n",
      "120\n",
      "130\n",
      "140\n",
      "150\n",
      "160\n",
      "170\n",
      "180\n",
      "190\n",
      "200\n",
      "210\n",
      "220\n",
      "230\n",
      "240\n",
      "250\n",
      "260\n",
      "270\n",
      "280\n",
      "290\n"
     ]
    }
   ],
   "source": [
    "[X_train4, Y_train4] = generate_dataset_regression(300, 20)"
   ]
  },
  {
   "cell_type": "markdown",
   "metadata": {},
   "source": [
    "Visualize a sample"
   ]
  },
  {
   "cell_type": "code",
   "execution_count": 217,
   "metadata": {},
   "outputs": [
    {
     "data": {
      "image/png": "[encoded data removed]",
      "text/plain": [
       "<Figure size 360x360 with 1 Axes>"
      ]
     },
     "metadata": {},
     "output_type": "display_data"
    },
    {
     "name": "stdout",
     "output_type": "stream",
     "text": [
      "[[0.71986584 0.92000602]\n",
      " [0.31926686 0.97619732]\n",
      " [0.56522072 0.02423682]]\n"
     ]
    }
   ],
   "source": [
    "visualize_prediction(X_train4[0], Y_train4[0])\n",
    "print(Y_train4[0].reshape(3,2))"
   ]
  },
  {
   "cell_type": "code",
   "execution_count": 218,
   "metadata": {},
   "outputs": [
    {
     "name": "stdout",
     "output_type": "stream",
     "text": [
      "Creating data:\n",
      "0\n",
      "10\n",
      "20\n",
      "30\n",
      "40\n",
      "50\n",
      "60\n",
      "70\n",
      "80\n",
      "90\n",
      "100\n",
      "110\n",
      "120\n",
      "130\n",
      "140\n",
      "150\n",
      "160\n",
      "170\n",
      "180\n",
      "190\n",
      "200\n",
      "210\n",
      "220\n",
      "230\n",
      "240\n",
      "250\n",
      "260\n",
      "270\n",
      "280\n",
      "290\n"
     ]
    }
   ],
   "source": [
    "[X_reg, Y_reg] = generate_dataset_regression(300, 20)"
   ]
  },
  {
   "cell_type": "code",
   "execution_count": 219,
   "metadata": {},
   "outputs": [],
   "source": [
    "regressor = Sequential()"
   ]
  },
  {
   "cell_type": "code",
   "execution_count": 220,
   "metadata": {},
   "outputs": [],
   "source": [
    "regressor.add(Dense(units=128,kernel_initializer= 'uniform',activation=\"relu\", input_dim=n_cols))\n",
    "regressor.add(Dropout(0.3))\n",
    "regressor.add(Dense(units=128,kernel_initializer= 'uniform',activation=\"relu\"))\n",
    "regressor.add(Dropout(0.3))\n",
    "regressor.add(Dense(units=6,kernel_initializer= 'uniform'))"
   ]
  },
  {
   "cell_type": "code",
   "execution_count": 221,
   "metadata": {},
   "outputs": [
    {
     "name": "stdout",
     "output_type": "stream",
     "text": [
      "Train on 300 samples, validate on 300 samples\n",
      "Epoch 1/300\n",
      "300/300 [==============================] - 2s 7ms/step - loss: 0.1824 - mean_squared_error: 0.1824 - val_loss: 0.0952 - val_mean_squared_error: 0.0952\n",
      "Epoch 2/300\n",
      "300/300 [==============================] - 0s 667us/step - loss: 0.1166 - mean_squared_error: 0.1166 - val_loss: 0.0842 - val_mean_squared_error: 0.0842\n",
      "Epoch 3/300\n",
      "300/300 [==============================] - 0s 697us/step - loss: 0.1036 - mean_squared_error: 0.1036 - val_loss: 0.0862 - val_mean_squared_error: 0.0862\n",
      "Epoch 4/300\n",
      "300/300 [==============================] - 0s 733us/step - loss: 0.0958 - mean_squared_error: 0.0958 - val_loss: 0.0769 - val_mean_squared_error: 0.0769\n",
      "Epoch 5/300\n",
      "300/300 [==============================] - 0s 673us/step - loss: 0.0950 - mean_squared_error: 0.0950 - val_loss: 0.0771 - val_mean_squared_error: 0.0771\n",
      "Epoch 6/300\n",
      "300/300 [==============================] - 0s 752us/step - loss: 0.0911 - mean_squared_error: 0.0911 - val_loss: 0.0791 - val_mean_squared_error: 0.0791\n",
      "Epoch 7/300\n",
      "300/300 [==============================] - 0s 704us/step - loss: 0.0889 - mean_squared_error: 0.0889 - val_loss: 0.0763 - val_mean_squared_error: 0.0763\n",
      "Epoch 8/300\n",
      "300/300 [==============================] - 0s 713us/step - loss: 0.0885 - mean_squared_error: 0.0885 - val_loss: 0.0802 - val_mean_squared_error: 0.0802\n",
      "Epoch 9/300\n",
      "300/300 [==============================] - 0s 719us/step - loss: 0.0875 - mean_squared_error: 0.0875 - val_loss: 0.0875 - val_mean_squared_error: 0.0875\n",
      "Epoch 10/300\n",
      "300/300 [==============================] - 0s 671us/step - loss: 0.0880 - mean_squared_error: 0.0880 - val_loss: 0.0772 - val_mean_squared_error: 0.0772\n",
      "Epoch 11/300\n",
      "300/300 [==============================] - 0s 807us/step - loss: 0.0853 - mean_squared_error: 0.0853 - val_loss: 0.0849 - val_mean_squared_error: 0.0849\n",
      "Epoch 12/300\n",
      "300/300 [==============================] - 0s 721us/step - loss: 0.0837 - mean_squared_error: 0.0837 - val_loss: 0.0821 - val_mean_squared_error: 0.0821\n",
      "Epoch 13/300\n",
      "300/300 [==============================] - 0s 708us/step - loss: 0.0832 - mean_squared_error: 0.0832 - val_loss: 0.0956 - val_mean_squared_error: 0.0956\n",
      "Epoch 14/300\n",
      "300/300 [==============================] - 0s 742us/step - loss: 0.0856 - mean_squared_error: 0.0856 - val_loss: 0.0757 - val_mean_squared_error: 0.0757\n",
      "Epoch 15/300\n",
      "300/300 [==============================] - 0s 698us/step - loss: 0.0847 - mean_squared_error: 0.0847 - val_loss: 0.0903 - val_mean_squared_error: 0.0903\n",
      "Epoch 16/300\n",
      "300/300 [==============================] - 0s 706us/step - loss: 0.0807 - mean_squared_error: 0.0807 - val_loss: 0.0825 - val_mean_squared_error: 0.0825\n",
      "Epoch 17/300\n",
      "300/300 [==============================] - 0s 718us/step - loss: 0.0790 - mean_squared_error: 0.0790 - val_loss: 0.0879 - val_mean_squared_error: 0.0879\n",
      "Epoch 18/300\n",
      "300/300 [==============================] - 0s 709us/step - loss: 0.0796 - mean_squared_error: 0.0796 - val_loss: 0.0849 - val_mean_squared_error: 0.0849\n",
      "Epoch 19/300\n",
      "300/300 [==============================] - 0s 731us/step - loss: 0.0788 - mean_squared_error: 0.0788 - val_loss: 0.0781 - val_mean_squared_error: 0.0781\n",
      "Epoch 20/300\n",
      "300/300 [==============================] - 0s 743us/step - loss: 0.0785 - mean_squared_error: 0.0785 - val_loss: 0.0802 - val_mean_squared_error: 0.0802\n",
      "Epoch 21/300\n",
      "300/300 [==============================] - 0s 750us/step - loss: 0.0772 - mean_squared_error: 0.0772 - val_loss: 0.0742 - val_mean_squared_error: 0.0742\n",
      "Epoch 22/300\n",
      "300/300 [==============================] - 0s 724us/step - loss: 0.0798 - mean_squared_error: 0.0798 - val_loss: 0.0877 - val_mean_squared_error: 0.0877\n",
      "Epoch 23/300\n",
      "300/300 [==============================] - 0s 724us/step - loss: 0.0785 - mean_squared_error: 0.0785 - val_loss: 0.0847 - val_mean_squared_error: 0.0847\n",
      "Epoch 24/300\n",
      "300/300 [==============================] - 0s 719us/step - loss: 0.0820 - mean_squared_error: 0.0820 - val_loss: 0.0836 - val_mean_squared_error: 0.0836\n",
      "Epoch 25/300\n",
      "300/300 [==============================] - 0s 717us/step - loss: 0.0826 - mean_squared_error: 0.0826 - val_loss: 0.0852 - val_mean_squared_error: 0.0852\n",
      "Epoch 26/300\n",
      "300/300 [==============================] - 0s 690us/step - loss: 0.0854 - mean_squared_error: 0.0854 - val_loss: 0.0913 - val_mean_squared_error: 0.0913\n",
      "Epoch 27/300\n",
      "300/300 [==============================] - 0s 757us/step - loss: 0.0833 - mean_squared_error: 0.0833 - val_loss: 0.0901 - val_mean_squared_error: 0.0901\n",
      "Epoch 28/300\n",
      "300/300 [==============================] - 0s 787us/step - loss: 0.0827 - mean_squared_error: 0.0827 - val_loss: 0.0771 - val_mean_squared_error: 0.0771\n",
      "Epoch 29/300\n",
      "300/300 [==============================] - 0s 743us/step - loss: 0.0810 - mean_squared_error: 0.0810 - val_loss: 0.0835 - val_mean_squared_error: 0.0835\n",
      "Epoch 30/300\n",
      "300/300 [==============================] - 0s 737us/step - loss: 0.0806 - mean_squared_error: 0.0806 - val_loss: 0.0909 - val_mean_squared_error: 0.0909\n",
      "Epoch 31/300\n",
      "300/300 [==============================] - 0s 770us/step - loss: 0.0780 - mean_squared_error: 0.0780 - val_loss: 0.0878 - val_mean_squared_error: 0.0878\n",
      "Epoch 32/300\n",
      "300/300 [==============================] - 0s 725us/step - loss: 0.0767 - mean_squared_error: 0.0767 - val_loss: 0.0852 - val_mean_squared_error: 0.0852\n",
      "Epoch 33/300\n",
      "300/300 [==============================] - 0s 739us/step - loss: 0.0776 - mean_squared_error: 0.0776 - val_loss: 0.0828 - val_mean_squared_error: 0.0828\n",
      "Epoch 34/300\n",
      "300/300 [==============================] - 0s 821us/step - loss: 0.0798 - mean_squared_error: 0.0798 - val_loss: 0.0788 - val_mean_squared_error: 0.0788\n",
      "Epoch 35/300\n",
      "300/300 [==============================] - 0s 731us/step - loss: 0.0776 - mean_squared_error: 0.0776 - val_loss: 0.0755 - val_mean_squared_error: 0.0755\n",
      "Epoch 36/300\n",
      "300/300 [==============================] - 0s 711us/step - loss: 0.0778 - mean_squared_error: 0.0778 - val_loss: 0.0819 - val_mean_squared_error: 0.0819\n",
      "Epoch 37/300\n",
      "300/300 [==============================] - 0s 756us/step - loss: 0.0794 - mean_squared_error: 0.0794 - val_loss: 0.0793 - val_mean_squared_error: 0.0793\n",
      "Epoch 38/300\n",
      "300/300 [==============================] - 0s 721us/step - loss: 0.0751 - mean_squared_error: 0.0751 - val_loss: 0.0777 - val_mean_squared_error: 0.0777\n",
      "Epoch 39/300\n",
      "300/300 [==============================] - 0s 757us/step - loss: 0.0769 - mean_squared_error: 0.0769 - val_loss: 0.0814 - val_mean_squared_error: 0.0814\n",
      "Epoch 40/300\n",
      "300/300 [==============================] - 0s 773us/step - loss: 0.0796 - mean_squared_error: 0.0796 - val_loss: 0.0751 - val_mean_squared_error: 0.0751\n",
      "Epoch 41/300\n",
      "300/300 [==============================] - 0s 746us/step - loss: 0.0817 - mean_squared_error: 0.0817 - val_loss: 0.0831 - val_mean_squared_error: 0.0831\n",
      "Epoch 42/300\n",
      "300/300 [==============================] - 0s 739us/step - loss: 0.0796 - mean_squared_error: 0.0796 - val_loss: 0.0757 - val_mean_squared_error: 0.0757\n",
      "Epoch 43/300\n",
      "300/300 [==============================] - 0s 801us/step - loss: 0.0787 - mean_squared_error: 0.0787 - val_loss: 0.0769 - val_mean_squared_error: 0.0769\n",
      "Epoch 44/300\n",
      "300/300 [==============================] - 0s 724us/step - loss: 0.0806 - mean_squared_error: 0.0806 - val_loss: 0.0821 - val_mean_squared_error: 0.0821\n",
      "Epoch 45/300\n",
      "300/300 [==============================] - 0s 652us/step - loss: 0.0755 - mean_squared_error: 0.0755 - val_loss: 0.0706 - val_mean_squared_error: 0.0706\n",
      "Epoch 46/300\n",
      "300/300 [==============================] - 0s 694us/step - loss: 0.0798 - mean_squared_error: 0.0798 - val_loss: 0.0754 - val_mean_squared_error: 0.0754\n",
      "Epoch 47/300\n",
      "300/300 [==============================] - ETA: 0s - loss: 0.0776 - mean_squared_error: 0.07 - 0s 756us/step - loss: 0.0782 - mean_squared_error: 0.0782 - val_loss: 0.0732 - val_mean_squared_error: 0.0732\n",
      "Epoch 48/300\n",
      "300/300 [==============================] - 0s 794us/step - loss: 0.0775 - mean_squared_error: 0.0775 - val_loss: 0.0788 - val_mean_squared_error: 0.0788\n",
      "Epoch 49/300\n",
      "300/300 [==============================] - 0s 748us/step - loss: 0.0742 - mean_squared_error: 0.0742 - val_loss: 0.0705 - val_mean_squared_error: 0.0705\n"
     ]
    },
    {
     "name": "stdout",
     "output_type": "stream",
     "text": [
      "Epoch 50/300\n",
      "300/300 [==============================] - 0s 756us/step - loss: 0.0749 - mean_squared_error: 0.0749 - val_loss: 0.0755 - val_mean_squared_error: 0.0755\n",
      "Epoch 51/300\n",
      "300/300 [==============================] - 0s 780us/step - loss: 0.0738 - mean_squared_error: 0.0738 - val_loss: 0.0772 - val_mean_squared_error: 0.0772\n",
      "Epoch 52/300\n",
      "300/300 [==============================] - 0s 776us/step - loss: 0.0747 - mean_squared_error: 0.0747 - val_loss: 0.0752 - val_mean_squared_error: 0.0752\n",
      "Epoch 53/300\n",
      "300/300 [==============================] - 0s 746us/step - loss: 0.0768 - mean_squared_error: 0.0768 - val_loss: 0.0757 - val_mean_squared_error: 0.0757\n",
      "Epoch 54/300\n",
      "300/300 [==============================] - 0s 804us/step - loss: 0.0732 - mean_squared_error: 0.0732 - val_loss: 0.0755 - val_mean_squared_error: 0.0755\n",
      "Epoch 55/300\n",
      "300/300 [==============================] - 0s 734us/step - loss: 0.0730 - mean_squared_error: 0.0730 - val_loss: 0.0779 - val_mean_squared_error: 0.0779\n",
      "Epoch 56/300\n",
      "300/300 [==============================] - 0s 701us/step - loss: 0.0725 - mean_squared_error: 0.0725 - val_loss: 0.0706 - val_mean_squared_error: 0.0706\n",
      "Epoch 57/300\n",
      "300/300 [==============================] - 0s 727us/step - loss: 0.0737 - mean_squared_error: 0.0737 - val_loss: 0.0736 - val_mean_squared_error: 0.0736\n",
      "Epoch 58/300\n",
      "300/300 [==============================] - 0s 802us/step - loss: 0.0730 - mean_squared_error: 0.0730 - val_loss: 0.0722 - val_mean_squared_error: 0.0722\n",
      "Epoch 59/300\n",
      "300/300 [==============================] - 0s 829us/step - loss: 0.0729 - mean_squared_error: 0.0729 - val_loss: 0.0709 - val_mean_squared_error: 0.0709\n",
      "Epoch 60/300\n",
      "300/300 [==============================] - 0s 708us/step - loss: 0.0745 - mean_squared_error: 0.0745 - val_loss: 0.0709 - val_mean_squared_error: 0.0709\n",
      "Epoch 61/300\n",
      "300/300 [==============================] - 0s 728us/step - loss: 0.0739 - mean_squared_error: 0.0739 - val_loss: 0.0705 - val_mean_squared_error: 0.0705\n",
      "Epoch 62/300\n",
      "300/300 [==============================] - 0s 753us/step - loss: 0.0736 - mean_squared_error: 0.0736 - val_loss: 0.0756 - val_mean_squared_error: 0.0756\n",
      "Epoch 63/300\n",
      "300/300 [==============================] - 0s 783us/step - loss: 0.0757 - mean_squared_error: 0.0757 - val_loss: 0.0743 - val_mean_squared_error: 0.0743\n",
      "Epoch 64/300\n",
      "300/300 [==============================] - 0s 763us/step - loss: 0.0757 - mean_squared_error: 0.0757 - val_loss: 0.0705 - val_mean_squared_error: 0.0705\n",
      "Epoch 65/300\n",
      "300/300 [==============================] - 0s 771us/step - loss: 0.0724 - mean_squared_error: 0.0724 - val_loss: 0.0708 - val_mean_squared_error: 0.0708\n",
      "Epoch 66/300\n",
      "300/300 [==============================] - 0s 780us/step - loss: 0.0737 - mean_squared_error: 0.0737 - val_loss: 0.0720 - val_mean_squared_error: 0.0720\n",
      "Epoch 67/300\n",
      "300/300 [==============================] - 0s 771us/step - loss: 0.0731 - mean_squared_error: 0.0731 - val_loss: 0.0732 - val_mean_squared_error: 0.0732\n",
      "Epoch 68/300\n",
      "300/300 [==============================] - 0s 730us/step - loss: 0.0717 - mean_squared_error: 0.0717 - val_loss: 0.0751 - val_mean_squared_error: 0.0751\n",
      "Epoch 69/300\n",
      "300/300 [==============================] - 0s 744us/step - loss: 0.0723 - mean_squared_error: 0.0723 - val_loss: 0.0744 - val_mean_squared_error: 0.0744\n",
      "Epoch 70/300\n",
      "300/300 [==============================] - 0s 731us/step - loss: 0.0711 - mean_squared_error: 0.0711 - val_loss: 0.0765 - val_mean_squared_error: 0.0765\n",
      "Epoch 71/300\n",
      "300/300 [==============================] - 0s 733us/step - loss: 0.0709 - mean_squared_error: 0.0709 - val_loss: 0.0759 - val_mean_squared_error: 0.0759\n",
      "Epoch 72/300\n",
      "300/300 [==============================] - 0s 716us/step - loss: 0.0716 - mean_squared_error: 0.0716 - val_loss: 0.0709 - val_mean_squared_error: 0.0709\n",
      "Epoch 73/300\n",
      "300/300 [==============================] - 0s 723us/step - loss: 0.0738 - mean_squared_error: 0.0738 - val_loss: 0.0703 - val_mean_squared_error: 0.0703\n",
      "Epoch 74/300\n",
      "300/300 [==============================] - 0s 730us/step - loss: 0.0716 - mean_squared_error: 0.0716 - val_loss: 0.0709 - val_mean_squared_error: 0.0709\n",
      "Epoch 75/300\n",
      "300/300 [==============================] - 0s 748us/step - loss: 0.0712 - mean_squared_error: 0.0712 - val_loss: 0.0689 - val_mean_squared_error: 0.0689\n",
      "Epoch 76/300\n",
      "300/300 [==============================] - 0s 725us/step - loss: 0.0721 - mean_squared_error: 0.0721 - val_loss: 0.0711 - val_mean_squared_error: 0.0711\n",
      "Epoch 77/300\n",
      "300/300 [==============================] - 0s 738us/step - loss: 0.0714 - mean_squared_error: 0.0714 - val_loss: 0.0716 - val_mean_squared_error: 0.0716\n",
      "Epoch 78/300\n",
      "300/300 [==============================] - 0s 696us/step - loss: 0.0716 - mean_squared_error: 0.0716 - val_loss: 0.0722 - val_mean_squared_error: 0.0722\n",
      "Epoch 79/300\n",
      "300/300 [==============================] - 0s 748us/step - loss: 0.0707 - mean_squared_error: 0.0707 - val_loss: 0.0696 - val_mean_squared_error: 0.0696\n",
      "Epoch 80/300\n",
      "300/300 [==============================] - 0s 756us/step - loss: 0.0694 - mean_squared_error: 0.0694 - val_loss: 0.0718 - val_mean_squared_error: 0.0718\n",
      "Epoch 81/300\n",
      "300/300 [==============================] - 0s 739us/step - loss: 0.0726 - mean_squared_error: 0.0726 - val_loss: 0.0715 - val_mean_squared_error: 0.0715\n",
      "Epoch 82/300\n",
      "300/300 [==============================] - 0s 805us/step - loss: 0.0728 - mean_squared_error: 0.0728 - val_loss: 0.0706 - val_mean_squared_error: 0.0706\n",
      "Epoch 83/300\n",
      "300/300 [==============================] - 0s 733us/step - loss: 0.0721 - mean_squared_error: 0.0721 - val_loss: 0.0718 - val_mean_squared_error: 0.0718\n",
      "Epoch 84/300\n",
      "300/300 [==============================] - 0s 713us/step - loss: 0.0707 - mean_squared_error: 0.0707 - val_loss: 0.0729 - val_mean_squared_error: 0.0729\n",
      "Epoch 85/300\n",
      "300/300 [==============================] - 0s 710us/step - loss: 0.0712 - mean_squared_error: 0.0712 - val_loss: 0.0723 - val_mean_squared_error: 0.0723\n",
      "Epoch 86/300\n",
      "300/300 [==============================] - 0s 702us/step - loss: 0.0711 - mean_squared_error: 0.0711 - val_loss: 0.0700 - val_mean_squared_error: 0.0700\n",
      "Epoch 87/300\n",
      "300/300 [==============================] - 0s 693us/step - loss: 0.0711 - mean_squared_error: 0.0711 - val_loss: 0.0738 - val_mean_squared_error: 0.0738\n",
      "Epoch 88/300\n",
      "300/300 [==============================] - 0s 694us/step - loss: 0.0710 - mean_squared_error: 0.0710 - val_loss: 0.0760 - val_mean_squared_error: 0.0760\n",
      "Epoch 89/300\n",
      "300/300 [==============================] - 0s 728us/step - loss: 0.0707 - mean_squared_error: 0.0707 - val_loss: 0.0720 - val_mean_squared_error: 0.0720\n",
      "Epoch 90/300\n",
      "300/300 [==============================] - 0s 732us/step - loss: 0.0698 - mean_squared_error: 0.0698 - val_loss: 0.0698 - val_mean_squared_error: 0.0698\n",
      "Epoch 91/300\n",
      "300/300 [==============================] - 0s 770us/step - loss: 0.0722 - mean_squared_error: 0.0722 - val_loss: 0.0724 - val_mean_squared_error: 0.0724\n",
      "Epoch 92/300\n",
      "300/300 [==============================] - 0s 715us/step - loss: 0.0698 - mean_squared_error: 0.0698 - val_loss: 0.0727 - val_mean_squared_error: 0.0727\n",
      "Epoch 93/300\n",
      "300/300 [==============================] - 0s 751us/step - loss: 0.0711 - mean_squared_error: 0.0711 - val_loss: 0.0709 - val_mean_squared_error: 0.0709\n",
      "Epoch 94/300\n",
      "300/300 [==============================] - 0s 721us/step - loss: 0.0693 - mean_squared_error: 0.0693 - val_loss: 0.0705 - val_mean_squared_error: 0.0705\n",
      "Epoch 95/300\n",
      "300/300 [==============================] - 0s 735us/step - loss: 0.0722 - mean_squared_error: 0.0722 - val_loss: 0.0664 - val_mean_squared_error: 0.0664\n",
      "Epoch 96/300\n",
      "300/300 [==============================] - 0s 713us/step - loss: 0.0712 - mean_squared_error: 0.0712 - val_loss: 0.0668 - val_mean_squared_error: 0.0668\n",
      "Epoch 97/300\n",
      "300/300 [==============================] - 0s 729us/step - loss: 0.0721 - mean_squared_error: 0.0721 - val_loss: 0.0710 - val_mean_squared_error: 0.0710\n",
      "Epoch 98/300\n",
      "300/300 [==============================] - 0s 701us/step - loss: 0.0731 - mean_squared_error: 0.0731 - val_loss: 0.0694 - val_mean_squared_error: 0.0694\n",
      "Epoch 99/300\n"
     ]
    },
    {
     "name": "stdout",
     "output_type": "stream",
     "text": [
      "300/300 [==============================] - 0s 731us/step - loss: 0.0729 - mean_squared_error: 0.0729 - val_loss: 0.0730 - val_mean_squared_error: 0.0730\n",
      "Epoch 100/300\n",
      "300/300 [==============================] - 0s 719us/step - loss: 0.0729 - mean_squared_error: 0.0729 - val_loss: 0.0719 - val_mean_squared_error: 0.0719\n",
      "Epoch 101/300\n",
      "300/300 [==============================] - 0s 732us/step - loss: 0.0727 - mean_squared_error: 0.0727 - val_loss: 0.0750 - val_mean_squared_error: 0.0750\n",
      "Epoch 102/300\n",
      "300/300 [==============================] - 0s 743us/step - loss: 0.0741 - mean_squared_error: 0.0741 - val_loss: 0.0705 - val_mean_squared_error: 0.0705\n",
      "Epoch 103/300\n",
      "300/300 [==============================] - 0s 718us/step - loss: 0.0726 - mean_squared_error: 0.0726 - val_loss: 0.0716 - val_mean_squared_error: 0.0716\n",
      "Epoch 104/300\n",
      "300/300 [==============================] - 0s 704us/step - loss: 0.0725 - mean_squared_error: 0.0725 - val_loss: 0.0690 - val_mean_squared_error: 0.0690\n",
      "Epoch 105/300\n",
      "300/300 [==============================] - 0s 695us/step - loss: 0.0735 - mean_squared_error: 0.0735 - val_loss: 0.0696 - val_mean_squared_error: 0.0696\n",
      "Epoch 106/300\n",
      "300/300 [==============================] - 0s 747us/step - loss: 0.0724 - mean_squared_error: 0.0724 - val_loss: 0.0702 - val_mean_squared_error: 0.0702\n",
      "Epoch 107/300\n",
      "300/300 [==============================] - 0s 715us/step - loss: 0.0721 - mean_squared_error: 0.0721 - val_loss: 0.0704 - val_mean_squared_error: 0.0704\n",
      "Epoch 108/300\n",
      "300/300 [==============================] - 0s 728us/step - loss: 0.0703 - mean_squared_error: 0.0703 - val_loss: 0.0705 - val_mean_squared_error: 0.0705\n",
      "Epoch 109/300\n",
      "300/300 [==============================] - 0s 730us/step - loss: 0.0722 - mean_squared_error: 0.0722 - val_loss: 0.0709 - val_mean_squared_error: 0.0709\n",
      "Epoch 110/300\n",
      "300/300 [==============================] - 0s 673us/step - loss: 0.0712 - mean_squared_error: 0.0712 - val_loss: 0.0720 - val_mean_squared_error: 0.0720\n",
      "Epoch 111/300\n",
      "300/300 [==============================] - 0s 732us/step - loss: 0.0743 - mean_squared_error: 0.0743 - val_loss: 0.0775 - val_mean_squared_error: 0.0775\n",
      "Epoch 112/300\n",
      "300/300 [==============================] - 0s 700us/step - loss: 0.0755 - mean_squared_error: 0.0755 - val_loss: 0.0740 - val_mean_squared_error: 0.0740\n",
      "Epoch 113/300\n",
      "300/300 [==============================] - 0s 698us/step - loss: 0.0727 - mean_squared_error: 0.0727 - val_loss: 0.0729 - val_mean_squared_error: 0.0729\n",
      "Epoch 114/300\n",
      "300/300 [==============================] - 0s 701us/step - loss: 0.0718 - mean_squared_error: 0.0718 - val_loss: 0.0709 - val_mean_squared_error: 0.0709\n",
      "Epoch 115/300\n",
      "300/300 [==============================] - 0s 725us/step - loss: 0.0712 - mean_squared_error: 0.0712 - val_loss: 0.0704 - val_mean_squared_error: 0.0704\n",
      "Epoch 116/300\n",
      "300/300 [==============================] - 0s 655us/step - loss: 0.0711 - mean_squared_error: 0.0711 - val_loss: 0.0671 - val_mean_squared_error: 0.0671\n",
      "Epoch 117/300\n",
      "300/300 [==============================] - 0s 678us/step - loss: 0.0728 - mean_squared_error: 0.0728 - val_loss: 0.0681 - val_mean_squared_error: 0.0681\n",
      "Epoch 118/300\n",
      "300/300 [==============================] - 0s 749us/step - loss: 0.0725 - mean_squared_error: 0.0725 - val_loss: 0.0686 - val_mean_squared_error: 0.0686\n",
      "Epoch 119/300\n",
      "300/300 [==============================] - 0s 693us/step - loss: 0.0717 - mean_squared_error: 0.0717 - val_loss: 0.0695 - val_mean_squared_error: 0.0695\n",
      "Epoch 120/300\n",
      "300/300 [==============================] - 0s 735us/step - loss: 0.0712 - mean_squared_error: 0.0712 - val_loss: 0.0693 - val_mean_squared_error: 0.0693\n",
      "Epoch 121/300\n",
      "300/300 [==============================] - 0s 727us/step - loss: 0.0718 - mean_squared_error: 0.0718 - val_loss: 0.0704 - val_mean_squared_error: 0.0704\n",
      "Epoch 122/300\n",
      "300/300 [==============================] - 0s 682us/step - loss: 0.0701 - mean_squared_error: 0.0701 - val_loss: 0.0696 - val_mean_squared_error: 0.0696\n",
      "Epoch 123/300\n",
      "300/300 [==============================] - 0s 668us/step - loss: 0.0732 - mean_squared_error: 0.0732 - val_loss: 0.0715 - val_mean_squared_error: 0.0715\n",
      "Epoch 124/300\n",
      "300/300 [==============================] - 0s 708us/step - loss: 0.0725 - mean_squared_error: 0.0725 - val_loss: 0.0716 - val_mean_squared_error: 0.0716\n",
      "Epoch 125/300\n",
      "300/300 [==============================] - 0s 715us/step - loss: 0.0701 - mean_squared_error: 0.0701 - val_loss: 0.0698 - val_mean_squared_error: 0.0698\n",
      "Epoch 126/300\n",
      "300/300 [==============================] - 0s 709us/step - loss: 0.0702 - mean_squared_error: 0.0702 - val_loss: 0.0698 - val_mean_squared_error: 0.0698\n",
      "Epoch 127/300\n",
      "300/300 [==============================] - 0s 699us/step - loss: 0.0699 - mean_squared_error: 0.0699 - val_loss: 0.0702 - val_mean_squared_error: 0.0702\n",
      "Epoch 128/300\n",
      "300/300 [==============================] - 0s 691us/step - loss: 0.0702 - mean_squared_error: 0.0702 - val_loss: 0.0679 - val_mean_squared_error: 0.0679\n",
      "Epoch 129/300\n",
      "300/300 [==============================] - 0s 719us/step - loss: 0.0724 - mean_squared_error: 0.0724 - val_loss: 0.0681 - val_mean_squared_error: 0.0681\n",
      "Epoch 130/300\n",
      "300/300 [==============================] - 0s 653us/step - loss: 0.0715 - mean_squared_error: 0.0715 - val_loss: 0.0697 - val_mean_squared_error: 0.0697\n",
      "Epoch 131/300\n",
      "300/300 [==============================] - 0s 791us/step - loss: 0.0730 - mean_squared_error: 0.0730 - val_loss: 0.0712 - val_mean_squared_error: 0.0712\n",
      "Epoch 132/300\n",
      "300/300 [==============================] - 0s 686us/step - loss: 0.0702 - mean_squared_error: 0.0702 - val_loss: 0.0715 - val_mean_squared_error: 0.0715\n",
      "Epoch 133/300\n",
      "300/300 [==============================] - 0s 712us/step - loss: 0.0706 - mean_squared_error: 0.0706 - val_loss: 0.0722 - val_mean_squared_error: 0.0722\n",
      "Epoch 134/300\n",
      "300/300 [==============================] - 0s 704us/step - loss: 0.0708 - mean_squared_error: 0.0708 - val_loss: 0.0727 - val_mean_squared_error: 0.0727\n",
      "Epoch 135/300\n",
      "300/300 [==============================] - 0s 705us/step - loss: 0.0711 - mean_squared_error: 0.0711 - val_loss: 0.0720 - val_mean_squared_error: 0.0720\n",
      "Epoch 136/300\n",
      "300/300 [==============================] - 0s 709us/step - loss: 0.0704 - mean_squared_error: 0.0704 - val_loss: 0.0710 - val_mean_squared_error: 0.0710\n",
      "Epoch 137/300\n",
      "300/300 [==============================] - 0s 675us/step - loss: 0.0684 - mean_squared_error: 0.0684 - val_loss: 0.0724 - val_mean_squared_error: 0.0724\n",
      "Epoch 138/300\n",
      "300/300 [==============================] - 0s 698us/step - loss: 0.0701 - mean_squared_error: 0.0701 - val_loss: 0.0701 - val_mean_squared_error: 0.0701\n",
      "Epoch 139/300\n",
      "300/300 [==============================] - 0s 679us/step - loss: 0.0689 - mean_squared_error: 0.0689 - val_loss: 0.0705 - val_mean_squared_error: 0.0705\n",
      "Epoch 140/300\n",
      "300/300 [==============================] - 0s 726us/step - loss: 0.0699 - mean_squared_error: 0.0699 - val_loss: 0.0665 - val_mean_squared_error: 0.0665\n",
      "Epoch 141/300\n",
      "300/300 [==============================] - 0s 755us/step - loss: 0.0712 - mean_squared_error: 0.0712 - val_loss: 0.0711 - val_mean_squared_error: 0.0711\n",
      "Epoch 142/300\n",
      "300/300 [==============================] - 0s 703us/step - loss: 0.0706 - mean_squared_error: 0.0706 - val_loss: 0.0692 - val_mean_squared_error: 0.0692\n",
      "Epoch 143/300\n",
      "300/300 [==============================] - 0s 698us/step - loss: 0.0705 - mean_squared_error: 0.0705 - val_loss: 0.0701 - val_mean_squared_error: 0.0701\n",
      "Epoch 144/300\n",
      "300/300 [==============================] - 0s 668us/step - loss: 0.0699 - mean_squared_error: 0.0699 - val_loss: 0.0699 - val_mean_squared_error: 0.0699\n",
      "Epoch 145/300\n",
      "300/300 [==============================] - 0s 725us/step - loss: 0.0713 - mean_squared_error: 0.0713 - val_loss: 0.0728 - val_mean_squared_error: 0.0728\n",
      "Epoch 146/300\n",
      "300/300 [==============================] - 0s 685us/step - loss: 0.0695 - mean_squared_error: 0.0695 - val_loss: 0.0723 - val_mean_squared_error: 0.0723\n",
      "Epoch 147/300\n",
      "300/300 [==============================] - 0s 695us/step - loss: 0.0696 - mean_squared_error: 0.0696 - val_loss: 0.0714 - val_mean_squared_error: 0.0714\n",
      "Epoch 148/300\n"
     ]
    },
    {
     "name": "stdout",
     "output_type": "stream",
     "text": [
      "300/300 [==============================] - 0s 707us/step - loss: 0.0700 - mean_squared_error: 0.0700 - val_loss: 0.0709 - val_mean_squared_error: 0.0709\n",
      "Epoch 149/300\n",
      "300/300 [==============================] - 0s 710us/step - loss: 0.0723 - mean_squared_error: 0.0723 - val_loss: 0.0698 - val_mean_squared_error: 0.0698\n",
      "Epoch 150/300\n",
      "300/300 [==============================] - 0s 691us/step - loss: 0.0691 - mean_squared_error: 0.0691 - val_loss: 0.0691 - val_mean_squared_error: 0.0691\n",
      "Epoch 151/300\n",
      "300/300 [==============================] - 0s 694us/step - loss: 0.0711 - mean_squared_error: 0.0711 - val_loss: 0.0719 - val_mean_squared_error: 0.0719\n",
      "Epoch 152/300\n",
      "300/300 [==============================] - 0s 707us/step - loss: 0.0700 - mean_squared_error: 0.0700 - val_loss: 0.0705 - val_mean_squared_error: 0.0705\n",
      "Epoch 153/300\n",
      "300/300 [==============================] - 0s 715us/step - loss: 0.0706 - mean_squared_error: 0.0706 - val_loss: 0.0697 - val_mean_squared_error: 0.0697\n",
      "Epoch 154/300\n",
      "300/300 [==============================] - 0s 734us/step - loss: 0.0696 - mean_squared_error: 0.0696 - val_loss: 0.0697 - val_mean_squared_error: 0.0697\n",
      "Epoch 155/300\n",
      "300/300 [==============================] - 0s 710us/step - loss: 0.0702 - mean_squared_error: 0.0702 - val_loss: 0.0723 - val_mean_squared_error: 0.0723\n",
      "Epoch 156/300\n",
      "300/300 [==============================] - 0s 783us/step - loss: 0.0699 - mean_squared_error: 0.0699 - val_loss: 0.0725 - val_mean_squared_error: 0.0725\n",
      "Epoch 157/300\n",
      "300/300 [==============================] - 0s 677us/step - loss: 0.0708 - mean_squared_error: 0.0708 - val_loss: 0.0770 - val_mean_squared_error: 0.0770\n",
      "Epoch 158/300\n",
      "300/300 [==============================] - 0s 712us/step - loss: 0.0703 - mean_squared_error: 0.0703 - val_loss: 0.0777 - val_mean_squared_error: 0.0777\n",
      "Epoch 159/300\n",
      "300/300 [==============================] - 0s 717us/step - loss: 0.0719 - mean_squared_error: 0.0719 - val_loss: 0.0703 - val_mean_squared_error: 0.0703\n",
      "Epoch 160/300\n",
      "300/300 [==============================] - 0s 709us/step - loss: 0.0706 - mean_squared_error: 0.0706 - val_loss: 0.0674 - val_mean_squared_error: 0.0674\n",
      "Epoch 161/300\n",
      "300/300 [==============================] - 0s 651us/step - loss: 0.0730 - mean_squared_error: 0.0730 - val_loss: 0.0693 - val_mean_squared_error: 0.0693\n",
      "Epoch 162/300\n",
      "300/300 [==============================] - 0s 687us/step - loss: 0.0703 - mean_squared_error: 0.0703 - val_loss: 0.0699 - val_mean_squared_error: 0.0699\n",
      "Epoch 163/300\n",
      "300/300 [==============================] - 0s 627us/step - loss: 0.0692 - mean_squared_error: 0.0692 - val_loss: 0.0700 - val_mean_squared_error: 0.0700\n",
      "Epoch 164/300\n",
      "300/300 [==============================] - 0s 663us/step - loss: 0.0685 - mean_squared_error: 0.0685 - val_loss: 0.0694 - val_mean_squared_error: 0.0694\n",
      "Epoch 165/300\n",
      "300/300 [==============================] - 0s 706us/step - loss: 0.0698 - mean_squared_error: 0.0698 - val_loss: 0.0705 - val_mean_squared_error: 0.0705\n",
      "Epoch 166/300\n",
      "300/300 [==============================] - 0s 720us/step - loss: 0.0684 - mean_squared_error: 0.0684 - val_loss: 0.0705 - val_mean_squared_error: 0.0705\n",
      "Epoch 167/300\n",
      "300/300 [==============================] - 0s 716us/step - loss: 0.0696 - mean_squared_error: 0.0696 - val_loss: 0.0732 - val_mean_squared_error: 0.0732\n",
      "Epoch 168/300\n",
      "300/300 [==============================] - 0s 738us/step - loss: 0.0710 - mean_squared_error: 0.0710 - val_loss: 0.0759 - val_mean_squared_error: 0.0759\n",
      "Epoch 169/300\n",
      "300/300 [==============================] - 0s 721us/step - loss: 0.0695 - mean_squared_error: 0.0695 - val_loss: 0.0741 - val_mean_squared_error: 0.0741\n",
      "Epoch 170/300\n",
      "300/300 [==============================] - 0s 653us/step - loss: 0.0707 - mean_squared_error: 0.0707 - val_loss: 0.0737 - val_mean_squared_error: 0.0737\n",
      "Epoch 171/300\n",
      "300/300 [==============================] - 0s 706us/step - loss: 0.0705 - mean_squared_error: 0.0705 - val_loss: 0.0695 - val_mean_squared_error: 0.0695\n",
      "Epoch 172/300\n",
      "300/300 [==============================] - 0s 724us/step - loss: 0.0723 - mean_squared_error: 0.0723 - val_loss: 0.0689 - val_mean_squared_error: 0.0689\n",
      "Epoch 173/300\n",
      "300/300 [==============================] - 0s 695us/step - loss: 0.0705 - mean_squared_error: 0.0705 - val_loss: 0.0694 - val_mean_squared_error: 0.0694\n",
      "Epoch 174/300\n",
      "300/300 [==============================] - 0s 782us/step - loss: 0.0700 - mean_squared_error: 0.0700 - val_loss: 0.0706 - val_mean_squared_error: 0.0706\n",
      "Epoch 175/300\n",
      "300/300 [==============================] - 0s 709us/step - loss: 0.0697 - mean_squared_error: 0.0697 - val_loss: 0.0685 - val_mean_squared_error: 0.0685\n",
      "Epoch 176/300\n",
      "300/300 [==============================] - 0s 613us/step - loss: 0.0696 - mean_squared_error: 0.0696 - val_loss: 0.0701 - val_mean_squared_error: 0.0701\n",
      "Epoch 177/300\n",
      "300/300 [==============================] - 0s 662us/step - loss: 0.0690 - mean_squared_error: 0.0690 - val_loss: 0.0752 - val_mean_squared_error: 0.0752\n",
      "Epoch 178/300\n",
      "300/300 [==============================] - 0s 678us/step - loss: 0.0718 - mean_squared_error: 0.0718 - val_loss: 0.0728 - val_mean_squared_error: 0.0728\n",
      "Epoch 179/300\n",
      "300/300 [==============================] - 0s 693us/step - loss: 0.0693 - mean_squared_error: 0.0693 - val_loss: 0.0698 - val_mean_squared_error: 0.0698\n",
      "Epoch 180/300\n",
      "300/300 [==============================] - 0s 701us/step - loss: 0.0691 - mean_squared_error: 0.0691 - val_loss: 0.0727 - val_mean_squared_error: 0.0727\n",
      "Epoch 181/300\n",
      "300/300 [==============================] - 0s 770us/step - loss: 0.0688 - mean_squared_error: 0.0688 - val_loss: 0.0685 - val_mean_squared_error: 0.0685\n",
      "Epoch 182/300\n",
      "300/300 [==============================] - 0s 697us/step - loss: 0.0695 - mean_squared_error: 0.0695 - val_loss: 0.0746 - val_mean_squared_error: 0.0746\n",
      "Epoch 183/300\n",
      "300/300 [==============================] - 0s 675us/step - loss: 0.0691 - mean_squared_error: 0.0691 - val_loss: 0.0729 - val_mean_squared_error: 0.0729\n",
      "Epoch 184/300\n",
      "300/300 [==============================] - 0s 713us/step - loss: 0.0705 - mean_squared_error: 0.0705 - val_loss: 0.0691 - val_mean_squared_error: 0.0691\n",
      "Epoch 185/300\n",
      "300/300 [==============================] - 0s 690us/step - loss: 0.0687 - mean_squared_error: 0.0687 - val_loss: 0.0719 - val_mean_squared_error: 0.0719\n",
      "Epoch 186/300\n",
      "300/300 [==============================] - 0s 706us/step - loss: 0.0701 - mean_squared_error: 0.0701 - val_loss: 0.0787 - val_mean_squared_error: 0.0787\n",
      "Epoch 187/300\n",
      "300/300 [==============================] - 0s 714us/step - loss: 0.0715 - mean_squared_error: 0.0715 - val_loss: 0.0734 - val_mean_squared_error: 0.0734\n",
      "Epoch 188/300\n",
      "300/300 [==============================] - 0s 707us/step - loss: 0.0696 - mean_squared_error: 0.0696 - val_loss: 0.0737 - val_mean_squared_error: 0.0737\n",
      "Epoch 189/300\n",
      "300/300 [==============================] - 0s 687us/step - loss: 0.0697 - mean_squared_error: 0.0697 - val_loss: 0.0719 - val_mean_squared_error: 0.0719\n",
      "Epoch 190/300\n",
      "300/300 [==============================] - 0s 695us/step - loss: 0.0702 - mean_squared_error: 0.0702 - val_loss: 0.0708 - val_mean_squared_error: 0.0708\n",
      "Epoch 191/300\n",
      "300/300 [==============================] - 0s 714us/step - loss: 0.0681 - mean_squared_error: 0.0681 - val_loss: 0.0737 - val_mean_squared_error: 0.0737\n",
      "Epoch 192/300\n",
      "300/300 [==============================] - 0s 705us/step - loss: 0.0703 - mean_squared_error: 0.0703 - val_loss: 0.0705 - val_mean_squared_error: 0.0705\n",
      "Epoch 193/300\n",
      "300/300 [==============================] - 0s 706us/step - loss: 0.0689 - mean_squared_error: 0.0689 - val_loss: 0.0715 - val_mean_squared_error: 0.0715\n",
      "Epoch 194/300\n",
      "300/300 [==============================] - 0s 692us/step - loss: 0.0691 - mean_squared_error: 0.0691 - val_loss: 0.0723 - val_mean_squared_error: 0.0723\n",
      "Epoch 195/300\n",
      "300/300 [==============================] - 0s 714us/step - loss: 0.0698 - mean_squared_error: 0.0698 - val_loss: 0.0706 - val_mean_squared_error: 0.0706\n",
      "Epoch 196/300\n",
      "300/300 [==============================] - 0s 671us/step - loss: 0.0703 - mean_squared_error: 0.0703 - val_loss: 0.0713 - val_mean_squared_error: 0.0713\n",
      "Epoch 197/300\n"
     ]
    },
    {
     "name": "stdout",
     "output_type": "stream",
     "text": [
      "300/300 [==============================] - 0s 695us/step - loss: 0.0705 - mean_squared_error: 0.0705 - val_loss: 0.0734 - val_mean_squared_error: 0.0734\n",
      "Epoch 198/300\n",
      "300/300 [==============================] - 0s 707us/step - loss: 0.0710 - mean_squared_error: 0.0710 - val_loss: 0.0748 - val_mean_squared_error: 0.0748\n",
      "Epoch 199/300\n",
      "300/300 [==============================] - 0s 653us/step - loss: 0.0688 - mean_squared_error: 0.0688 - val_loss: 0.0693 - val_mean_squared_error: 0.0693\n",
      "Epoch 200/300\n",
      "300/300 [==============================] - 0s 715us/step - loss: 0.0690 - mean_squared_error: 0.0690 - val_loss: 0.0709 - val_mean_squared_error: 0.0709\n",
      "Epoch 201/300\n",
      "300/300 [==============================] - 0s 730us/step - loss: 0.0711 - mean_squared_error: 0.0711 - val_loss: 0.0738 - val_mean_squared_error: 0.0738\n",
      "Epoch 202/300\n",
      "300/300 [==============================] - 0s 676us/step - loss: 0.0736 - mean_squared_error: 0.0736 - val_loss: 0.0729 - val_mean_squared_error: 0.0729\n",
      "Epoch 203/300\n",
      "300/300 [==============================] - 0s 709us/step - loss: 0.0713 - mean_squared_error: 0.0713 - val_loss: 0.0720 - val_mean_squared_error: 0.0720\n",
      "Epoch 204/300\n",
      "300/300 [==============================] - 0s 827us/step - loss: 0.0724 - mean_squared_error: 0.0724 - val_loss: 0.0723 - val_mean_squared_error: 0.0723\n",
      "Epoch 205/300\n",
      "300/300 [==============================] - 0s 880us/step - loss: 0.0702 - mean_squared_error: 0.0702 - val_loss: 0.0696 - val_mean_squared_error: 0.0696\n",
      "Epoch 206/300\n",
      "300/300 [==============================] - 0s 940us/step - loss: 0.0696 - mean_squared_error: 0.0696 - val_loss: 0.0679 - val_mean_squared_error: 0.0679\n",
      "Epoch 207/300\n",
      "300/300 [==============================] - 0s 802us/step - loss: 0.0706 - mean_squared_error: 0.0706 - val_loss: 0.0685 - val_mean_squared_error: 0.0685\n",
      "Epoch 208/300\n",
      "300/300 [==============================] - 0s 924us/step - loss: 0.0707 - mean_squared_error: 0.0707 - val_loss: 0.0737 - val_mean_squared_error: 0.0737\n",
      "Epoch 209/300\n",
      "300/300 [==============================] - 0s 784us/step - loss: 0.0707 - mean_squared_error: 0.0707 - val_loss: 0.0682 - val_mean_squared_error: 0.0682\n",
      "Epoch 210/300\n",
      "300/300 [==============================] - 0s 729us/step - loss: 0.0699 - mean_squared_error: 0.0699 - val_loss: 0.0728 - val_mean_squared_error: 0.0728\n",
      "Epoch 211/300\n",
      "300/300 [==============================] - 0s 695us/step - loss: 0.0697 - mean_squared_error: 0.0697 - val_loss: 0.0695 - val_mean_squared_error: 0.0695\n",
      "Epoch 212/300\n",
      "300/300 [==============================] - 0s 735us/step - loss: 0.0708 - mean_squared_error: 0.0708 - val_loss: 0.0719 - val_mean_squared_error: 0.0719\n",
      "Epoch 213/300\n",
      "300/300 [==============================] - 0s 726us/step - loss: 0.0725 - mean_squared_error: 0.0725 - val_loss: 0.0702 - val_mean_squared_error: 0.0702\n",
      "Epoch 214/300\n",
      "300/300 [==============================] - 0s 683us/step - loss: 0.0726 - mean_squared_error: 0.0726 - val_loss: 0.0685 - val_mean_squared_error: 0.0685\n",
      "Epoch 215/300\n",
      "300/300 [==============================] - 0s 651us/step - loss: 0.0697 - mean_squared_error: 0.0697 - val_loss: 0.0709 - val_mean_squared_error: 0.0709\n",
      "Epoch 216/300\n",
      "300/300 [==============================] - 0s 668us/step - loss: 0.0690 - mean_squared_error: 0.0690 - val_loss: 0.0730 - val_mean_squared_error: 0.0730\n",
      "Epoch 217/300\n",
      "300/300 [==============================] - 0s 709us/step - loss: 0.0679 - mean_squared_error: 0.0679 - val_loss: 0.0732 - val_mean_squared_error: 0.0732\n",
      "Epoch 218/300\n",
      "300/300 [==============================] - 0s 703us/step - loss: 0.0697 - mean_squared_error: 0.0697 - val_loss: 0.0709 - val_mean_squared_error: 0.0709\n",
      "Epoch 219/300\n",
      "300/300 [==============================] - 0s 712us/step - loss: 0.0708 - mean_squared_error: 0.0708 - val_loss: 0.0725 - val_mean_squared_error: 0.0725\n",
      "Epoch 220/300\n",
      "300/300 [==============================] - 0s 706us/step - loss: 0.0694 - mean_squared_error: 0.0694 - val_loss: 0.0744 - val_mean_squared_error: 0.0744\n",
      "Epoch 221/300\n",
      "300/300 [==============================] - 0s 667us/step - loss: 0.0689 - mean_squared_error: 0.0689 - val_loss: 0.0718 - val_mean_squared_error: 0.0718\n",
      "Epoch 222/300\n",
      "300/300 [==============================] - 0s 686us/step - loss: 0.0674 - mean_squared_error: 0.0674 - val_loss: 0.0691 - val_mean_squared_error: 0.0691\n",
      "Epoch 223/300\n",
      "300/300 [==============================] - 0s 703us/step - loss: 0.0693 - mean_squared_error: 0.0693 - val_loss: 0.0676 - val_mean_squared_error: 0.0676\n",
      "Epoch 224/300\n",
      "300/300 [==============================] - 0s 722us/step - loss: 0.0693 - mean_squared_error: 0.0693 - val_loss: 0.0714 - val_mean_squared_error: 0.0714\n",
      "Epoch 225/300\n",
      "300/300 [==============================] - 0s 682us/step - loss: 0.0696 - mean_squared_error: 0.0696 - val_loss: 0.0720 - val_mean_squared_error: 0.0720\n",
      "Epoch 226/300\n",
      "300/300 [==============================] - 0s 696us/step - loss: 0.0695 - mean_squared_error: 0.0695 - val_loss: 0.0726 - val_mean_squared_error: 0.0726\n",
      "Epoch 227/300\n",
      "300/300 [==============================] - 0s 699us/step - loss: 0.0716 - mean_squared_error: 0.0716 - val_loss: 0.0688 - val_mean_squared_error: 0.0688\n",
      "Epoch 228/300\n",
      "300/300 [==============================] - 0s 675us/step - loss: 0.0704 - mean_squared_error: 0.0704 - val_loss: 0.0711 - val_mean_squared_error: 0.0711\n",
      "Epoch 229/300\n",
      "300/300 [==============================] - 0s 686us/step - loss: 0.0710 - mean_squared_error: 0.0710 - val_loss: 0.0699 - val_mean_squared_error: 0.0699\n",
      "Epoch 230/300\n",
      "300/300 [==============================] - 0s 704us/step - loss: 0.0695 - mean_squared_error: 0.0695 - val_loss: 0.0706 - val_mean_squared_error: 0.0706\n",
      "Epoch 231/300\n",
      "300/300 [==============================] - 0s 759us/step - loss: 0.0672 - mean_squared_error: 0.0672 - val_loss: 0.0725 - val_mean_squared_error: 0.0725\n",
      "Epoch 232/300\n",
      "300/300 [==============================] - 0s 708us/step - loss: 0.0695 - mean_squared_error: 0.0695 - val_loss: 0.0720 - val_mean_squared_error: 0.0720\n",
      "Epoch 233/300\n",
      "300/300 [==============================] - 0s 713us/step - loss: 0.0664 - mean_squared_error: 0.0664 - val_loss: 0.0708 - val_mean_squared_error: 0.0708\n",
      "Epoch 234/300\n",
      "300/300 [==============================] - 0s 744us/step - loss: 0.0688 - mean_squared_error: 0.0688 - val_loss: 0.0719 - val_mean_squared_error: 0.0719\n",
      "Epoch 235/300\n",
      "300/300 [==============================] - 0s 705us/step - loss: 0.0684 - mean_squared_error: 0.0684 - val_loss: 0.0714 - val_mean_squared_error: 0.0714\n",
      "Epoch 236/300\n",
      "300/300 [==============================] - 0s 665us/step - loss: 0.0695 - mean_squared_error: 0.0695 - val_loss: 0.0725 - val_mean_squared_error: 0.0725\n",
      "Epoch 237/300\n",
      "300/300 [==============================] - 0s 703us/step - loss: 0.0702 - mean_squared_error: 0.0702 - val_loss: 0.0777 - val_mean_squared_error: 0.0777\n",
      "Epoch 238/300\n",
      "300/300 [==============================] - 0s 697us/step - loss: 0.0698 - mean_squared_error: 0.0698 - val_loss: 0.0685 - val_mean_squared_error: 0.0685\n",
      "Epoch 239/300\n",
      "300/300 [==============================] - 0s 701us/step - loss: 0.0691 - mean_squared_error: 0.0691 - val_loss: 0.0694 - val_mean_squared_error: 0.0694\n",
      "Epoch 240/300\n",
      "300/300 [==============================] - 0s 702us/step - loss: 0.0687 - mean_squared_error: 0.0687 - val_loss: 0.0691 - val_mean_squared_error: 0.0691\n",
      "Epoch 241/300\n",
      "300/300 [==============================] - 0s 727us/step - loss: 0.0691 - mean_squared_error: 0.0691 - val_loss: 0.0698 - val_mean_squared_error: 0.0698\n",
      "Epoch 242/300\n",
      "300/300 [==============================] - 0s 645us/step - loss: 0.0691 - mean_squared_error: 0.0691 - val_loss: 0.0687 - val_mean_squared_error: 0.0687\n",
      "Epoch 243/300\n",
      "300/300 [==============================] - 0s 685us/step - loss: 0.0699 - mean_squared_error: 0.0699 - val_loss: 0.0725 - val_mean_squared_error: 0.0725\n",
      "Epoch 244/300\n",
      "300/300 [==============================] - 0s 658us/step - loss: 0.0707 - mean_squared_error: 0.0707 - val_loss: 0.0749 - val_mean_squared_error: 0.0749\n",
      "Epoch 245/300\n",
      "300/300 [==============================] - 0s 715us/step - loss: 0.0688 - mean_squared_error: 0.0688 - val_loss: 0.0722 - val_mean_squared_error: 0.0722\n",
      "Epoch 246/300\n"
     ]
    },
    {
     "name": "stdout",
     "output_type": "stream",
     "text": [
      "300/300 [==============================] - 0s 733us/step - loss: 0.0680 - mean_squared_error: 0.0680 - val_loss: 0.0741 - val_mean_squared_error: 0.0741\n",
      "Epoch 247/300\n",
      "300/300 [==============================] - 0s 724us/step - loss: 0.0673 - mean_squared_error: 0.0673 - val_loss: 0.0727 - val_mean_squared_error: 0.0727\n",
      "Epoch 248/300\n",
      "300/300 [==============================] - 0s 667us/step - loss: 0.0680 - mean_squared_error: 0.0680 - val_loss: 0.0729 - val_mean_squared_error: 0.0729\n",
      "Epoch 249/300\n",
      "300/300 [==============================] - 0s 715us/step - loss: 0.0679 - mean_squared_error: 0.0679 - val_loss: 0.0735 - val_mean_squared_error: 0.0735\n",
      "Epoch 250/300\n",
      "300/300 [==============================] - 0s 681us/step - loss: 0.0689 - mean_squared_error: 0.0689 - val_loss: 0.0696 - val_mean_squared_error: 0.0696\n",
      "Epoch 251/300\n",
      "300/300 [==============================] - 0s 716us/step - loss: 0.0706 - mean_squared_error: 0.0706 - val_loss: 0.0734 - val_mean_squared_error: 0.0734\n",
      "Epoch 252/300\n",
      "300/300 [==============================] - 0s 732us/step - loss: 0.0693 - mean_squared_error: 0.0693 - val_loss: 0.0700 - val_mean_squared_error: 0.0700\n",
      "Epoch 253/300\n",
      "300/300 [==============================] - 0s 717us/step - loss: 0.0693 - mean_squared_error: 0.0693 - val_loss: 0.0697 - val_mean_squared_error: 0.0697\n",
      "Epoch 254/300\n",
      "300/300 [==============================] - 0s 721us/step - loss: 0.0707 - mean_squared_error: 0.0707 - val_loss: 0.0693 - val_mean_squared_error: 0.0693\n",
      "Epoch 255/300\n",
      "300/300 [==============================] - 0s 694us/step - loss: 0.0704 - mean_squared_error: 0.0704 - val_loss: 0.0750 - val_mean_squared_error: 0.0750\n",
      "Epoch 256/300\n",
      "300/300 [==============================] - 0s 807us/step - loss: 0.0690 - mean_squared_error: 0.0690 - val_loss: 0.0756 - val_mean_squared_error: 0.0756\n",
      "Epoch 257/300\n",
      "300/300 [==============================] - 0s 770us/step - loss: 0.0690 - mean_squared_error: 0.0690 - val_loss: 0.0761 - val_mean_squared_error: 0.0761\n",
      "Epoch 258/300\n",
      "300/300 [==============================] - 0s 731us/step - loss: 0.0694 - mean_squared_error: 0.0694 - val_loss: 0.0717 - val_mean_squared_error: 0.0717\n",
      "Epoch 259/300\n",
      "300/300 [==============================] - 0s 669us/step - loss: 0.0693 - mean_squared_error: 0.0693 - val_loss: 0.0706 - val_mean_squared_error: 0.0706\n",
      "Epoch 260/300\n",
      "300/300 [==============================] - 0s 729us/step - loss: 0.0684 - mean_squared_error: 0.0684 - val_loss: 0.0702 - val_mean_squared_error: 0.0702\n",
      "Epoch 261/300\n",
      "300/300 [==============================] - 0s 734us/step - loss: 0.0680 - mean_squared_error: 0.0680 - val_loss: 0.0681 - val_mean_squared_error: 0.0681\n",
      "Epoch 262/300\n",
      "300/300 [==============================] - 0s 703us/step - loss: 0.0667 - mean_squared_error: 0.0667 - val_loss: 0.0729 - val_mean_squared_error: 0.0729\n",
      "Epoch 263/300\n",
      "300/300 [==============================] - 0s 667us/step - loss: 0.0672 - mean_squared_error: 0.0672 - val_loss: 0.0729 - val_mean_squared_error: 0.0729\n",
      "Epoch 264/300\n",
      "300/300 [==============================] - 0s 664us/step - loss: 0.0667 - mean_squared_error: 0.0667 - val_loss: 0.0755 - val_mean_squared_error: 0.0755\n",
      "Epoch 265/300\n",
      "300/300 [==============================] - 0s 738us/step - loss: 0.0683 - mean_squared_error: 0.0683 - val_loss: 0.0701 - val_mean_squared_error: 0.0701\n",
      "Epoch 266/300\n",
      "300/300 [==============================] - 0s 695us/step - loss: 0.0692 - mean_squared_error: 0.0692 - val_loss: 0.0734 - val_mean_squared_error: 0.0734\n",
      "Epoch 267/300\n",
      "300/300 [==============================] - 0s 693us/step - loss: 0.0697 - mean_squared_error: 0.0697 - val_loss: 0.0705 - val_mean_squared_error: 0.0705\n",
      "Epoch 268/300\n",
      "300/300 [==============================] - 0s 731us/step - loss: 0.0684 - mean_squared_error: 0.0684 - val_loss: 0.0734 - val_mean_squared_error: 0.0734\n",
      "Epoch 269/300\n",
      "300/300 [==============================] - 0s 711us/step - loss: 0.0691 - mean_squared_error: 0.0691 - val_loss: 0.0726 - val_mean_squared_error: 0.0726\n",
      "Epoch 270/300\n",
      "300/300 [==============================] - 0s 669us/step - loss: 0.0695 - mean_squared_error: 0.0695 - val_loss: 0.0702 - val_mean_squared_error: 0.0702\n",
      "Epoch 271/300\n",
      "300/300 [==============================] - 0s 688us/step - loss: 0.0676 - mean_squared_error: 0.0676 - val_loss: 0.0713 - val_mean_squared_error: 0.0713\n",
      "Epoch 272/300\n",
      "300/300 [==============================] - 0s 722us/step - loss: 0.0672 - mean_squared_error: 0.0672 - val_loss: 0.0759 - val_mean_squared_error: 0.0759\n",
      "Epoch 273/300\n",
      "300/300 [==============================] - 0s 707us/step - loss: 0.0693 - mean_squared_error: 0.0693 - val_loss: 0.0729 - val_mean_squared_error: 0.0729\n",
      "Epoch 274/300\n",
      "300/300 [==============================] - 0s 719us/step - loss: 0.0699 - mean_squared_error: 0.0699 - val_loss: 0.0697 - val_mean_squared_error: 0.0697\n",
      "Epoch 275/300\n",
      "300/300 [==============================] - 0s 704us/step - loss: 0.0680 - mean_squared_error: 0.0680 - val_loss: 0.0716 - val_mean_squared_error: 0.0716\n",
      "Epoch 276/300\n",
      "300/300 [==============================] - 0s 712us/step - loss: 0.0695 - mean_squared_error: 0.0695 - val_loss: 0.0738 - val_mean_squared_error: 0.0738\n",
      "Epoch 277/300\n",
      "300/300 [==============================] - 0s 654us/step - loss: 0.0689 - mean_squared_error: 0.0689 - val_loss: 0.0719 - val_mean_squared_error: 0.0719\n",
      "Epoch 278/300\n",
      "300/300 [==============================] - 0s 699us/step - loss: 0.0680 - mean_squared_error: 0.0680 - val_loss: 0.0710 - val_mean_squared_error: 0.0710\n",
      "Epoch 279/300\n",
      "300/300 [==============================] - 0s 728us/step - loss: 0.0672 - mean_squared_error: 0.0672 - val_loss: 0.0736 - val_mean_squared_error: 0.0736\n",
      "Epoch 280/300\n",
      "300/300 [==============================] - 0s 783us/step - loss: 0.0672 - mean_squared_error: 0.0672 - val_loss: 0.0717 - val_mean_squared_error: 0.0717\n",
      "Epoch 281/300\n",
      "300/300 [==============================] - 0s 704us/step - loss: 0.0676 - mean_squared_error: 0.0676 - val_loss: 0.0694 - val_mean_squared_error: 0.0694\n",
      "Epoch 282/300\n",
      "300/300 [==============================] - 0s 723us/step - loss: 0.0677 - mean_squared_error: 0.0677 - val_loss: 0.0725 - val_mean_squared_error: 0.0725\n",
      "Epoch 283/300\n",
      "300/300 [==============================] - 0s 698us/step - loss: 0.0676 - mean_squared_error: 0.0676 - val_loss: 0.0708 - val_mean_squared_error: 0.0708\n",
      "Epoch 284/300\n",
      "300/300 [==============================] - 0s 672us/step - loss: 0.0664 - mean_squared_error: 0.0664 - val_loss: 0.0747 - val_mean_squared_error: 0.0747\n",
      "Epoch 285/300\n",
      "300/300 [==============================] - 0s 719us/step - loss: 0.0677 - mean_squared_error: 0.0677 - val_loss: 0.0716 - val_mean_squared_error: 0.0716\n",
      "Epoch 286/300\n",
      "300/300 [==============================] - 0s 705us/step - loss: 0.0694 - mean_squared_error: 0.0694 - val_loss: 0.0713 - val_mean_squared_error: 0.0713\n",
      "Epoch 287/300\n",
      "300/300 [==============================] - 0s 689us/step - loss: 0.0671 - mean_squared_error: 0.0671 - val_loss: 0.0722 - val_mean_squared_error: 0.0722\n",
      "Epoch 288/300\n",
      "300/300 [==============================] - 0s 668us/step - loss: 0.0667 - mean_squared_error: 0.0667 - val_loss: 0.0704 - val_mean_squared_error: 0.0704\n",
      "Epoch 289/300\n",
      "300/300 [==============================] - 0s 682us/step - loss: 0.0676 - mean_squared_error: 0.0676 - val_loss: 0.0754 - val_mean_squared_error: 0.0754\n",
      "Epoch 290/300\n",
      "300/300 [==============================] - 0s 668us/step - loss: 0.0684 - mean_squared_error: 0.0684 - val_loss: 0.0753 - val_mean_squared_error: 0.0753\n",
      "Epoch 291/300\n",
      "300/300 [==============================] - 0s 716us/step - loss: 0.0678 - mean_squared_error: 0.0678 - val_loss: 0.0728 - val_mean_squared_error: 0.0728\n",
      "Epoch 292/300\n",
      "300/300 [==============================] - 0s 707us/step - loss: 0.0679 - mean_squared_error: 0.0679 - val_loss: 0.0708 - val_mean_squared_error: 0.0708\n",
      "Epoch 293/300\n",
      "300/300 [==============================] - 0s 692us/step - loss: 0.0675 - mean_squared_error: 0.0675 - val_loss: 0.0675 - val_mean_squared_error: 0.0675\n",
      "Epoch 294/300\n",
      "300/300 [==============================] - 0s 704us/step - loss: 0.0697 - mean_squared_error: 0.0697 - val_loss: 0.0718 - val_mean_squared_error: 0.0718\n",
      "Epoch 295/300\n"
     ]
    },
    {
     "name": "stdout",
     "output_type": "stream",
     "text": [
      "300/300 [==============================] - 0s 703us/step - loss: 0.0685 - mean_squared_error: 0.0685 - val_loss: 0.0722 - val_mean_squared_error: 0.0722\n",
      "Epoch 296/300\n",
      "300/300 [==============================] - 0s 675us/step - loss: 0.0676 - mean_squared_error: 0.0676 - val_loss: 0.0695 - val_mean_squared_error: 0.0695\n",
      "Epoch 297/300\n",
      "300/300 [==============================] - 0s 661us/step - loss: 0.0672 - mean_squared_error: 0.0672 - val_loss: 0.0712 - val_mean_squared_error: 0.0712\n",
      "Epoch 298/300\n",
      "300/300 [==============================] - 0s 714us/step - loss: 0.0661 - mean_squared_error: 0.0661 - val_loss: 0.0704 - val_mean_squared_error: 0.0704\n",
      "Epoch 299/300\n",
      "300/300 [==============================] - 0s 703us/step - loss: 0.0665 - mean_squared_error: 0.0665 - val_loss: 0.0735 - val_mean_squared_error: 0.0735\n",
      "Epoch 300/300\n",
      "300/300 [==============================] - 0s 704us/step - loss: 0.0658 - mean_squared_error: 0.0658 - val_loss: 0.0755 - val_mean_squared_error: 0.0755\n"
     ]
    }
   ],
   "source": [
    "regressor.compile(optimizer=\"adam\", loss='mse', metrics= [\"mse\"])\n",
    "history=regressor.fit(X_train4,Y_train4,validation_data=(X_reg,Y_reg),batch_size=32, epochs=300)"
   ]
  },
  {
   "cell_type": "markdown",
   "metadata": {},
   "source": [
    "Plot of the MSE "
   ]
  },
  {
   "cell_type": "code",
   "execution_count": 222,
   "metadata": {},
   "outputs": [
    {
     "data": {
      "text/plain": [
       "[<matplotlib.lines.Line2D at 0xb353bf978>]"
      ]
     },
     "execution_count": 222,
     "metadata": {},
     "output_type": "execute_result"
    },
    {
     "data": {
      "image/png": "[encoded data removed]",
      "text/plain": [
       "<Figure size 432x288 with 1 Axes>"
      ]
     },
     "metadata": {},
     "output_type": "display_data"
    }
   ],
   "source": [
    "plt.plot(history.history[\"mean_squared_error\"])\n",
    "plt.plot(history.history[\"val_mean_squared_error\"])"
   ]
  },
  {
   "cell_type": "code",
   "execution_count": 223,
   "metadata": {},
   "outputs": [
    {
     "name": "stdout",
     "output_type": "stream",
     "text": [
      "Creating data:\n",
      "0\n",
      "10\n",
      "20\n",
      "30\n",
      "40\n",
      "50\n",
      "60\n",
      "70\n",
      "80\n",
      "90\n",
      "100\n",
      "110\n",
      "120\n",
      "130\n",
      "140\n",
      "150\n",
      "160\n",
      "170\n",
      "180\n",
      "190\n",
      "200\n",
      "210\n",
      "220\n",
      "230\n",
      "240\n",
      "250\n",
      "260\n",
      "270\n",
      "280\n",
      "290\n"
     ]
    }
   ],
   "source": [
    "[X_test4, Y_test4] = generate_test_set_regression()"
   ]
  },
  {
   "cell_type": "code",
   "execution_count": 224,
   "metadata": {},
   "outputs": [],
   "source": [
    "Y_pred4=regressor.predict(X_test4)"
   ]
  },
  {
   "cell_type": "code",
   "execution_count": 225,
   "metadata": {},
   "outputs": [
    {
     "data": {
      "image/png": "[encoded data removed]",
      "text/plain": [
       "<Figure size 360x360 with 1 Axes>"
      ]
     },
     "metadata": {},
     "output_type": "display_data"
    },
    {
     "data": {
      "image/png": "[encoded data removed]",
      "text/plain": [
       "<Figure size 360x360 with 1 Axes>"
      ]
     },
     "metadata": {},
     "output_type": "display_data"
    }
   ],
   "source": [
    "visualize_prediction(X_test4[2], Y_test4[2])\n",
    "visualize_prediction(X_test4[2], Y_pred4[2])"
   ]
  },
  {
   "cell_type": "code",
   "execution_count": 226,
   "metadata": {},
   "outputs": [],
   "source": [
    "X_Train = X_train4.reshape([-1, 72,72,1])\n",
    "X_Val = X_reg.reshape([-1, 72,72,1])"
   ]
  },
  {
   "cell_type": "code",
   "execution_count": 227,
   "metadata": {},
   "outputs": [],
   "source": [
    "CNN_regressor = Sequential()"
   ]
  },
  {
   "cell_type": "code",
   "execution_count": 228,
   "metadata": {},
   "outputs": [
    {
     "name": "stdout",
     "output_type": "stream",
     "text": [
      "Train on 300 samples, validate on 300 samples\n",
      "Epoch 1/20\n",
      "300/300 [==============================] - 113s 376ms/step - loss: 0.3355 - mean_squared_error: 0.3355 - val_loss: 0.3935 - val_mean_squared_error: 0.3935\n",
      "Epoch 2/20\n",
      "300/300 [==============================] - 106s 353ms/step - loss: 0.2809 - mean_squared_error: 0.2809 - val_loss: 0.4931 - val_mean_squared_error: 0.4931\n",
      "Epoch 3/20\n",
      "300/300 [==============================] - 96s 319ms/step - loss: 0.2573 - mean_squared_error: 0.2573 - val_loss: 0.2797 - val_mean_squared_error: 0.2797\n",
      "Epoch 4/20\n",
      "300/300 [==============================] - 96s 320ms/step - loss: 0.2327 - mean_squared_error: 0.2327 - val_loss: 0.2401 - val_mean_squared_error: 0.2401\n",
      "Epoch 5/20\n",
      "300/300 [==============================] - 96s 319ms/step - loss: 0.2052 - mean_squared_error: 0.2052 - val_loss: 0.1908 - val_mean_squared_error: 0.1908\n",
      "Epoch 6/20\n",
      "300/300 [==============================] - 96s 319ms/step - loss: 0.1720 - mean_squared_error: 0.1720 - val_loss: 0.2461 - val_mean_squared_error: 0.2461\n",
      "Epoch 7/20\n",
      "300/300 [==============================] - 96s 321ms/step - loss: 0.1356 - mean_squared_error: 0.1356 - val_loss: 0.3244 - val_mean_squared_error: 0.3244\n",
      "Epoch 8/20\n",
      "300/300 [==============================] - 96s 321ms/step - loss: 0.0997 - mean_squared_error: 0.0997 - val_loss: 0.5069 - val_mean_squared_error: 0.5069\n",
      "Epoch 9/20\n",
      "300/300 [==============================] - 96s 319ms/step - loss: 0.0745 - mean_squared_error: 0.0745 - val_loss: 0.2088 - val_mean_squared_error: 0.2088\n",
      "Epoch 10/20\n",
      "300/300 [==============================] - 96s 321ms/step - loss: 0.0712 - mean_squared_error: 0.0712 - val_loss: 5.1339 - val_mean_squared_error: 5.1339\n",
      "Epoch 11/20\n",
      "300/300 [==============================] - 96s 319ms/step - loss: 0.0745 - mean_squared_error: 0.0745 - val_loss: 1.2646 - val_mean_squared_error: 1.2646\n",
      "Epoch 12/20\n",
      "300/300 [==============================] - 95s 318ms/step - loss: 0.0669 - mean_squared_error: 0.0669 - val_loss: 1.6405 - val_mean_squared_error: 1.6405\n",
      "Epoch 13/20\n",
      "300/300 [==============================] - 96s 320ms/step - loss: 0.0571 - mean_squared_error: 0.0571 - val_loss: 5.7291 - val_mean_squared_error: 5.7291\n",
      "Epoch 14/20\n",
      "300/300 [==============================] - 96s 319ms/step - loss: 0.0474 - mean_squared_error: 0.0474 - val_loss: 85.2907 - val_mean_squared_error: 85.2907\n",
      "Epoch 15/20\n",
      "300/300 [==============================] - 96s 319ms/step - loss: 0.0523 - mean_squared_error: 0.0523 - val_loss: 19.4948 - val_mean_squared_error: 19.4948\n",
      "Epoch 16/20\n",
      "300/300 [==============================] - 96s 320ms/step - loss: 0.0542 - mean_squared_error: 0.0542 - val_loss: 6.5920 - val_mean_squared_error: 6.5920\n",
      "Epoch 17/20\n",
      "300/300 [==============================] - 97s 322ms/step - loss: 0.0420 - mean_squared_error: 0.0420 - val_loss: 151.7603 - val_mean_squared_error: 151.7603\n",
      "Epoch 18/20\n",
      "300/300 [==============================] - 95s 318ms/step - loss: 0.0406 - mean_squared_error: 0.0406 - val_loss: 11.0824 - val_mean_squared_error: 11.0824\n",
      "Epoch 19/20\n",
      "300/300 [==============================] - 96s 319ms/step - loss: 0.0333 - mean_squared_error: 0.0333 - val_loss: 3.5662 - val_mean_squared_error: 3.5662\n",
      "Epoch 20/20\n",
      "300/300 [==============================] - 96s 321ms/step - loss: 0.0303 - mean_squared_error: 0.0303 - val_loss: 7.1038 - val_mean_squared_error: 7.1038\n"
     ]
    }
   ],
   "source": [
    "CNN_regressor.add(Conv2D(256,(3,3),input_shape=(72,72,1,),padding=\"same\", activation='relu'))\n",
    "CNN_regressor.add(BatchNormalization())\n",
    "CNN_regressor.add(MaxPooling2D(pool_size=(2,2)))\n",
    "\n",
    "CNN_regressor.add(Conv2D(256,(3,3),input_shape=(72,72,1,), padding=\"same\",activation='relu'))\n",
    "CNN_regressor.add(BatchNormalization())\n",
    "CNN_regressor.add(MaxPooling2D(pool_size=(2,2)))\n",
    "\n",
    "CNN_regressor.add(Conv2D(256,(3,3),input_shape=(72,72,1,), padding=\"same\",activation='relu'))\n",
    "CNN_regressor.add(BatchNormalization())\n",
    "CNN_regressor.add(MaxPooling2D(pool_size=(2,2)))\n",
    "\n",
    "CNN_regressor.add(Flatten())\n",
    "CNN_regressor.add(Dense(units=64, kernel_initializer=\"uniform\", activation=\"relu\"))\n",
    "CNN_regressor.add(BatchNormalization())\n",
    "CNN_regressor.add(Dense(units=6, kernel_initializer=\"uniform\"))\n",
    "CNN_regressor.compile(loss='mse', optimizer='adam', metrics= [\"mse\"])\n",
    "\n",
    "history=CNN_regressor.fit(X_Train,Y_train4,batch_size=32, validation_data=(X_Val, Y_reg),epochs=20)"
   ]
  },
  {
   "cell_type": "code",
   "execution_count": 229,
   "metadata": {},
   "outputs": [],
   "source": [
    "X_Test = X_test4.reshape([-1, 72,72,1])"
   ]
  },
  {
   "cell_type": "code",
   "execution_count": 230,
   "metadata": {},
   "outputs": [],
   "source": [
    "Y_pred=CNN_regressor.predict(X_Test)"
   ]
  },
  {
   "cell_type": "markdown",
   "metadata": {},
   "source": [
    "#### Plot of a sample of the test set and its prediction"
   ]
  },
  {
   "cell_type": "code",
   "execution_count": 232,
   "metadata": {},
   "outputs": [
    {
     "data": {
      "image/png": "[encoded data removed]",
      "text/plain": [
       "<Figure size 360x360 with 1 Axes>"
      ]
     },
     "metadata": {},
     "output_type": "display_data"
    },
    {
     "data": {
      "image/png": "[encoded data removed]",
      "text/plain": [
       "<Figure size 360x360 with 1 Axes>"
      ]
     },
     "metadata": {},
     "output_type": "display_data"
    }
   ],
   "source": [
    "visualize_prediction(X_test4[0], Y_test4[0])\n",
    "visualize_prediction(X_test4[0], Y_pred[0])"
   ]
  },
  {
   "cell_type": "markdown",
   "metadata": {},
   "source": [
    "# 7) Image Denoising "
   ]
  },
  {
   "cell_type": "markdown",
   "metadata": {},
   "source": [
    "#### New functions"
   ]
  },
  {
   "cell_type": "code",
   "execution_count": 114,
   "metadata": {},
   "outputs": [],
   "source": [
    "def generate_a_drawing2(figsize, U, V, noise=0.0):\n",
    "    fig = plt.figure(figsize=(figsize, figsize))\n",
    "    ax = plt.subplot(111)\n",
    "    plt.axis('Off')\n",
    "    ax.set_xlim(0, figsize)\n",
    "    ax.set_ylim(0, figsize)\n",
    "    ax.fill(U, V, \"k\")\n",
    "    fig.canvas.draw()\n",
    "    imdata = np.frombuffer(fig.canvas.tostring_rgb(), dtype=np.uint8)[\n",
    "        ::3].astype(np.float32)\n",
    "    imdatan = imdata + noise * np.random.random(imdata.size)\n",
    "    plt.close(fig)\n",
    "    return imdatan, imdata"
   ]
  },
  {
   "cell_type": "code",
   "execution_count": 115,
   "metadata": {},
   "outputs": [],
   "source": [
    "def generate_a_triangle2(noise=0.0, free_location=False):\n",
    "    figsize = 1.0\n",
    "    if free_location:\n",
    "        U = np.random.random(3)\n",
    "        V = np.random.random(3)\n",
    "    else:\n",
    "        size = (0.3 + 0.7 * np.random.random()) * figsize / 2\n",
    "        middle = figsize / 2\n",
    "        U = (middle, middle + size, middle - size)\n",
    "        V = (middle + size, middle - size, middle - size)\n",
    "    imdatan, imdata = generate_a_drawing2(figsize, U, V, noise)\n",
    "    return [imdatan,imdata, [U[0], V[0], U[1], V[1], U[2], V[2]]]"
   ]
  },
  {
   "cell_type": "code",
   "execution_count": 116,
   "metadata": {},
   "outputs": [],
   "source": [
    "def generate_a_rectangle2(noise=0.0, free_location=False):\n",
    "    figsize = 1.0\n",
    "    U = np.zeros(4)\n",
    "    V = np.zeros(4)\n",
    "    if free_location:\n",
    "        corners = np.random.random(4)\n",
    "        top = max(corners[0], corners[1])\n",
    "        bottom = min(corners[0], corners[1])\n",
    "        left = min(corners[2], corners[3])\n",
    "        right = max(corners[2], corners[3])\n",
    "    else:\n",
    "        side = (0.3 + 0.7 * np.random.random()) * figsize\n",
    "        top = figsize / 2 + side / 2\n",
    "        bottom = figsize / 2 - side / 2\n",
    "        left = bottom\n",
    "        right = top\n",
    "    U[0] = U[1] = top\n",
    "    U[2] = U[3] = bottom\n",
    "    V[0] = V[3] = left\n",
    "    V[1] = V[2] = right\n",
    "    return generate_a_drawing2(figsize, U, V, noise)"
   ]
  },
  {
   "cell_type": "code",
   "execution_count": 117,
   "metadata": {},
   "outputs": [],
   "source": [
    "def generate_a_disk2(noise=0.0, free_location=False):\n",
    "    figsize = 1.0\n",
    "    if free_location:\n",
    "        center = np.random.random(2)\n",
    "    else:\n",
    "        center = (figsize / 2, figsize / 2)\n",
    "    radius = (0.3 + 0.7 * np.random.random()) * figsize / 2\n",
    "    N = 50\n",
    "    U = np.zeros(N)\n",
    "    V = np.zeros(N)\n",
    "    i = 0\n",
    "    for t in np.linspace(0, 2 * np.pi, N):\n",
    "        U[i] = center[0] + np.cos(t) * radius\n",
    "        V[i] = center[1] + np.sin(t) * radius\n",
    "        i = i + 1\n",
    "    return generate_a_drawing2(figsize, U, V, noise)"
   ]
  },
  {
   "cell_type": "code",
   "execution_count": 118,
   "metadata": {},
   "outputs": [],
   "source": [
    "def generate_dataset_2(nb_samples, noise=0.0, free_location=False):\n",
    "    # Getting im_size:\n",
    "    im_size = generate_a_rectangle2()[0].shape[0]\n",
    "    X = np.zeros([nb_samples, im_size])\n",
    "    Y = np.zeros([nb_samples, im_size])\n",
    "    print('Creating data:')\n",
    "    for i in range(nb_samples):\n",
    "        if i % 100 == 0:\n",
    "            print(i)\n",
    "        category = np.random.randint(3)\n",
    "        if category == 0:\n",
    "            X[i], Y[i] = generate_a_rectangle2(noise, free_location)\n",
    "        elif category == 1:\n",
    "            X[i],Y[i] = generate_a_disk2(noise, free_location)\n",
    "        else:\n",
    "            [X[i],Y[i], V] = generate_a_triangle2(noise, free_location)\n",
    "    X = (X + noise) / (255 + 2 * noise)\n",
    "    Y = Y/255\n",
    "    return [X, Y]"
   ]
  },
  {
   "cell_type": "markdown",
   "metadata": {},
   "source": [
    "New train set"
   ]
  },
  {
   "cell_type": "code",
   "execution_count": 119,
   "metadata": {},
   "outputs": [
    {
     "name": "stdout",
     "output_type": "stream",
     "text": [
      "Creating data:\n",
      "0\n",
      "100\n",
      "200\n",
      "300\n",
      "400\n"
     ]
    }
   ],
   "source": [
    "[X_train5,Y_train5]=generate_dataset_2(500,20,True)"
   ]
  },
  {
   "cell_type": "markdown",
   "metadata": {},
   "source": [
    "Plot of a sample of the train set"
   ]
  },
  {
   "cell_type": "code",
   "execution_count": 142,
   "metadata": {
    "scrolled": true
   },
   "outputs": [
    {
     "data": {
      "text/plain": [
       "<matplotlib.image.AxesImage at 0xb3568a828>"
      ]
     },
     "execution_count": 142,
     "metadata": {},
     "output_type": "execute_result"
    },
    {
     "data": {
      "image/png": "[encoded data removed]",
      "text/plain": [
       "<Figure size 432x288 with 1 Axes>"
      ]
     },
     "metadata": {},
     "output_type": "display_data"
    }
   ],
   "source": [
    "plt.imshow(Y_train5[300].reshape(IMAGE_SIZE, IMAGE_SIZE), cmap='gray')"
   ]
  },
  {
   "cell_type": "code",
   "execution_count": 143,
   "metadata": {},
   "outputs": [
    {
     "data": {
      "text/plain": [
       "<matplotlib.image.AxesImage at 0xb339d27f0>"
      ]
     },
     "execution_count": 143,
     "metadata": {},
     "output_type": "execute_result"
    },
    {
     "data": {
      "image/png": "[encoded data removed]",
      "text/plain": [
       "<Figure size 432x288 with 1 Axes>"
      ]
     },
     "metadata": {},
     "output_type": "display_data"
    }
   ],
   "source": [
    "plt.imshow(X_train5[300].reshape(IMAGE_SIZE, IMAGE_SIZE), cmap='gray')"
   ]
  },
  {
   "cell_type": "code",
   "execution_count": 144,
   "metadata": {},
   "outputs": [],
   "source": [
    "X_train6 = X_train5.reshape(X_train5.shape[0],72,72,1)\n",
    "Y_train6 = Y_train5.reshape(Y_train5.shape[0],72,72,1)"
   ]
  },
  {
   "cell_type": "code",
   "execution_count": 145,
   "metadata": {},
   "outputs": [],
   "source": [
    "model6 = Sequential()\n",
    "\n",
    "model6.add(Conv2D(32,(3, 3), activation='relu',padding = 'same' ,input_shape=(72,72,1)))\n",
    "model6.add(MaxPooling2D(pool_size=(2, 2)))\n",
    "model6.add(Conv2D(32,(3,3), activation = 'relu', padding = 'same'))\n",
    "model6.add(MaxPooling2D(pool_size=(2,2)))\n",
    "\n",
    "model6.add(Conv2D(32, kernel_size=(3, 3), activation='relu', padding = 'same'))\n",
    "model6.add(UpSampling2D(size=(2, 2)))\n",
    "model6.add(Conv2D(32, kernel_size=(3, 3), activation='relu', padding = 'same'))\n",
    "model6.add(UpSampling2D(size=(2, 2)))\n",
    "model6.add(Conv2D(1, kernel_size=(3, 3), activation='sigmoid', padding = 'same'))"
   ]
  },
  {
   "cell_type": "code",
   "execution_count": 147,
   "metadata": {},
   "outputs": [
    {
     "name": "stdout",
     "output_type": "stream",
     "text": [
      "Epoch 1/10\n",
      "500/500 [==============================] - 13s 25ms/step - loss: 0.4163 - acc: 0.8134\n",
      "Epoch 2/10\n",
      "500/500 [==============================] - 10s 19ms/step - loss: 0.2106 - acc: 0.9057\n",
      "Epoch 3/10\n",
      "500/500 [==============================] - 10s 20ms/step - loss: 0.1786 - acc: 0.9362\n",
      "Epoch 4/10\n",
      "500/500 [==============================] - 10s 21ms/step - loss: 0.1276 - acc: 0.9664\n",
      "Epoch 5/10\n",
      "500/500 [==============================] - 10s 20ms/step - loss: 0.0639 - acc: 0.9843\n",
      "Epoch 6/10\n",
      "500/500 [==============================] - 10s 21ms/step - loss: 0.0473 - acc: 0.9843\n",
      "Epoch 7/10\n",
      "500/500 [==============================] - 9s 18ms/step - loss: 0.0419 - acc: 0.9851\n",
      "Epoch 8/10\n",
      "500/500 [==============================] - 10s 20ms/step - loss: 0.0415 - acc: 0.9849\n",
      "Epoch 9/10\n",
      "500/500 [==============================] - 8s 17ms/step - loss: 0.0349 - acc: 0.9872\n",
      "Epoch 10/10\n",
      "500/500 [==============================] - 8s 17ms/step - loss: 0.0383 - acc: 0.9857\n"
     ]
    },
    {
     "data": {
      "text/plain": [
       "<keras.callbacks.History at 0xb339ca6a0>"
      ]
     },
     "execution_count": 147,
     "metadata": {},
     "output_type": "execute_result"
    }
   ],
   "source": [
    "model6.compile(optimizer='adadelta',loss='binary_crossentropy',metrics=['accuracy'])\n",
    "model6.fit(X_train6, Y_train6, epochs=10, batch_size=64)"
   ]
  },
  {
   "cell_type": "code",
   "execution_count": 148,
   "metadata": {},
   "outputs": [],
   "source": [
    "Xim = X_train6[9]\n",
    "Xim = Xim.reshape(1,72,72,1)"
   ]
  },
  {
   "cell_type": "code",
   "execution_count": 149,
   "metadata": {},
   "outputs": [],
   "source": [
    "prediction=model6.predict(Xim)"
   ]
  },
  {
   "cell_type": "code",
   "execution_count": 150,
   "metadata": {},
   "outputs": [],
   "source": [
    "prediction=prediction.reshape(72,72)"
   ]
  },
  {
   "cell_type": "markdown",
   "metadata": {},
   "source": [
    "Plot of its prediction"
   ]
  },
  {
   "cell_type": "code",
   "execution_count": 151,
   "metadata": {},
   "outputs": [
    {
     "data": {
      "text/plain": [
       "<matplotlib.image.AxesImage at 0xb34da9208>"
      ]
     },
     "execution_count": 151,
     "metadata": {},
     "output_type": "execute_result"
    },
    {
     "data": {
      "image/png": "[encoded data removed]",
      "text/plain": [
       "<Figure size 432x288 with 1 Axes>"
      ]
     },
     "metadata": {},
     "output_type": "display_data"
    }
   ],
   "source": [
    "plt.imshow(prediction, cmap='gray')"
   ]
  }
 ],
 "metadata": {
  "kernelspec": {
   "display_name": "Python 3",
   "language": "python",
   "name": "python3"
  },
  "language_info": {
   "codemirror_mode": {
    "name": "ipython",
    "version": 3
   },
   "file_extension": ".py",
   "mimetype": "text/x-python",
   "name": "python",
   "nbconvert_exporter": "python",
   "pygments_lexer": "ipython3",
   "version": "3.6.5"
  }
 },
 "nbformat": 4,
 "nbformat_minor": 2
}
