{
 "cells": [
  {
   "cell_type": "markdown",
   "metadata": {},
   "source": [
    "**You may need to install [OpenCV](https://pypi.python.org/pypi/opencv-python) and [scikit-video](http://www.scikit-video.org/stable/).**"
   ]
  },
  {
   "cell_type": "code",
   "execution_count": 1,
   "metadata": {},
   "outputs": [
    {
     "name": "stderr",
     "output_type": "stream",
     "text": [
      "/Users/vadimbenichou/anaconda3/lib/python3.6/site-packages/h5py/__init__.py:36: FutureWarning: Conversion of the second argument of issubdtype from `float` to `np.floating` is deprecated. In future, it will be treated as `np.float64 == np.dtype(float).type`.\n",
      "  from ._conv import register_converters as _register_converters\n",
      "Using TensorFlow backend.\n"
     ]
    }
   ],
   "source": [
    "import keras\n",
    "import numpy as np\n",
    "import io\n",
    "import base64\n",
    "from IPython.display import HTML\n",
    "import skvideo.io\n",
    "import cv2\n",
    "import json\n",
    "import random\n",
    "\n",
    "from keras.models import Sequential,model_from_json\n",
    "from keras.layers.core import Dense\n",
    "from keras.optimizers import sgd\n",
    "from keras.layers import Conv2D, MaxPooling2D, Activation, AveragePooling2D,Reshape,BatchNormalization,Flatten"
   ]
  },
  {
   "cell_type": "markdown",
   "metadata": {},
   "source": [
    "# MiniProject #3: Deep Reinforcement Learning"
   ]
  },
  {
   "cell_type": "markdown",
   "metadata": {},
   "source": [
    "__Notations__: $E_p$ is the expectation under probability $p$. Please justify each of your answer and widely comment your code."
   ]
  },
  {
   "cell_type": "markdown",
   "metadata": {},
   "source": [
    "# Context"
   ]
  },
  {
   "cell_type": "markdown",
   "metadata": {},
   "source": [
    "In a reinforcement learning algorithm, we modelize each step $t$ as an action $a_t$ obtained from a state $s_t$, i.e. $\\{(a_{t},s_{t})_{t\\leq T}\\}$ having the Markov property. We consider a discount factor $\\gamma \\in [0,1]$ that ensures convergence. The goal is to find among all the policies $\\pi$, one that maximizes the expected reward:\n",
    "\n",
    "\\begin{equation*}\n",
    "R(\\pi)=\\sum_{t\\leq T}E_{p^{\\pi}}[\\gamma^t r(s_{t},a_{t})] \\> ,\n",
    "\\end{equation*}\n",
    "\n",
    "where: \n",
    "\\begin{equation*}p^{\\pi}(a_{0},a_{1},s_{1},...,a_{T},s_{T})=p(a_{0})\\prod_{t=1}^{T}\\pi(a_{t}|s_{t})p(s_{t+1}|s_{t},a_{t}) \\> .\n",
    "\\end{equation*}\n",
    "\n",
    "We note the $Q$-function:\n",
    "\n",
    "\\begin{equation*}Q^\\pi(s,a)=E_{p^{\\pi}}[\\sum_{t\\leq T}\\gamma^{t}r(s_{t},a_{t})|s_{0}=s,a_{0}=a] \\> .\n",
    "\\end{equation*}\n",
    "\n",
    "Thus, the optimal Q function is:\n",
    "\\begin{equation*}\n",
    "Q^*(s,a)=\\max_{\\pi}Q^\\pi(s,a) \\> .\n",
    "\\end{equation*}\n",
    "\n",
    "In this project, we will apply the deep reinforcement learning techniques to a simple game: an agent will have to learn from scratch a policy that will permit it maximizing a reward."
   ]
  },
  {
   "cell_type": "markdown",
   "metadata": {},
   "source": [
    "## The environment, the agent and the game"
   ]
  },
  {
   "cell_type": "markdown",
   "metadata": {},
   "source": [
    "### The environment"
   ]
  },
  {
   "cell_type": "markdown",
   "metadata": {},
   "source": [
    "```Environment``` is an abstract class that represents the states, rewards, and actions to obtain the new state."
   ]
  },
  {
   "cell_type": "code",
   "execution_count": 2,
   "metadata": {},
   "outputs": [],
   "source": [
    "class Environment(object):\n",
    "    def __init__(self):\n",
    "        pass\n",
    "\n",
    "    def act(self, act):\n",
    "        \"\"\"\n",
    "        One can act on the environment and obtain its reaction:\n",
    "        - the new state\n",
    "        - the reward of the new state\n",
    "        - should we continue the game?\n",
    "\n",
    "        :return: state, reward, game_over\n",
    "        \"\"\"\n",
    "        pass\n",
    "\n",
    "\n",
    "    def reset(self):\n",
    "        \"\"\"\n",
    "        Reinitialize the environment to a random state and returns\n",
    "        the original state\n",
    "\n",
    "        :return: state\n",
    "        \"\"\"\n",
    "        pass\n",
    "    \n",
    "    def draw(self):\n",
    "        \"\"\"\n",
    "        Visualize in the console or graphically the current state\n",
    "        \"\"\"\n",
    "        pass"
   ]
  },
  {
   "cell_type": "markdown",
   "metadata": {},
   "source": [
    "The method ```act``` allows to act on the environment at a given state $s_t$ (stored internally), via action $a_t$. The method will return the new state $s_{t+1}$, the reward $r(s_{t},a_{t})$ and determines if $t\\leq T$ (*game_over*).\n",
    "\n",
    "The method ```reset``` simply reinitializes the environment to a random state $s_0$.\n",
    "\n",
    "The method ```draw``` displays the current state $s_t$ (this is useful to check the behavior of the Agent).\n",
    "\n",
    "We modelize $s_t$ as a tensor, while $a_t$ is an integer."
   ]
  },
  {
   "cell_type": "markdown",
   "metadata": {},
   "source": [
    "### The Agent"
   ]
  },
  {
   "cell_type": "markdown",
   "metadata": {},
   "source": [
    "The goal of the ```Agent``` is to interact with the ```Environment``` by proposing actions $a_t$ obtained from a given state $s_t$ to attempt to maximize its __reward__ $r(s_t,a_t)$. We propose the following abstract class:"
   ]
  },
  {
   "cell_type": "code",
   "execution_count": 3,
   "metadata": {},
   "outputs": [],
   "source": [
    "class Agent(object):\n",
    "    def __init__(self, epsilon=0.1, n_action=4):\n",
    "        self.epsilon = epsilon\n",
    "        self.n_action = n_action\n",
    "    \n",
    "    def set_epsilon(self,e):\n",
    "        self.epsilon = e\n",
    "\n",
    "    def act(self,s,train=True):\n",
    "        \"\"\" This function should return the next action to do:\n",
    "        an integer between 0 and 4 (not included) with a random exploration of epsilon\"\"\"\n",
    "        if train:\n",
    "            if np.random.rand() <= self.epsilon:\n",
    "                a = np.random.randint(0, self.n_action, size=1)[0]\n",
    "            else:\n",
    "                a = self.learned_act(s)\n",
    "        else: # in some cases, this can improve the performance.. remove it if poor performances\n",
    "            a = self.learned_act(s)\n",
    "\n",
    "        return a\n",
    "\n",
    "    def learned_act(self,s):\n",
    "        \"\"\" Act via the policy of the agent, from a given state s\n",
    "        it proposes an action a\"\"\"\n",
    "        pass\n",
    "\n",
    "    def reinforce(self, s, n_s, a, r, game_over_):\n",
    "        \"\"\" This function is the core of the learning algorithm. \n",
    "        It takes as an input the current state s_, the next state n_s_\n",
    "        the action a_ used to move from s_ to n_s_ and the reward r_.\n",
    "        \n",
    "        Its goal is to learn a policy.\n",
    "        \"\"\"\n",
    "        pass\n",
    "\n",
    "    def save(self):\n",
    "        \"\"\" This function returns basic stats if applicable: the\n",
    "        loss and/or the model\"\"\"\n",
    "        pass\n",
    "\n",
    "    def load(self):\n",
    "        \"\"\" This function allows to restore a model\"\"\"\n",
    "        pass"
   ]
  },
  {
   "cell_type": "markdown",
   "metadata": {},
   "source": [
    "***\n",
    "__Question 1__:\n",
    "Explain the function act. Why is ```epsilon``` essential?"
   ]
  },
  {
   "cell_type": "markdown",
   "metadata": {},
   "source": [
    "The function `act` return the action to choose according the state s. The model is training with a probablity $\\epsilon$, then the function chooses the next random action. And with a probability $(1-\\epsilon)$, the function chooses the learned action via the policy of the agent. \n",
    "\n",
    "`epsilon` is essential because it measures the exploration of the action. When `epsilon` is too high, the agent will explore most of the policies and reach to the optimal policy, but it will continue to explore even if the optimal policy is learnt. \n",
    "On the other hand, if `epsilon`is too low, the agent will not explore many policies and it will take time to reach and to learn the optimal policy. "
   ]
  },
  {
   "cell_type": "markdown",
   "metadata": {},
   "source": [
    "***\n",
    "### The Game"
   ]
  },
  {
   "cell_type": "markdown",
   "metadata": {},
   "source": [
    "The ```Agent``` and the ```Environment``` work in an interlaced way as in the following (take some time to understand this code as it is the core of the project)\n",
    "\n",
    "```python\n",
    "\n",
    "epoch = 300\n",
    "env = Environment()\n",
    "agent = Agent()\n",
    "\n",
    "\n",
    "# Number of won games\n",
    "score = 0\n",
    "loss = 0\n",
    "\n",
    "\n",
    "for e in range(epoch):\n",
    "    # At each epoch, we restart to a fresh game and get the initial state\n",
    "    state = env.reset()\n",
    "    # This assumes that the games will end\n",
    "    game_over = False\n",
    "\n",
    "    win = 0\n",
    "    lose = 0\n",
    "    \n",
    "    while not game_over:\n",
    "        # The agent performs an action\n",
    "        action = agent.act(state)\n",
    "\n",
    "        # Apply an action to the environment, get the next state, the reward\n",
    "        # and if the games end\n",
    "        prev_state = state\n",
    "        state, reward, game_over = env.act(action)\n",
    "\n",
    "        # Update the counters\n",
    "        if reward > 0:\n",
    "            win = win + reward\n",
    "        if reward < 0:\n",
    "            lose = lose -reward\n",
    "\n",
    "        # Apply the reinforcement strategy\n",
    "        loss = agent.reinforce(prev_state, state,  action, reward, game_over)\n",
    "\n",
    "    # Save as a mp4\n",
    "    if e % 10 == 0:\n",
    "        env.draw(e)\n",
    "\n",
    "    # Update stats\n",
    "    score += win-lose\n",
    "\n",
    "    print(\"Epoch {:03d}/{:03d} | Loss {:.4f} | Win/lose count {}/{} ({})\"\n",
    "          .format(e, epoch, loss, win, lose, win-lose))\n",
    "    agent.save()\n",
    "```"
   ]
  },
  {
   "cell_type": "markdown",
   "metadata": {},
   "source": [
    "# The game, *eat cheese*"
   ]
  },
  {
   "cell_type": "markdown",
   "metadata": {},
   "source": [
    "A rat runs on an island and tries to eat as much as possible. The island is subdivided into $N\\times N$ cells, in which there are cheese (+0.5) and poisonous cells (-1). The rat has a visibility of 2 cells (thus it can see $5^2$ cells). The rat is given a time $T$ to accumulate as much food as possible. It can perform 4 actions: going up, down, left, right. \n",
    "\n",
    "The goal is to code an agent to solve this task that will learn by trial and error. We propose the following environment:"
   ]
  },
  {
   "cell_type": "code",
   "execution_count": 4,
   "metadata": {},
   "outputs": [],
   "source": [
    "class Environment(object):\n",
    "    def __init__(self, grid_size=10, max_time=500, temperature=0.1):\n",
    "        grid_size = grid_size+4\n",
    "        self.grid_size = grid_size\n",
    "        self.max_time = max_time\n",
    "        self.temperature = temperature\n",
    "\n",
    "        #board on which one plays\n",
    "        self.board = np.zeros((grid_size,grid_size))\n",
    "        self.position = np.zeros((grid_size,grid_size))\n",
    "\n",
    "        # coordinate of the cat\n",
    "        self.x = 0\n",
    "        self.y = 1\n",
    "\n",
    "        # self time\n",
    "        self.t = 0\n",
    "\n",
    "        self.scale=16\n",
    "\n",
    "        self.to_draw = np.zeros((max_time+2, grid_size*self.scale, grid_size*self.scale, 3))\n",
    "\n",
    "\n",
    "    def draw(self,e):\n",
    "        skvideo.io.vwrite(str(e) + '.mp4', self.to_draw)\n",
    "\n",
    "    def get_frame(self,t):\n",
    "        b = np.zeros((self.grid_size,self.grid_size,3))+128\n",
    "        b[self.board>0,0] = 256\n",
    "        b[self.board < 0, 2] = 256\n",
    "        b[self.x,self.y,:]=256\n",
    "        b[-2:,:,:]=0\n",
    "        b[:,-2:,:]=0\n",
    "        b[:2,:,:]=0\n",
    "        b[:,:2,:]=0\n",
    "        \n",
    "        b =  cv2.resize(b, None, fx=self.scale, fy=self.scale, interpolation=cv2.INTER_NEAREST)\n",
    "\n",
    "        self.to_draw[t,:,:,:]=b\n",
    "\n",
    "\n",
    "    def act(self, action):\n",
    "        \"\"\"This function returns the new state, reward and decides if the\n",
    "        game ends.\"\"\"\n",
    "\n",
    "        self.get_frame(int(self.t))\n",
    "\n",
    "        self.position = np.zeros((self.grid_size, self.grid_size))\n",
    "\n",
    "        self.position[0:2,:]= -1\n",
    "        self.position[:,0:2] = -1\n",
    "        self.position[-2:, :] = -1\n",
    "        self.position[:,-2 :] = -1 # I change it maybe a mistake \n",
    "\n",
    "        self.position[self.x, self.y] = 1\n",
    "        if action == 0:\n",
    "            if self.x == self.grid_size-3:\n",
    "                self.x = self.x-1\n",
    "            else:\n",
    "                self.x = self.x + 1\n",
    "        elif action == 1:\n",
    "            if self.x == 2:\n",
    "                self.x = self.x+1\n",
    "            else:\n",
    "                self.x = self.x-1\n",
    "        elif action == 2:\n",
    "            if self.y == self.grid_size - 3:\n",
    "                self.y = self.y - 1\n",
    "            else:\n",
    "                self.y = self.y + 1\n",
    "        elif action == 3:\n",
    "            if self.y == 2:\n",
    "                self.y = self.y + 1\n",
    "            else:\n",
    "                self.y = self.y - 1\n",
    "        else:\n",
    "            RuntimeError('Error: action not recognized')\n",
    "\n",
    "        self.t = self.t + 1\n",
    "        reward = self.board[self.x, self.y]\n",
    "        self.board[self.x, self.y] = 0\n",
    "        game_over = self.t > self.max_time\n",
    "        state = np.concatenate((self.board.reshape(self.grid_size, self.grid_size,1),\n",
    "                        self.position.reshape(self.grid_size, self.grid_size,1)),axis=2)\n",
    "        state = state[self.x-2:self.x+3,self.y-2:self.y+3,:]\n",
    "\n",
    "        return state, reward, game_over\n",
    "\n",
    "    def reset(self):\n",
    "        \"\"\"This function resets the game and returns the initial state\"\"\"\n",
    "\n",
    "        self.x = np.random.randint(3, self.grid_size-3, size=1)[0]\n",
    "        self.y = np.random.randint(3, self.grid_size-3, size=1)[0]\n",
    "\n",
    "\n",
    "        bonus = 0.5*np.random.binomial(1,self.temperature,size=self.grid_size**2)\n",
    "        bonus = bonus.reshape(self.grid_size,self.grid_size)\n",
    "\n",
    "        malus = -1.0*np.random.binomial(1,self.temperature,size=self.grid_size**2)\n",
    "        malus = malus.reshape(self.grid_size, self.grid_size)\n",
    "\n",
    "        self.to_draw = np.zeros((self.max_time+2, self.grid_size*self.scale, self.grid_size*self.scale, 3))\n",
    "\n",
    "\n",
    "        malus[bonus>0]=0\n",
    "\n",
    "        self.board = bonus + malus\n",
    "\n",
    "        self.position = np.zeros((self.grid_size, self.grid_size))\n",
    "        self.position[0:2,:]= -1\n",
    "        self.position[:,0:2] = -1\n",
    "        self.position[-2:, :] = -1\n",
    "        self.position[:,-2 :] = -1  # I change it maybe a mistake \n",
    "        self.board[self.x,self.y] = 0\n",
    "        self.t = 0\n",
    "\n",
    "        state = np.concatenate((\n",
    "                               self.board.reshape(self.grid_size, self.grid_size,1),\n",
    "                        self.position.reshape(self.grid_size, self.grid_size,1)),axis=2)\n",
    "\n",
    "        state = state[self.x - 2:self.x + 3, self.y - 2:self.y + 3, :]\n",
    "        return state"
   ]
  },
  {
   "cell_type": "markdown",
   "metadata": {},
   "source": [
    "The following elements are important because they correspond to the hyper parameters for this project:"
   ]
  },
  {
   "cell_type": "code",
   "execution_count": 5,
   "metadata": {},
   "outputs": [],
   "source": [
    "# parameters\n",
    "size = 13\n",
    "T=200\n",
    "temperature=0.3\n",
    "epochs_train=50 # set small when debugging\n",
    "epochs_test=15 # set small when debugging\n",
    "\n",
    "# display videos\n",
    "def display_videos(name):\n",
    "    video = io.open(name, 'r+b').read()\n",
    "    encoded = base64.b64encode(video)\n",
    "    return '''<video alt=\"test\" controls>\n",
    "                <source src=\"data:video/mp4;base64,{0}\" type=\"video/mp4\" />\n",
    "             </video>'''.format(encoded.decode('ascii'))"
   ]
  },
  {
   "cell_type": "markdown",
   "metadata": {},
   "source": [
    "__Question 2__ Explain the use of the arrays ```position``` and ```board```."
   ]
  },
  {
   "cell_type": "markdown",
   "metadata": {},
   "source": [
    "The `position` is an array of the environment, where borders and margins have a value of -1 because it can not be reached by the rat. The other cells have a value of 0 except for the previous value of the rat that is has a value of 1. \n",
    "\n",
    "The `board` is an array that contains the rewards of the Game, cell with cheese have a rewards of 0.5 and poisonous cells have a rewards of -1"
   ]
  },
  {
   "cell_type": "markdown",
   "metadata": {},
   "source": [
    "## Random Agent"
   ]
  },
  {
   "cell_type": "markdown",
   "metadata": {},
   "source": [
    "***\n",
    "__Question 3__ Implement a random Agent (only ```learned_act``` needs to be implemented):"
   ]
  },
  {
   "cell_type": "code",
   "execution_count": 6,
   "metadata": {},
   "outputs": [],
   "source": [
    "class RandomAgent(Agent):\n",
    "    def __init__(self):\n",
    "        super(RandomAgent, self).__init__()\n",
    "        pass\n",
    "\n",
    "    def learned_act(self, s):\n",
    "        return np.random.randint(0,4)"
   ]
  },
  {
   "cell_type": "markdown",
   "metadata": {},
   "source": [
    "***\n",
    "***\n",
    "__Question 4__ Visualize the game moves. You need to fill in the following function for the evaluation:"
   ]
  },
  {
   "cell_type": "code",
   "execution_count": 7,
   "metadata": {},
   "outputs": [],
   "source": [
    "def test(agent,env,epochs,prefix=''):\n",
    "    # Number of won games\n",
    "    score = 0\n",
    "        \n",
    "    for e in range(epochs):        \n",
    "        state = env.reset()\n",
    "        game_over = False\n",
    "        win = 0\n",
    "        lose = 0\n",
    "\n",
    "        while not game_over:\n",
    "            # The agent performs an action\n",
    "            action = agent.act(state)\n",
    "            prev_state=state\n",
    "            state, reward, game_over = env.act(action)\n",
    "\n",
    "            # Update the counters\n",
    "            if reward > 0:\n",
    "                win = win + reward\n",
    "            if reward < 0:\n",
    "                lose = lose -reward\n",
    "                \n",
    "        # Save as a mp4\n",
    "        env.draw(prefix+str(e))\n",
    "\n",
    "        # Update stats\n",
    "        score = score + win-lose\n",
    "\n",
    "        print(\"Win/lose count {}/{}. Average score ({})\"\n",
    "              .format(win, lose, score/(1+e)))\n",
    "    print('Final score: '+str(score/epochs))"
   ]
  },
  {
   "cell_type": "code",
   "execution_count": 8,
   "metadata": {
    "scrolled": false
   },
   "outputs": [
    {
     "name": "stdout",
     "output_type": "stream",
     "text": [
      "Win/lose count 7.0/14.0. Average score (-7.0)\n",
      "Win/lose count 9.0/9.0. Average score (-3.5)\n",
      "Win/lose count 9.5/13.0. Average score (-3.5)\n",
      "Win/lose count 11.5/14.0. Average score (-3.25)\n",
      "Win/lose count 12.0/23.0. Average score (-4.8)\n",
      "Win/lose count 10.0/12.0. Average score (-4.333333333333333)\n",
      "Win/lose count 3.5/10.0. Average score (-4.642857142857143)\n",
      "Win/lose count 11.5/20.0. Average score (-5.125)\n",
      "Win/lose count 11.0/10.0. Average score (-4.444444444444445)\n",
      "Win/lose count 6.0/17.0. Average score (-5.1)\n",
      "Win/lose count 8.5/14.0. Average score (-5.136363636363637)\n",
      "Win/lose count 8.0/9.0. Average score (-4.791666666666667)\n",
      "Win/lose count 13.0/18.0. Average score (-4.8076923076923075)\n",
      "Win/lose count 7.5/18.0. Average score (-5.214285714285714)\n",
      "Win/lose count 5.5/8.0. Average score (-5.033333333333333)\n",
      "Final score: -5.033333333333333\n"
     ]
    },
    {
     "data": {
      "text/html": [
       "<video alt=\"test\" controls>\n",
       "                <source src=\"data:video/mp4;base64,AAAAIGZ0eXBpc29tAAACAGlzb21pc28yYXZjMW1wNDEAAAAIZnJlZQAAF7VtZGF0AAACrQYF//+p3EXpvebZSLeWLNgg2SPu73gyNjQgLSBjb3JlIDE1NSByMjkxNyAwYTg0ZDk4IC0gSC4yNjQvTVBFRy00IEFWQyBjb2RlYyAtIENvcHlsZWZ0IDIwMDMtMjAxOCAtIGh0dHA6Ly93d3cudmlkZW9sYW4ub3JnL3gyNjQuaHRtbCAtIG9wdGlvbnM6IGNhYmFjPTEgcmVmPTMgZGVibG9jaz0xOjA6MCBhbmFseXNlPTB4MToweDExMSBtZT1oZXggc3VibWU9NyBwc3k9MSBwc3lfcmQ9MS4wMDowLjAwIG1peGVkX3JlZj0xIG1lX3JhbmdlPTE2IGNocm9tYV9tZT0xIHRyZWxsaXM9MSA4eDhkY3Q9MCBjcW09MCBkZWFkem9uZT0yMSwxMSBmYXN0X3Bza2lwPTEgY2hyb21hX3FwX29mZnNldD00IHRocmVhZHM9NiBsb29rYWhlYWRfdGhyZWFkcz0xIHNsaWNlZF90aHJlYWRzPTAgbnI9MCBkZWNpbWF0ZT0xIGludGVybGFjZWQ9MCBibHVyYXlfY29tcGF0PTAgY29uc3RyYWluZWRfaW50cmE9MCBiZnJhbWVzPTMgYl9weXJhbWlkPTIgYl9hZGFwdD0xIGJfYmlhcz0wIGRpcmVjdD0xIHdlaWdodGI9MSBvcGVuX2dvcD0wIHdlaWdodHA9MiBrZXlpbnQ9MjUwIGtleWludF9taW49MjUgc2NlbmVjdXQ9NDAgaW50cmFfcmVmcmVzaD0wIHJjX2xvb2thaGVhZD00MCByYz1jcmYgbWJ0cmVlPTEgY3JmPTIzLjAgcWNvbXA9MC42MCBxcG1pbj0wIHFwbWF4PTY5IHFwc3RlcD00IGlwX3JhdGlvPTEuNDAgYXE9MToxLjAwAIAAAAKGZYiEADf//vaH+BTZWBP+Wb/9DX/cj9uPrP1xYyEE31qvIejAGS+1H+b/rFFs6Z6UB/fgCJQAc24ZwpIoZ/8CmWxwvgUK/HEacX14Wn+DO2SLIy0dLyUtMzNhZf945ht9wKRPCXDVXxSYrvf5J3j4pI6u900+TjSyTGxRlrIO3EinxC+OSzCEdXCCshhxCmaN1J6/0cB3Ke+ZAs7ODy+eQIY4zBiFDqOymKN5kkiXxcp3cObFJDc6OGsEcM/O4rDQk7q/gC2UM5apFkx6p5T3CbfjPMTikDhggkjadbvwdcIU67OBznf/xBroz5TahycHFfqGAAbzHbTxcbnDp+zp+8Tk0vGpIQyilsIZVQt0rsTph2wpW0SqXPB3A2Pauu2IEXsyP/Gmuu5kGyvDoOx+waIoJbqPR4ADPMzrsmhxs43qYG9IOOU60YWFgKesACeL8Nt2+rpkO5bFGFo3TuA11dWnCGONmyiCucCiYTMn09Uvu5qFD4LNpE3phjVNIsxehgzx5o/ydT56b8lqoTjfMSX16Jcj2JG+6sGuGzaFrwA9u8CdTYmSdVYQIZ+zZ9vGu7yXrFQbtqut4WGJgCjzCK2nZ1e4yidbu0FwfSZZ8lNAacexOUsf47TiV+GO5AIUlZ1Zkl79vJVD5LIDwqrM2b0Qc8UjCv+AcAnlz+fvjVloidciCa8Fsv0/HbS68cqYxmiD9qxg9UVfeorEB6+pI4Cjtwb1OUp3zWolMQqJjnrn7QKYL6kue4V6dW6Z9/OYW1ElebQZOraDDkBJwaGOIHkQABunYI6BfIe6QwBK7NAmJANEPo76UWHe18gvwlmXIibR+7OIdYI/Zzef53sDwgRPUABZQQAAABdBmiJsQ3/+p4QAR76OfHbeJPzU26QyygAAABABnkF5Cv8AOg2BrjyEFkGBAAAAF0GaRTwhkymEN//+p4QALr7qcf4fVtwLAAAAEEGeY2pTwr8AJrmjeaFg/NcAAAAOAZ6EakK/ACayjGTcla8AAAAbQZqISahBaJlMCG///qeEAC6CGPif5bJS5CBBAAAAEkGepkURLCv/ACW7FewsF+Y9gQAAAA4BnsdqQr8AJbsmPOCF7AAAAB1BmspJqEFsmUwUTDf//qeEAC6+6n7rSzNTbotjOAAAABABnulqQr8AJrmjeaYq2njBAAAAG0Ga7UnhClJlMCG//qeEAB8vfZ7tkErWZbWE0AAAABFBnwtFNEwr/wAZxm5rjLB+6QAAAA4BnyxqQr8AGcJDMm5L0wAAABxBmy9JqEFomUwU8N/+p4QALVitmJ/q7e6n7WOJAAAAEAGfTmpCvwAlrzRMiaVnLMEAAAAZQZtQSeEKUmUwIb/+p4QARVAFm22fZ81SQAAAAB1Bm3JJ4Q6JlMFNEw7//qmWACM/Hn5sF8YZrbQf/gAAAA8Bn5FqQr8AOKClM2zI14sAAAAWQZuWSeEPJlMCHf/+qZYAIAiw3RiXzAAAAA5Bn7RFETwv/wAmtAB6YAAAABABn9N0Qr8ANXnJxHZdldmBAAAAEAGf1WpCvwBUI2u6yGHJQYAAAAASQZvaSahBaJlMCG///qeEAAEnAAAADEGf+EURLC//AACygQAAABABnhd0Qr8AN08m6O2+FdSAAAAAEAGeGWpCvwBUI2u6yGHJQYEAAAAaQZobSahBbJlMCHf//qmWADPVIM0AekvsCBAAAAAcQZo/SeEKUmUwIb/+p4QAaf32e7Zd2sieZ63LcQAAABFBnl1FNEwv/wA+H3nnt6PZmQAAAA8Bnnx0Qr8AVm0d55xa6YAAAAAPAZ5+akK/AFQbbpRpDxPVAAAAHEGaYkmoQWiZTAhv//6nhAA/vvs92y6jjQkcwHEAAAASQZ6ARREsK/8ANMR251k+ThuAAAAADgGeoWpCvwA01iF3vUl/AAAAGkGao0moQWyZTAh3//6plgAVT31fXYg3FRUwAAAAG0Gax0nhClJlMCG//qeEABp/YP899hnKvuAywQAAABRBnuVFNEwv/wAP5Ehl9j4FlyLuewAAABABnwR0Qr8AFiTWjJLf69TBAAAAEAGfBmpCvwAWKx5bhs2qX4EAAAAcQZsLSahBaJlMCG///qeEACsYrVMf6t2+wfrlzAAAABBBnylFESwv/wAZxV3f5v0wAAAADwGfSHRCvwAhwgDoTkwAwQAAAA8Bn0pqQr8AIrs8tw2bVBsAAAAaQZtMSahBbJlMCHf//qmWABXffV9diDcVFHAAAAAbQZtwSeEKUmUwIb/+p4QALEANSDHMc8+28m2tAAAAEEGfjkU0TC//ABplWpPDJu8AAAAPAZ+tdEK/ABa4xi4D8wFhAAAADwGfr2pCvwAjuzy3DZtUEwAAABlBm7NJqEFomUwIb//+p4QALVitIIRP8twTAAAAEkGf0UURLCv/ADdQ0u8xg7VdpwAAABABn/JqQr8AOKrg1x4q2mGgAAAAHUGb9UmoQWyZTBRMM//+nhAAsfum+17zlW4qzhmgAAAAEAGeFGpCvwAluaN5piraesEAAAAYQZoWSeEKUmUwIZ/+nhAAdH19/IkR9YXTAAAAHkGaOEnhDomUwU0TDP/+nhAAS74h/F0dzHOdNipxhQAAABABnldqQr8AD4gvOdaGF8nBAAAAGEGaWUnhDyZTAhn//p4QAC/+vu7Tm7i7HAAAABhBmnpJ4Q8mUwIZ//6eEAAuvum+ipWa+g8AAAAZQZqbSeEPJlMCG//+p4QAB8AeFOs6fdezgAAAABlBmrxJ4Q8mUwIb//6nhAAHy9g/wnBboXrBAAAAG0Ga30nhDyZTAhv//qeEAAU/FaQQifyaXgJKwQAAABFBnv1FETwr/wAEN2KwSErhdgAAAA4Bnx5qQr8ABDdkxXAs2AAAABpBmwBJqEFomUwId//+qZYAArellcZpf2xRQQAAABZBmyRJ4QpSZTAh3/6plgABvILK5O1QAAAADkGfQkU0TC//AAILQDZhAAAAEAGfYXRCvwAESVI78AH3W0AAAAAQAZ9jakK/AARJUjvZ4+62gQAAABpBm2dJqEFomUwId//+qZYAAsmllcZpf2xOwQAAABJBn4VFESwr/wAGwhpd5jB2rvsAAAAPAZ+makK/AAbAmSamgejhAAAAHUGbq0moQWyZTAh3//6plgACze+r7l+YGfjcXPWAAAAAEEGfyUUVLC//AANMIpBzhGAAAAAPAZ/odEK/AAR12UKTbJa3AAAADwGf6mpCvwAC6KNE1JWKgAAAABNBm+9JqEFsmUwId//+qZYAAJWAAAAADEGeDUUVLC//AACygQAAABABnix0Qr8AAulo7o7b4kmBAAAAEAGeLmpCvwAEVta7rIYdKYEAAAAcQZozSahBbJlMCHf//qmWAAKlpZygzQKfRj9P4gAAABBBnlFFFSwv/wADJCOM7oZgAAAAEAGecHRCvwAEN9RInxZipPEAAAAPAZ5yakK/AAQ4NYF1/lpAAAAAEkGad0moQWyZTAhv//6nhAABJwAAAAxBnpVFFSwv/wAAsoEAAAAQAZ60dEK/AAQpUjvwAfddwAAAAA8BnrZqQr8ABFXmiC1HmX8AAAAcQZq7SahBbJlMCG///qeEAAfAHia41RL9E/ySiQAAABBBntlFFSwv/wAEtz9zhZz4AAAADwGe+HRCvwAENtGLgPz5wQAAABABnvpqQr8ABnHbhNxn165MAAAAGkGa/EmoQWyZTAhv//6nhAAH7B4U6zp9166BAAAAGUGbHUnhClJlMCHf/qmWAAQgo51oer75U8EAAAAZQZsgSeEOiZTAh3/+qZYABnqkGaAPSX2WEAAAABJBn15FETwr/wAKhZELsN9L1rgAAAAPAZ9/akK/AAqFkQnBA7ghAAAAGUGbZEmoQWiZTAh3//6plgAGg9pf2LWcRwYAAAAQQZ+CRREsL/8AB5f4q8jLoQAAABABn6F0Qr8ACs2jvK2UPZmAAAAADwGfo2pCvwAG6sQPJglDgQAAABJBm6hJqEFsmUwIb//+p4QAAScAAAARQZ/GRRUsL/8AB5muud5DLoEAAAAQAZ/ldEK/AArPQDnbHGnGIQAAABABn+dqQr8ACoNyGH0BIO4IAAAAGkGb6kmoQWyZTBRMO//+qZYABnrnSP76vu8KAAAAEAGeCWpCvwAKyo0TImlaEEEAAAAZQZoNSeEKUmUwId/+qZYABoPaXhagn9hCwAAAAA9BnitFNEwr/wAKg1uHEsAAAAAPAZ5MakK/AAo/KwLr/ERBAAAAG0GaUUmoQWiZTAhv//6nhAAMn7B/nlTkt0XA0QAAABVBnm9FESwv/wAHa/iuGjAc+iyu23kAAAAQAZ6OdEK/AAo6a0ZJb/YswAAAABABnpBqQr8ABsHVPJcz5TuAAAAAGkGalEmoQWyZTAhv//6nhAAM3SJ/qt8x+L/BAAAAEkGeskUVLCv/AAqFjwISMfvuQAAAAA4BntNqQr8ACoWPXT9WcgAAABpBmtVJqEFsmUwIb//+p4QADSurSCET/LeqgQAAABdBmvhJ4QpSZTAhv/6nhAANP77Mxw66vAAAABFBnxZFNEwr/wALFSjeaFhAYwAAAA4BnzdqQr8ACxNjGTcnxwAAABxBmzpJqEFomUwU8N/+p4QADO+wf5ynXhRrcyX4AAAAEAGfWWpCvwAKg1851oYX7kEAAAARQZteSeEKUmUwIb/+p4QAAScAAAATQZ98RTRML/8ABNfQRSkdM5YvLwAAABABn5t0Qr8ABpgFM8r8lOhJAAAAEAGfnWpCvwAGmduE3GfXriQAAAAcQZuASahBaJlMFPDf/qeEAAzbq1TH+rdvsH6+HAAAABABn79qQr8ACoWPLcNm1aqBAAAAGUGboUnhClJlMCG//qeEABPfRP9VvmPxVMAAAAAZQZvCSeEOiZTAh3/+qZYACk6WVxml/bBVwQAAABtBm+VJ4Q8mUwId//6plgAKp76vf5u9TSFL94wAAAARQZ4DRRE8K/8AENzRvNN71aMAAAAOAZ4kakK/ABDZRj0RX70AAAATQZopSahBaJlMCHf//qmWAACVgQAAAAxBnkdFESwv/wAAsoEAAAAQAZ5mdEK/AAqtlHfgA+4uwAAAABABnmhqQr8AEFta7rIYctaAAAAAEkGabUmoQWyZTAhv//6nhAABJwAAABRBnotFFSwv/wAHsav8Zi1yZxlcVAAAABABnqp0Qr8ACxWjvK2UPZXAAAAAEAGerGpCvwALEo0TImlaDcEAAAAaQZqvSahBbJlMFEw3//6nhAANP7B/nlFB4u0AAAAQAZ7OakK/AArLchh9ASDtuQAAABlBmtBJ4QpSZTAh3/6plgAEZ+PP37INxWDgAAAAHkGa9EnhDomUwId//qmWAARBQUE/j++r7rvMGP+dfAAAABVBnxJFETwv/wAFHoEU8A5IR+7WO4MAAAAPAZ8xdEK/AASV2UKTbJavAAAAEAGfM2pCvwAG6dqOV/biN8AAAAAaQZs4SahBaJlMCHf//qmWAARH48/mbSgSEIEAAAAVQZ9WRREsL/8AB/D79M4rqZef8b+4AAAADwGfdXRCvwALFmTuDZLzPwAAABABn3dqQr8ACxNuRV4AoI+BAAAAJ0GbfEmoQWyZTAh3//6plgADBew3zLK1TVeBSiQLwKZrlz2tL1jOQAAAABBBn5pFFSwv/wADip6yCgghAAAADwGfuXRCvwAEltGLgPzzwAAAABABn7tqQr8ABNdiPJcz5XuBAAAAIkGboEmoQWyZTAh3//6plgAHJ+FH3L7YH9vSzlBmeuAdGHEAAAAVQZ/eRRUsL/8ACGx86ZxWH3vY1YXAAAAAEAGf/XRCvwALpmU8DplOhYAAAAAPAZ//akK/AAujbdKNIePrAAAAGUGb5EmoQWyZTAhv//6nhAAOInhzN7qfGnwAAAAQQZ4CRRUsL/8ACG0BmutNwQAAABABniF0Qr8AC6ZaoHTtRAiAAAAADwGeI2pCvwAL8zc2CQBGkQAAABxBmidJqEFsmUwIb//+p4QAFj+NP4i2QatZkOqxAAAAEkGeRUUVLCv/ABHenXd39ItJgQAAAA4BnmZqQr8AEdlddx4KTQAAABlBmmpJqEFsmUwIb//+p4QADd+wevZnwRb3AAAAD0GeiEUVLCv/AAtbW4cLQAAAAA8BnqlqQr8ACxcrAuv8PcEAAAAdQZqsSahBbJlMFEw3//6nhAAUbFbMT/V291P2uLgAAAAQAZ7LakK/ABBdohNxn16mWAAAABlBms1J4QpSZTAh3/6plgAKX76sqszbMFXBAAAAG0Ga8UnhDomUwIb//qeEABP/dT9zIwtmKEc09QAAABBBnw9FETwv/wAL8q7v84ixAAAADwGfLnRCvwAP4XoDJLn2gAAAAA8BnzBqQr8AD+A/qkUCVp8AAAAaQZsySahBaJlMCHf//qmWAAnCLDdGIRz7GzEAAAAaQZtWSeEKUmUwId/+qZYACc/Hn8u0V8zU1HAAAAAQQZ90RTRML/8AC6UCClDOmAAAAA8Bn5N0Qr8AGIsq7vN2+0EAAAAQAZ+VakK/AA+ILznWhhfJwAAAABJBm5pJqEFomUwIb//+p4QAAScAAAATQZ+4RREsL/8AB0IluUzHzERXMwAAABABn9d0Qr8ACfJ1J5X5KcaQAAAAEAGf2WpCvwAKOo0TImlaFUEAAAAcQZveSahBbJlMCGf//p4QAEdEOdNgvRHX39M2wAAAABVBn/xFFSwv/wALpKx0uNgnvSdFG7EAAAAQAZ4bdEK/AA+MVarwIrwEgQAAAA8Bnh1qQr8AD4gpTNsyNuUAAAAaQZofSahBbJlMCG///qeEABJvjp9RxoSHW0AAAAAZQZogSeEKUmUwIb/+p4QAC/+wf4Tgt0K2wQAAABFBmkRJ4Q6JlMCG//6nhAABJwAAAAxBnmJFETwv/wAAsoEAAAAQAZ6BdEK/AAY3OTiOy7OJgAAAABABnoNqQr8ABjc5O9nj7nKBAAAAHEGaiEmoQWiZTAhf//6MsAAwC0uTNvTLfOnxC8EAAAAQQZ6mRREsL/8AB0E6d/nKCQAAAA8BnsV0Qr8ABkklEKYJVIEAAAAQAZ7HakK/AAn1jy3DZtW1gAAAABpBmslLqEIQWyRGCCgH8gH9h4AhX/44QAARcAAAC+htb292AAAAbG12aGQAAAAAAAAAAAAAAAAAAAPoAAAfkAABAAABAAAAAAAAAAAAAAAAAQAAAAAAAAAAAAAAAAAAAAEAAAAAAAAAAAAAAAAAAEAAAAAAAAAAAAAAAAAAAAAAAAAAAAAAAAAAAAAAAAACAAALEnRyYWsAAABcdGtoZAAAAAMAAAAAAAAAAAAAAAEAAAAAAAAfkAAAAAAAAAAAAAAAAAAAAAAAAQAAAAAAAAAAAAAAAAAAAAEAAAAAAAAAAAAAAAAAAEAAAAABEAAAARAAAAAAACRlZHRzAAAAHGVsc3QAAAAAAAAAAQAAH5AAAAQAAAEAAAAACoptZGlhAAAAIG1kaGQAAAAAAAAAAAAAAAAAADIAAAGUAFXEAAAAAAAtaGRscgAAAAAAAAAAdmlkZQAAAAAAAAAAAAAAAFZpZGVvSGFuZGxlcgAAAAo1bWluZgAAABR2bWhkAAAAAQAAAAAAAAAAAAAAJGRpbmYAAAAcZHJlZgAAAAAAAAABAAAADHVybCAAAAABAAAJ9XN0YmwAAACVc3RzZAAAAAAAAAABAAAAhWF2YzEAAAAAAAAAAQAAAAAAAAAAAAAAAAAAAAABEAEQAEgAAABIAAAAAAAAAAEAAAAAAAAAAAAAAAAAAAAAAAAAAAAAAAAAAAAAAAAAAAAY//8AAAAvYXZjQwH0AA3/4QAXZ/QADZGbKCIR0IAAAAMAgAAAGQeKFMsBAAVo6+PESAAAABhzdHRzAAAAAAAAAAEAAADKAAACAAAAABRzdHNzAAAAAAAAAAEAAAABAAAFwGN0dHMAAAAAAAAAtgAAAAEAAAQAAAAAAQAABgAAAAABAAACAAAAAAEAAAgAAAAAAgAAAgAAAAABAAAIAAAAAAIAAAIAAAAAAQAABgAAAAABAAACAAAAAAEAAAgAAAAAAgAAAgAAAAABAAAGAAAAAAEAAAIAAAAAAQAABAAAAAABAAAGAAAAAAEAAAIAAAAAAQAACgAAAAABAAAEAAAAAAEAAAAAAAAAAQAAAgAAAAABAAAKAAAAAAEAAAQAAAAAAQAAAAAAAAABAAACAAAAAAEAAAQAAAAAAQAACgAAAAABAAAEAAAAAAEAAAAAAAAAAQAAAgAAAAABAAAIAAAAAAIAAAIAAAAAAQAABAAAAAABAAAKAAAAAAEAAAQAAAAAAQAAAAAAAAABAAACAAAAAAEAAAoAAAAAAQAABAAAAAABAAAAAAAAAAEAAAIAAAAAAQAABAAAAAABAAAKAAAAAAEAAAQAAAAAAQAAAAAAAAABAAACAAAAAAEAAAgAAAAAAgAAAgAAAAABAAAGAAAAAAEAAAIAAAAAAQAABAAAAAABAAAGAAAAAAEAAAIAAAAABAAABAAAAAABAAAIAAAAAAIAAAIAAAAAAQAABAAAAAABAAAKAAAAAAEAAAQAAAAAAQAAAAAAAAABAAACAAAAAAEAAAgAAAAAAgAAAgAAAAABAAAKAAAAAAEAAAQAAAAAAQAAAAAAAAABAAACAAAAAAEAAAoAAAAAAQAABAAAAAABAAAAAAAAAAEAAAIAAAAAAQAACgAAAAABAAAEAAAAAAEAAAAAAAAAAQAAAgAAAAABAAAKAAAAAAEAAAQAAAAAAQAAAAAAAAABAAACAAAAAAEAAAoAAAAAAQAABAAAAAABAAAAAAAAAAEAAAIAAAAAAgAABAAAAAABAAAIAAAAAAIAAAIAAAAAAQAACgAAAAABAAAEAAAAAAEAAAAAAAAAAQAAAgAAAAABAAAKAAAAAAEAAAQAAAAAAQAAAAAAAAABAAACAAAAAAEAAAYAAAAAAQAAAgAAAAABAAAIAAAAAAIAAAIAAAAAAQAACgAAAAABAAAEAAAAAAEAAAAAAAAAAQAAAgAAAAABAAAIAAAAAAIAAAIAAAAAAQAABAAAAAABAAAIAAAAAAIAAAIAAAAAAQAABgAAAAABAAACAAAAAAEAAAoAAAAAAQAABAAAAAABAAAAAAAAAAEAAAIAAAAAAQAABgAAAAABAAACAAAAAAIAAAQAAAAAAQAACAAAAAACAAACAAAAAAEAAAoAAAAAAQAABAAAAAABAAAAAAAAAAEAAAIAAAAAAQAACgAAAAABAAAEAAAAAAEAAAAAAAAAAQAAAgAAAAABAAAGAAAAAAEAAAIAAAAAAQAABAAAAAABAAAKAAAAAAEAAAQAAAAAAQAAAAAAAAABAAACAAAAAAEAAAoAAAAAAQAABAAAAAABAAAAAAAAAAEAAAIAAAAAAQAACgAAAAABAAAEAAAAAAEAAAAAAAAAAQAAAgAAAAABAAAKAAAAAAEAAAQAAAAAAQAAAAAAAAABAAACAAAAAAEAAAoAAAAAAQAABAAAAAABAAAAAAAAAAEAAAIAAAAAAQAACAAAAAACAAACAAAAAAEAAAgAAAAAAgAAAgAAAAABAAAGAAAAAAEAAAIAAAAAAQAABAAAAAABAAAKAAAAAAEAAAQAAAAAAQAAAAAAAAABAAACAAAAAAEAAAQAAAAAAQAACgAAAAABAAAEAAAAAAEAAAAAAAAAAQAAAgAAAAABAAAKAAAAAAEAAAQAAAAAAQAAAAAAAAABAAACAAAAAAEAAAoAAAAAAQAABAAAAAABAAAAAAAAAAEAAAIAAAAAAgAABAAAAAABAAAKAAAAAAEAAAQAAAAAAQAAAAAAAAABAAACAAAAAAEAAAoAAAAAAQAABAAAAAABAAAAAAAAAAEAAAIAAAAAAQAABAAAAAAcc3RzYwAAAAAAAAABAAAAAQAAAMoAAAABAAADPHN0c3oAAAAAAAAAAAAAAMoAAAU7AAAAGwAAABQAAAAbAAAAFAAAABIAAAAfAAAAFgAAABIAAAAhAAAAFAAAAB8AAAAVAAAAEgAAACAAAAAUAAAAHQAAACEAAAATAAAAGgAAABIAAAAUAAAAFAAAABYAAAAQAAAAFAAAABQAAAAeAAAAIAAAABUAAAATAAAAEwAAACAAAAAWAAAAEgAAAB4AAAAfAAAAGAAAABQAAAAUAAAAIAAAABQAAAATAAAAEwAAAB4AAAAfAAAAFAAAABMAAAATAAAAHQAAABYAAAAUAAAAIQAAABQAAAAcAAAAIgAAABQAAAAcAAAAHAAAAB0AAAAdAAAAHwAAABUAAAASAAAAHgAAABoAAAASAAAAFAAAABQAAAAeAAAAFgAAABMAAAAhAAAAFAAAABMAAAATAAAAFwAAABAAAAAUAAAAFAAAACAAAAAUAAAAFAAAABMAAAAWAAAAEAAAABQAAAATAAAAIAAAABQAAAATAAAAFAAAAB4AAAAdAAAAHQAAABYAAAATAAAAHQAAABQAAAAUAAAAEwAAABYAAAAVAAAAFAAAABQAAAAeAAAAFAAAAB0AAAATAAAAEwAAAB8AAAAZAAAAFAAAABQAAAAeAAAAFgAAABIAAAAeAAAAGwAAABUAAAASAAAAIAAAABQAAAAVAAAAFwAAABQAAAAUAAAAIAAAABQAAAAdAAAAHQAAAB8AAAAVAAAAEgAAABcAAAAQAAAAFAAAABQAAAAWAAAAGAAAABQAAAAUAAAAHgAAABQAAAAdAAAAIgAAABkAAAATAAAAFAAAAB4AAAAZAAAAEwAAABQAAAArAAAAFAAAABMAAAAUAAAAJgAAABkAAAAUAAAAEwAAAB0AAAAUAAAAFAAAABMAAAAgAAAAFgAAABIAAAAdAAAAEwAAABMAAAAhAAAAFAAAAB0AAAAfAAAAFAAAABMAAAATAAAAHgAAAB4AAAAUAAAAEwAAABQAAAAWAAAAFwAAABQAAAAUAAAAIAAAABkAAAAUAAAAEwAAAB4AAAAdAAAAFQAAABAAAAAUAAAAFAAAACAAAAAUAAAAEwAAABQAAAAeAAAAFHN0Y28AAAAAAAAAAQAAADAAAABidWR0YQAAAFptZXRhAAAAAAAAACFoZGxyAAAAAAAAAABtZGlyYXBwbAAAAAAAAAAAAAAAAC1pbHN0AAAAJal0b28AAAAdZGF0YQAAAAEAAAAATGF2ZjU4LjIwLjEwMA==\" type=\"video/mp4\" />\n",
       "             </video>"
      ],
      "text/plain": [
       "<IPython.core.display.HTML object>"
      ]
     },
     "execution_count": 8,
     "metadata": {},
     "output_type": "execute_result"
    }
   ],
   "source": [
    "# Initialize the game\n",
    "env = Environment(grid_size=size, max_time=T,temperature=temperature)\n",
    "\n",
    "# Initialize the agent!\n",
    "agent = RandomAgent()\n",
    "\n",
    "test(agent,env,epochs_test,prefix='random')\n",
    "HTML(display_videos('random0.mp4'))"
   ]
  },
  {
   "cell_type": "markdown",
   "metadata": {},
   "source": [
    "***\n",
    "## DQN"
   ]
  },
  {
   "cell_type": "markdown",
   "metadata": {},
   "source": [
    "Let us assume here that $T=\\infty$.\n",
    "\n",
    "***\n",
    "__Question 5__ Let $\\pi$ be a policy, show that:\n",
    "\n",
    "\\begin{equation*}\n",
    "Q^{\\pi}(s,a)=E_{(s',a')\\sim p(.|s,a)}[r(s,a)+\\gamma Q^{\\pi}(s',a')]\n",
    "\\end{equation*}\n",
    "\n",
    "Then, show that for the optimal policy $\\pi^*$ (we assume its existence), the following holds: \n",
    "\n",
    "\\begin{equation*}\n",
    "Q^{*}(s,a)=E_{s'\\sim \\pi^*(.|s,a)}[r(s,a)+\\gamma\\max_{a'}Q^{*}(s',a')].\n",
    "\\end{equation*}\n",
    "Finally, deduce that a plausible objective is:\n",
    "\n",
    "\\begin{equation*}\n",
    "\\mathcal{L}(\\theta)=E_{s' \\sim \\pi^*(.|s,a)}\\Vert r+\\gamma\\max\\max_{a'}Q(s',a',\\theta)-Q(s,a,\\theta)\\Vert^{2}.\n",
    "\\end{equation*}"
   ]
  },
  {
   "cell_type": "markdown",
   "metadata": {},
   "source": [
    "• We know that we have:\n",
    "$$\n",
    "\\begin{aligned}\n",
    "Q^{\\pi}(s,a) &= E_{\\pi}[ \\sum_{t=0}^{\\infty}\\gamma^t r(s_t,a_t) \\ | \\ s_0 = s, a_0 = a]\\\\\n",
    "&= E[r(s,a)]+ \\gamma E_{\\pi}[ \\sum_{t=1}^{\\infty}\\gamma^{t-1} r(s_{t},a_{t}) \\ | \\ s_0 = s, a_0 = a ]    \\\\\n",
    "&= E[r(s,a)]+ \\gamma \\sum_{s'\\in S}^{} \\sum_{a' \\in A}^{} p(s_1 = s',a_1 = a'|s_0 = s, a_0 = a)E_{\\pi}[\\sum_{t=1}^{\\infty}\\gamma^{t-1} r(s_{t},a_{t}) \\ |\\  s_1 = s',a_1 = a' ]\\\\\n",
    "& E_{\\pi}[\\sum_{t=1}^{\\infty}\\gamma^{t-1} r(s_{t},a_{t}) \\ |\\  s_1 = s',a_1 = a' ] = Q^{\\pi}(s',a') \\; \\text{so we have:}  \\\\\n",
    "& = E[r(s,a)]+ \\gamma \\sum_{s'\\in S}^{} \\sum_{a' \\in A}^{} p(s_1 = s',a_1 = a'|s_0 = s, a_0 = a)Q^{\\pi}(s',a')\\\\\n",
    "&= E_{(s',a')\\sim p(.|s,a)}[r(s,a)+\\gamma Q^{\\pi}(s',a')]\n",
    "\\end{aligned}\n",
    "$$\n",
    "\n",
    "Hence $ Q^{\\pi}(s,a)=E_{(s',a')\\sim p(.|s,a)}[r(s,a)+\\gamma Q^{\\pi}(s',a')] $"
   ]
  },
  {
   "cell_type": "markdown",
   "metadata": {},
   "source": [
    "• We assume that the optimal policy $\\pi^*$ exists and we know that: $Q^{*}(s,a) = max_{\\pi} Q^{\\pi}(s,a)$.\n",
    "\n",
    "Then we have: \n",
    "\n",
    "$$\n",
    "\\begin{aligned}\n",
    "Q^*(s,a) & = \\max_{\\pi}E_{(s',a')\\sim p(.|s,a)}[r(s,a)+\\gamma Q^{\\pi}(s',a')] \\\\\n",
    " & = r(s,a) + \\gamma \\max_{\\pi} [ \\sum_{s' \\in S}^{}  \\sum_{a' \\in A}^{} p(s',a'|s,a)Q^{\\pi}(s',a') ] \\\\\n",
    " & = r(s,a) + \\gamma  \\sum_{s' \\in S}^{}p(s'|s,a)\n",
    " \\max_{\\pi} [\\sum_{a' \\in A}^{} \\pi(a'|s')Q^{\\pi}(s',a') ]\\\\\n",
    "& = r(s,a) + \\gamma  \\sum_{s' \\in S}^{}p(s'|s,a) \\max_{a'} Q^*(s',a')\\\\\n",
    "& = E_{s'\\sim \\pi^*(.|s,a)}[r(s,a)+\\gamma\\max_{a'}Q^{*}(s',a')]\n",
    "\\end{aligned}\n",
    "$$\n",
    "\n",
    "Hence $Q^{*}(s,a)=E_{s'\\sim \\pi^*(.|s,a)}[r(s,a)+\\gamma\\max_{a'}Q^{*}(s',a')]$"
   ]
  },
  {
   "cell_type": "markdown",
   "metadata": {},
   "source": [
    "• loss function  "
   ]
  },
  {
   "cell_type": "markdown",
   "metadata": {},
   "source": [
    "***\n",
    "The DQN-learning algorithm relies on these derivations to train the parameters $\\theta$ of a Deep Neural Network:\n",
    "\n",
    "1. At the state $s_t$, select the action $a_t$ with best reward using $Q_t$ and store the results;\n",
    "\n",
    "2. Obtain the new state $s_{t+1}$ from the environment $p$;\n",
    "\n",
    "3. Store $(s_t,a_t,s_{t+1})$;\n",
    "\n",
    "4. Obtain $Q_{t+1}$ by minimizing  $\\mathcal{L}$ from a recovered batch from the previously stored results.\n",
    "\n",
    "***\n",
    "__Question 6__ Implement the class ```Memory``` that stores moves (in a replay buffer) via ```remember``` and provides a ```random_access``` to these. Specify a maximum memory size to avoid side effects. You can for example use a ```list()``` and set by default ```max_memory=100```."
   ]
  },
  {
   "cell_type": "code",
   "execution_count": 9,
   "metadata": {},
   "outputs": [],
   "source": [
    "max_memory=100\n",
    "class Memory(object):\n",
    "    def __init__(self, max_memory=100):\n",
    "        self.max_memory = max_memory\n",
    "        self.memory = list()\n",
    "\n",
    "    def remember(self, m):\n",
    "        self.memory.append(m)\n",
    "        if len(self.memory)>max_memory:\n",
    "            self.memory.pop(0)\n",
    "\n",
    "    def random_access(self):\n",
    "        return random.choice(self.memory)"
   ]
  },
  {
   "cell_type": "markdown",
   "metadata": {},
   "source": [
    "***\n",
    "The pipeline we will use for training is given below:"
   ]
  },
  {
   "cell_type": "code",
   "execution_count": 10,
   "metadata": {},
   "outputs": [],
   "source": [
    "def train(agent,env,epoch,prefix=''):\n",
    "    # Number of won games\n",
    "    score = 0\n",
    "    loss = 0\n",
    "\n",
    "    for e in range(epoch):\n",
    "        # At each epoch, we restart to a fresh game and get the initial state\n",
    "        state = env.reset()\n",
    "        # This assumes that the games will terminate\n",
    "        game_over = False\n",
    "\n",
    "        win = 0\n",
    "        lose = 0\n",
    "\n",
    "        while not game_over:\n",
    "            # The agent performs an action\n",
    "            action = agent.act(state)\n",
    "\n",
    "            # Apply an action to the environment, get the next state, the reward\n",
    "            # and if the games end\n",
    "            prev_state = state\n",
    "            state, reward, game_over = env.act(action)\n",
    "\n",
    "            # Update the counters\n",
    "            if reward > 0:\n",
    "                win = win + reward\n",
    "            if reward < 0:\n",
    "                lose = lose -reward\n",
    "\n",
    "            # Apply the reinforcement strategy\n",
    "            loss = agent.reinforce(prev_state, state,  action, reward, game_over)\n",
    "\n",
    "        # Save as a mp4\n",
    "        if e % 10 == 0:\n",
    "            env.draw(prefix+str(e))\n",
    "\n",
    "        # Update stats\n",
    "        score += win-lose\n",
    "\n",
    "        print(\"Epoch {:03d}/{:03d} | Loss {:.4f} | Win/lose count {}/{} ({})\"\n",
    "              .format(e, epoch, loss, win, lose, win-lose))\n",
    "        agent.save(name_weights=prefix+'model.h5',name_model=prefix+'model.json')"
   ]
  },
  {
   "cell_type": "markdown",
   "metadata": {},
   "source": [
    "***\n",
    "__Question 7__ Implement the DQN training algorithm using a cascade of fully connected layers. You can use different learning rate, batch size or memory size parameters. In particular, the loss might oscillate while the player will start to win the games. You have to find a good criterium."
   ]
  },
  {
   "cell_type": "code",
   "execution_count": 11,
   "metadata": {},
   "outputs": [],
   "source": [
    "class DQN(Agent):\n",
    "    def __init__(self, grid_size,  epsilon = 0.1, memory_size=100, batch_size = 16,n_state=2):\n",
    "        super(DQN, self).__init__(epsilon = epsilon)\n",
    "\n",
    "        # Discount for Q learning\n",
    "        self.discount = 0.99\n",
    "        \n",
    "        self.grid_size = grid_size\n",
    "        \n",
    "        # number of state\n",
    "        self.n_state = n_state\n",
    "\n",
    "        # Memory\n",
    "        self.memory = Memory(memory_size)\n",
    "        \n",
    "        # Batch size when learning\n",
    "        self.batch_size = batch_size\n",
    "\n",
    "    def learned_act(self, s):\n",
    "        return np.argmax(self.model.predict(np.array([s]))[0])\n",
    "\n",
    "    def reinforce(self, s_, n_s_, a_, r_, game_over_):\n",
    "        # Two steps: first memorize the states, second learn from the pool\n",
    "\n",
    "        self.memory.remember([s_, n_s_, a_, r_, game_over_])\n",
    "        \n",
    "        input_states = np.zeros((self.batch_size, 5,5,self.n_state))\n",
    "        target_q = np.zeros((self.batch_size, 4))\n",
    "        \n",
    "        for i in range(self.batch_size):\n",
    "            s,n_s,a,r,game_over_= self.memory.random_access()\n",
    "            pred = self.model.predict(np.array([s, n_s]))\n",
    "            target_q[i]= pred[0]\n",
    "            if game_over_:\n",
    "                target_q[i][a]=r\n",
    "            else:\n",
    "                target_q[i][a]=r + self.discount*max(pred[1])\n",
    "        # HINT: Clip the target to avoid exploiding gradients.. -- clipping is a bit tighter\n",
    "        target_q = np.clip(target_q, -3, 3)\n",
    "        l = self.model.train_on_batch(input_states, target_q)\n",
    "        return l\n",
    "\n",
    "    def save(self,name_weights='model.h5',name_model='model.json'):\n",
    "        self.model.save_weights(name_weights, overwrite=True)\n",
    "        with open(name_model, \"w\") as outfile:\n",
    "            json.dump(self.model.to_json(), outfile)\n",
    "            \n",
    "    def load(self,name_weights='model.h5',name_model='model.json'):\n",
    "        with open(name_model, \"r\") as jfile:\n",
    "            model = model_from_json(json.load(jfile))\n",
    "        model.load_weights(name_weights)\n",
    "        model.compile(\"sgd\", \"mse\")\n",
    "        self.model = model\n",
    "\n",
    "            \n",
    "class DQN_FC(DQN):\n",
    "    def __init__(self, *args, lr=0.1,**kwargs):\n",
    "        super(DQN_FC, self).__init__( *args,**kwargs)\n",
    "        \n",
    "        model=Sequential()\n",
    "        model.add(Flatten(input_shape=(5,5,self.n_state)))\n",
    "        model.add(Dense(32,activation='relu'))        \n",
    "        model.add(Dense(4,activation='softmax'))\n",
    "        \n",
    "        model.compile(sgd(lr=lr, decay=1e-4, momentum=0.0), \"mse\")\n",
    "        self.model = model\n",
    "        "
   ]
  },
  {
   "cell_type": "code",
   "execution_count": 12,
   "metadata": {},
   "outputs": [
    {
     "name": "stdout",
     "output_type": "stream",
     "text": [
      "Epoch 000/050 | Loss 0.0264 | Win/lose count 3.0/1.0 (2.0)\n",
      "Epoch 001/050 | Loss 0.0110 | Win/lose count 5.0/3.0 (2.0)\n",
      "Epoch 002/050 | Loss 0.0241 | Win/lose count 3.5/2.0 (1.5)\n",
      "Epoch 003/050 | Loss 0.0187 | Win/lose count 4.0/6.0 (-2.0)\n",
      "Epoch 004/050 | Loss 0.0159 | Win/lose count 2.0/2.0 (0.0)\n",
      "Epoch 005/050 | Loss 0.0126 | Win/lose count 3.0/5.0 (-2.0)\n",
      "Epoch 006/050 | Loss 0.0186 | Win/lose count 3.5/3.0 (0.5)\n",
      "Epoch 007/050 | Loss 0.0126 | Win/lose count 1.0/1.0 (0.0)\n",
      "Epoch 008/050 | Loss 0.0400 | Win/lose count 1.5/5.0 (-3.5)\n",
      "Epoch 009/050 | Loss 0.0155 | Win/lose count 2.5/6.0 (-3.5)\n",
      "Epoch 010/050 | Loss 0.0189 | Win/lose count 1.5/3.0 (-1.5)\n",
      "Epoch 011/050 | Loss 0.0195 | Win/lose count 2.0/6.0 (-4.0)\n",
      "Epoch 012/050 | Loss 0.0265 | Win/lose count 2.0/0 (2.0)\n",
      "Epoch 013/050 | Loss 0.0424 | Win/lose count 2.5/3.0 (-0.5)\n",
      "Epoch 014/050 | Loss 0.0206 | Win/lose count 2.5/4.0 (-1.5)\n",
      "Epoch 015/050 | Loss 0.0086 | Win/lose count 2.5/1.0 (1.5)\n",
      "Epoch 016/050 | Loss 0.0068 | Win/lose count 0.5/3.0 (-2.5)\n",
      "Epoch 017/050 | Loss 0.0206 | Win/lose count 1.5/0 (1.5)\n",
      "Epoch 018/050 | Loss 0.0187 | Win/lose count 2.5/3.0 (-0.5)\n",
      "Epoch 019/050 | Loss 0.0212 | Win/lose count 1.5/3.0 (-1.5)\n",
      "Epoch 020/050 | Loss 0.0270 | Win/lose count 2.5/4.0 (-1.5)\n",
      "Epoch 021/050 | Loss 0.0201 | Win/lose count 5.5/6.0 (-0.5)\n",
      "Epoch 022/050 | Loss 0.0264 | Win/lose count 0.5/3.0 (-2.5)\n",
      "Epoch 023/050 | Loss 0.0004 | Win/lose count 2.0/4.0 (-2.0)\n",
      "Epoch 024/050 | Loss 0.0162 | Win/lose count 3.0/9.0 (-6.0)\n",
      "Epoch 025/050 | Loss 0.0071 | Win/lose count 0.5/4.0 (-3.5)\n",
      "Epoch 026/050 | Loss 0.0265 | Win/lose count 3.0/7.0 (-4.0)\n",
      "Epoch 027/050 | Loss 0.0252 | Win/lose count 2.5/3.0 (-0.5)\n",
      "Epoch 028/050 | Loss 0.0095 | Win/lose count 2.5/1.0 (1.5)\n",
      "Epoch 029/050 | Loss 0.0274 | Win/lose count 2.0/3.0 (-1.0)\n",
      "Epoch 030/050 | Loss 0.0343 | Win/lose count 4.5/3.0 (1.5)\n",
      "Epoch 031/050 | Loss 0.0132 | Win/lose count 0/1.0 (-1.0)\n",
      "Epoch 032/050 | Loss 0.0126 | Win/lose count 2.0/4.0 (-2.0)\n",
      "Epoch 033/050 | Loss 0.0273 | Win/lose count 4.5/3.0 (1.5)\n",
      "Epoch 034/050 | Loss 0.0127 | Win/lose count 2.0/6.0 (-4.0)\n",
      "Epoch 035/050 | Loss 0.0136 | Win/lose count 3.5/4.0 (-0.5)\n",
      "Epoch 036/050 | Loss 0.0206 | Win/lose count 3.5/1.0 (2.5)\n",
      "Epoch 037/050 | Loss 0.0007 | Win/lose count 2.0/4.0 (-2.0)\n",
      "Epoch 038/050 | Loss 0.0071 | Win/lose count 1.0/4.0 (-3.0)\n",
      "Epoch 039/050 | Loss 0.0134 | Win/lose count 0.5/3.0 (-2.5)\n",
      "Epoch 040/050 | Loss 0.0005 | Win/lose count 2.5/5.0 (-2.5)\n",
      "Epoch 041/050 | Loss 0.0342 | Win/lose count 2.0/3.0 (-1.0)\n",
      "Epoch 042/050 | Loss 0.0151 | Win/lose count 2.0/3.0 (-1.0)\n",
      "Epoch 043/050 | Loss 0.0068 | Win/lose count 1.5/2.0 (-0.5)\n",
      "Epoch 044/050 | Loss 0.0090 | Win/lose count 1.5/3.0 (-1.5)\n",
      "Epoch 045/050 | Loss 0.0150 | Win/lose count 3.0/4.0 (-1.0)\n",
      "Epoch 046/050 | Loss 0.0138 | Win/lose count 1.0/1.0 (0.0)\n",
      "Epoch 047/050 | Loss 0.0135 | Win/lose count 2.5/2.0 (0.5)\n",
      "Epoch 048/050 | Loss 0.0136 | Win/lose count 1.0/5.0 (-4.0)\n",
      "Epoch 049/050 | Loss 0.0197 | Win/lose count 2.5/1.0 (1.5)\n"
     ]
    },
    {
     "data": {
      "text/html": [
       "<video alt=\"test\" controls>\n",
       "                <source src=\"data:video/mp4;base64,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\" type=\"video/mp4\" />\n",
       "             </video>"
      ],
      "text/plain": [
       "<IPython.core.display.HTML object>"
      ]
     },
     "execution_count": 12,
     "metadata": {},
     "output_type": "execute_result"
    }
   ],
   "source": [
    "env = Environment(grid_size=size, max_time=T, temperature=0.3)\n",
    "agent = DQN_FC(size, lr=.1, epsilon = 0.1, memory_size=2000, batch_size = 32)\n",
    "train(agent, env, epochs_train, prefix='fc_train')\n",
    "HTML(display_videos('fc_train10.mp4'))"
   ]
  },
  {
   "cell_type": "markdown",
   "metadata": {},
   "source": [
    "***\n",
    "***\n",
    "__Question 8__ Implement the DQN training algorithm using a CNN (for example, 2 convolutional layers and one final fully connected layer)."
   ]
  },
  {
   "cell_type": "code",
   "execution_count": 21,
   "metadata": {},
   "outputs": [],
   "source": [
    "class DQN_CNN(DQN):\n",
    "    def __init__(self, *args,lr=0.1,**kwargs):\n",
    "        super(DQN_CNN, self).__init__(*args,**kwargs)\n",
    "        \n",
    "        model = Sequential()\n",
    "        model.add(Conv2D(64, 3, activation='relu', input_shape=(5, 5, self.n_state)))\n",
    "        model.add(Conv2D(32, 3, activation='relu'))\n",
    "        \n",
    "        model.add(Flatten())\n",
    "        model.add(Dense(4, activation='linear'))\n",
    "        \n",
    "        model.compile(sgd(lr=lr, decay=1e-4, momentum=0.0), \"mse\")\n",
    "        self.model = model"
   ]
  },
  {
   "cell_type": "code",
   "execution_count": 22,
   "metadata": {},
   "outputs": [
    {
     "name": "stdout",
     "output_type": "stream",
     "text": [
      "Epoch 000/050 | Loss 0.0330 | Win/lose count 2.5/2.0 (0.5)\n",
      "Epoch 001/050 | Loss 0.0497 | Win/lose count 1.0/7.0 (-6.0)\n",
      "Epoch 002/050 | Loss 0.2148 | Win/lose count 1.5/3.0 (-1.5)\n",
      "Epoch 003/050 | Loss 0.0207 | Win/lose count 2.0/2.0 (0.0)\n",
      "Epoch 004/050 | Loss 0.2656 | Win/lose count 1.5/6.0 (-4.5)\n",
      "Epoch 005/050 | Loss 0.1357 | Win/lose count 3.5/3.0 (0.5)\n",
      "Epoch 006/050 | Loss 0.0229 | Win/lose count 1.0/1.0 (0.0)\n",
      "Epoch 007/050 | Loss 0.0238 | Win/lose count 1.5/1.0 (0.5)\n",
      "Epoch 008/050 | Loss 0.2470 | Win/lose count 2.0/4.0 (-2.0)\n",
      "Epoch 009/050 | Loss 0.0352 | Win/lose count 1.5/4.0 (-2.5)\n",
      "Epoch 010/050 | Loss 0.0030 | Win/lose count 3.0/4.0 (-1.0)\n",
      "Epoch 011/050 | Loss 0.3606 | Win/lose count 3.0/0 (3.0)\n",
      "Epoch 012/050 | Loss 0.0058 | Win/lose count 0.5/1.0 (-0.5)\n",
      "Epoch 013/050 | Loss 0.1764 | Win/lose count 1.0/3.0 (-2.0)\n",
      "Epoch 014/050 | Loss 0.1838 | Win/lose count 2.0/0 (2.0)\n",
      "Epoch 015/050 | Loss 0.2570 | Win/lose count 1.5/7.0 (-5.5)\n",
      "Epoch 016/050 | Loss 0.1511 | Win/lose count 2.0/8.0 (-6.0)\n",
      "Epoch 017/050 | Loss 0.0750 | Win/lose count 3.5/5.0 (-1.5)\n",
      "Epoch 018/050 | Loss 0.0070 | Win/lose count 4.0/4.0 (0.0)\n",
      "Epoch 019/050 | Loss 0.0735 | Win/lose count 2.5/2.0 (0.5)\n",
      "Epoch 020/050 | Loss 0.0075 | Win/lose count 1.0/2.0 (-1.0)\n",
      "Epoch 021/050 | Loss 0.0797 | Win/lose count 1.5/3.0 (-1.5)\n",
      "Epoch 022/050 | Loss 0.0074 | Win/lose count 1.0/1.0 (0.0)\n",
      "Epoch 023/050 | Loss 0.1470 | Win/lose count 0.5/4.0 (-3.5)\n",
      "Epoch 024/050 | Loss 0.1368 | Win/lose count 2.0/6.0 (-4.0)\n",
      "Epoch 025/050 | Loss 0.0087 | Win/lose count 1.5/5.0 (-3.5)\n",
      "Epoch 026/050 | Loss 0.1570 | Win/lose count 1.5/1.0 (0.5)\n",
      "Epoch 027/050 | Loss 0.3131 | Win/lose count 4.0/3.0 (1.0)\n",
      "Epoch 028/050 | Loss 0.1221 | Win/lose count 4.0/3.0 (1.0)\n",
      "Epoch 029/050 | Loss 0.0861 | Win/lose count 2.0/7.0 (-5.0)\n",
      "Epoch 030/050 | Loss 0.0052 | Win/lose count 4.0/1.0 (3.0)\n",
      "Epoch 031/050 | Loss 0.1043 | Win/lose count 2.0/4.0 (-2.0)\n",
      "Epoch 032/050 | Loss 0.1441 | Win/lose count 2.0/1.0 (1.0)\n",
      "Epoch 033/050 | Loss 0.1003 | Win/lose count 2.0/6.0 (-4.0)\n",
      "Epoch 034/050 | Loss 0.0107 | Win/lose count 2.5/4.0 (-1.5)\n",
      "Epoch 035/050 | Loss 0.1032 | Win/lose count 2.0/2.0 (0.0)\n",
      "Epoch 036/050 | Loss 0.1533 | Win/lose count 3.5/2.0 (1.5)\n",
      "Epoch 037/050 | Loss 0.0087 | Win/lose count 1.5/5.0 (-3.5)\n",
      "Epoch 038/050 | Loss 0.1946 | Win/lose count 1.0/4.0 (-3.0)\n",
      "Epoch 039/050 | Loss 0.0147 | Win/lose count 1.0/2.0 (-1.0)\n",
      "Epoch 040/050 | Loss 0.3165 | Win/lose count 4.0/5.0 (-1.0)\n",
      "Epoch 041/050 | Loss 0.0037 | Win/lose count 3.5/4.0 (-0.5)\n",
      "Epoch 042/050 | Loss 0.0756 | Win/lose count 1.0/5.0 (-4.0)\n",
      "Epoch 043/050 | Loss 0.0142 | Win/lose count 1.5/2.0 (-0.5)\n",
      "Epoch 044/050 | Loss 0.0749 | Win/lose count 2.5/2.0 (0.5)\n",
      "Epoch 045/050 | Loss 0.2394 | Win/lose count 3.5/3.0 (0.5)\n",
      "Epoch 046/050 | Loss 0.0939 | Win/lose count 7.0/3.0 (4.0)\n",
      "Epoch 047/050 | Loss 0.0037 | Win/lose count 1.0/1.0 (0.0)\n",
      "Epoch 048/050 | Loss 0.0762 | Win/lose count 2.0/2.0 (0.0)\n",
      "Epoch 049/050 | Loss 0.1136 | Win/lose count 2.0/3.0 (-1.0)\n"
     ]
    },
    {
     "data": {
      "text/html": [
       "<video alt=\"test\" controls>\n",
       "                <source src=\"data:video/mp4;base64,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\" type=\"video/mp4\" />\n",
       "             </video>"
      ],
      "text/plain": [
       "<IPython.core.display.HTML object>"
      ]
     },
     "execution_count": 22,
     "metadata": {},
     "output_type": "execute_result"
    }
   ],
   "source": [
    "env = Environment(grid_size=size, max_time=T, temperature=0.3)\n",
    "agent = DQN_CNN(size, lr=.1, epsilon = 0.1, memory_size=2000, batch_size = 32)\n",
    "train(agent,env,epochs_train,prefix='cnn_train')\n",
    "HTML(display_videos('cnn_train10.mp4'))"
   ]
  },
  {
   "cell_type": "markdown",
   "metadata": {},
   "source": [
    "***\n",
    "***\n",
    "__Question 9__ Test both algorithms and compare their performances. Which issue(s) do you observe? Observe also different behaviors by changing the temperature."
   ]
  },
  {
   "cell_type": "code",
   "execution_count": 23,
   "metadata": {},
   "outputs": [
    {
     "name": "stdout",
     "output_type": "stream",
     "text": [
      "Test of the CNN\n",
      "Win/lose count 1.0/1.0. Average score (0.0)\n",
      "Win/lose count 3.0/2.0. Average score (0.5)\n",
      "Win/lose count 2.0/5.0. Average score (-0.6666666666666666)\n",
      "Win/lose count 4.0/4.0. Average score (-0.5)\n",
      "Win/lose count 1.5/1.0. Average score (-0.3)\n",
      "Win/lose count 3.5/2.0. Average score (0.0)\n",
      "Win/lose count 2.5/3.0. Average score (-0.07142857142857142)\n",
      "Win/lose count 2.0/3.0. Average score (-0.1875)\n",
      "Win/lose count 3.0/1.0. Average score (0.05555555555555555)\n",
      "Win/lose count 2.5/3.0. Average score (0.0)\n",
      "Win/lose count 1.0/1.0. Average score (0.0)\n",
      "Win/lose count 1.0/5.0. Average score (-0.3333333333333333)\n",
      "Win/lose count 1.0/3.0. Average score (-0.46153846153846156)\n",
      "Win/lose count 3.0/7.0. Average score (-0.7142857142857143)\n",
      "Win/lose count 3.5/6.0. Average score (-0.8333333333333334)\n",
      "Final score: -0.8333333333333334\n",
      "Test of the FC\n",
      "Win/lose count 2.5/5.0. Average score (-2.5)\n",
      "Win/lose count 5.0/3.0. Average score (-0.25)\n",
      "Win/lose count 3.0/1.0. Average score (0.5)\n",
      "Win/lose count 6.0/6.0. Average score (0.375)\n",
      "Win/lose count 3.5/8.0. Average score (-0.6)\n",
      "Win/lose count 0.5/9.0. Average score (-1.9166666666666667)\n",
      "Win/lose count 4.0/5.0. Average score (-1.7857142857142858)\n",
      "Win/lose count 4.0/5.0. Average score (-1.6875)\n",
      "Win/lose count 4.0/6.0. Average score (-1.7222222222222223)\n",
      "Win/lose count 3.0/6.0. Average score (-1.85)\n",
      "Win/lose count 1.5/3.0. Average score (-1.8181818181818181)\n",
      "Win/lose count 3.5/3.0. Average score (-1.625)\n",
      "Win/lose count 2.5/4.0. Average score (-1.6153846153846154)\n",
      "Win/lose count 2.5/4.0. Average score (-1.6071428571428572)\n",
      "Win/lose count 3.0/6.0. Average score (-1.7)\n",
      "Final score: -1.7\n"
     ]
    }
   ],
   "source": [
    "env = Environment(grid_size=size, max_time=T,temperature=0.3)\n",
    "agent_cnn = DQN_CNN(size, lr=.1, epsilon = 0.1, memory_size=2000, batch_size = 32)\n",
    "agent_cnn.load(name_weights='cnn_trainmodel.h5',name_model='cnn_trainmodel.json')\n",
    "\n",
    "agent_fc = DQN_FC(size, lr=.1, epsilon = 0.1, memory_size=2000, batch_size = 32)\n",
    "agent_cnn.load(name_weights='fc_trainmodel.h5',name_model='fc_trainmodel.json')\n",
    "print('Test of the CNN')\n",
    "test(agent_cnn,env,epochs_test,prefix='cnn_test')\n",
    "print('Test of the FC')\n",
    "test(agent_fc,env,epochs_test,prefix='fc_test')"
   ]
  },
  {
   "cell_type": "code",
   "execution_count": 24,
   "metadata": {},
   "outputs": [
    {
     "data": {
      "text/html": [
       "<video alt=\"test\" controls>\n",
       "                <source src=\"data:video/mp4;base64,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\" type=\"video/mp4\" />\n",
       "             </video>"
      ],
      "text/plain": [
       "<IPython.core.display.HTML object>"
      ]
     },
     "execution_count": 24,
     "metadata": {},
     "output_type": "execute_result"
    }
   ],
   "source": [
    "HTML(display_videos('cnn_test10.mp4'))"
   ]
  },
  {
   "cell_type": "code",
   "execution_count": 25,
   "metadata": {},
   "outputs": [
    {
     "data": {
      "text/html": [
       "<video alt=\"test\" controls>\n",
       "                <source src=\"data:video/mp4;base64,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\" type=\"video/mp4\" />\n",
       "             </video>"
      ],
      "text/plain": [
       "<IPython.core.display.HTML object>"
      ]
     },
     "execution_count": 25,
     "metadata": {},
     "output_type": "execute_result"
    }
   ],
   "source": [
    "HTML(display_videos('fc_test10.mp4'))"
   ]
  },
  {
   "cell_type": "markdown",
   "metadata": {},
   "source": [
    "The CNN is performs better than the Fully Connected layer,the fully connected layer seems to be stuck in a corner. \n",
    "\n",
    "Th temperature increase the number of rewards. \n",
    "When the temperature is low (0.1) the rat has some difficulties to reach the cheese, but when the it's high (>0.5) the rat has better performance"
   ]
  },
  {
   "cell_type": "markdown",
   "metadata": {},
   "source": [
    "***\n",
    "\n",
    "The algorithm tends to not explore the map which can be an issue. We propose two ideas in order to encourage exploration:\n",
    "1. Incorporating a decreasing $\\epsilon$-greedy exploration. You can use the method ```set_epsilon```\n",
    "2. Append via the environment a new state that describes if a cell has been visited or not\n",
    "\n",
    "***\n",
    "__Question 10__ Design a new ```train_explore``` function and environment class ```EnvironmentExploring``` to tackle the issue of exploration.\n",
    "\n"
   ]
  },
  {
   "cell_type": "code",
   "execution_count": 26,
   "metadata": {},
   "outputs": [],
   "source": [
    "def train_explore(agent,env,epoch,prefix=''):\n",
    "    # Number of won games\n",
    "    score = 0\n",
    "    loss = 0\n",
    "\n",
    "    for e in range(epoch):\n",
    "        # At each epoch, we restart to a fresh game and get the initial state\n",
    "        state = env.reset()\n",
    "        # This assumes that the games will terminate\n",
    "        game_over = False\n",
    "\n",
    "        win = 0\n",
    "        lose = 0\n",
    "\n",
    "        while not game_over:\n",
    "            # The agent performs an action\n",
    "            action = agent.act(state)\n",
    "\n",
    "            # Apply an action to the environment, get the next state, the reward\n",
    "            # and if the games end\n",
    "            prev_state = state\n",
    "            state, reward, game_over = env.act(action, train=True)\n",
    "\n",
    "            # Update the counters\n",
    "            if reward > 0:\n",
    "                win = win + reward\n",
    "            if reward < 0:\n",
    "                lose = lose -reward\n",
    "\n",
    "            # Apply the reinforcement strategy\n",
    "            loss = agent.reinforce(prev_state, state,  action, reward, game_over)\n",
    "\n",
    "        # Save as a mp4\n",
    "        if e % 10 == 0:\n",
    "            env.draw(prefix+str(e))\n",
    "\n",
    "        # Update stats\n",
    "        score += win-lose\n",
    "\n",
    "        print(\"Epoch {:03d}/{:03d} | Loss {:.4f} | Win/lose count {}/{} ({})\"\n",
    "              .format(e+1, epoch, loss, win, lose, win-lose))\n",
    "        agent.save(name_weights=prefix+'model.h5',name_model=prefix+'model.json')\n",
    "        \n",
    "class EnvironmentExploring(object):\n",
    "    def __init__(self, grid_size=10, max_time=500, temperature=0.1):\n",
    "        grid_size = grid_size+4\n",
    "        self.grid_size = grid_size\n",
    "        self.max_time = max_time\n",
    "        self.temperature = temperature\n",
    "\n",
    "        #board on which one plays\n",
    "        self.board = np.zeros((grid_size,grid_size))\n",
    "        self.position = np.zeros((grid_size,grid_size))\n",
    "        self.malus_position=np.zeros((grid_size,grid_size))\n",
    "        # coordinate of the cat\n",
    "        self.x = 0\n",
    "        self.y = 1\n",
    "\n",
    "        # self time\n",
    "        self.t = 0\n",
    "\n",
    "        self.scale=16\n",
    "\n",
    "        self.to_draw = np.zeros((max_time+2, grid_size*self.scale, grid_size*self.scale, 3))\n",
    "\n",
    "\n",
    "    def draw(self,e):\n",
    "        skvideo.io.vwrite(str(e) + '.mp4', self.to_draw)\n",
    "\n",
    "    def get_frame(self,t):\n",
    "        b = np.zeros((self.grid_size,self.grid_size,3))+128\n",
    "        b[self.board>0,0] = 256\n",
    "        b[self.board < 0, 2] = 256\n",
    "        b[self.x,self.y,:]=256\n",
    "        b[-2:,:,:]=0\n",
    "        b[:,-2:,:]=0\n",
    "        b[:2,:,:]=0\n",
    "        b[:,:2,:]=0\n",
    "        \n",
    "        b =  cv2.resize(b, None, fx=self.scale, fy=self.scale, interpolation=cv2.INTER_NEAREST)\n",
    "\n",
    "        self.to_draw[t,:,:,:]=b\n",
    "\n",
    "\n",
    "    def act(self, action, train=False):\n",
    "        \"\"\"This function returns the new state, reward and decides if the\n",
    "        game ends.\"\"\"\n",
    "\n",
    "        self.get_frame(int(self.t))\n",
    "\n",
    "        self.position = np.zeros((self.grid_size, self.grid_size))\n",
    "\n",
    "        self.position[0:2,:]= -1\n",
    "        self.position[:,0:2] = -1\n",
    "        self.position[-2:, :] = -1\n",
    "        self.position[:,-2 :] = -1 # I change it maybe a mistake \n",
    "\n",
    "        self.position[self.x, self.y] = 1\n",
    "        if action == 0:\n",
    "            if self.x == self.grid_size-3:\n",
    "                self.x = self.x-1\n",
    "            else:\n",
    "                self.x = self.x + 1\n",
    "        elif action == 1:\n",
    "            if self.x == 2:\n",
    "                self.x = self.x+1\n",
    "            else:\n",
    "                self.x = self.x-1\n",
    "        elif action == 2:\n",
    "            if self.y == self.grid_size - 3:\n",
    "                self.y = self.y - 1\n",
    "            else:\n",
    "                self.y = self.y + 1\n",
    "        elif action == 3:\n",
    "            if self.y == 2:\n",
    "                self.y = self.y + 1\n",
    "            else:\n",
    "                self.y = self.y - 1\n",
    "        else:\n",
    "            RuntimeError('Error: action not recognized')\n",
    "\n",
    "        self.t = self.t + 1\n",
    "        reward = 0\n",
    "        if train:\n",
    "            reward = -self.malus_position[self.x, self.y]\n",
    "        self.malus_position[self.x, self.y] = 0.1\n",
    "        reward = reward + self.board[self.x, self.y]\n",
    "        \n",
    "        self.board[self.x, self.y] = 0        \n",
    "        game_over = self.t > self.max_time\n",
    "        state = np.concatenate((self.malus_position.reshape(self.grid_size, self.grid_size,1),\n",
    "                                self.board.reshape(self.grid_size, self.grid_size,1),\n",
    "                                self.position.reshape(self.grid_size, self.grid_size,1)),axis=2)        \n",
    "        state = state[self.x-2:self.x+3,self.y-2:self.y+3,:]\n",
    "\n",
    "        return state, reward, game_over\n",
    "\n",
    "    def reset(self):\n",
    "        \"\"\"This function resets the game and returns the initial state\"\"\"\n",
    "\n",
    "        self.x = np.random.randint(3, self.grid_size-3, size=1)[0]\n",
    "        self.y = np.random.randint(3, self.grid_size-3, size=1)[0]\n",
    "\n",
    "\n",
    "        bonus = 0.5*np.random.binomial(1,self.temperature,size=self.grid_size**2)\n",
    "        bonus = bonus.reshape(self.grid_size,self.grid_size)\n",
    "\n",
    "        malus = -1.0*np.random.binomial(1,self.temperature,size=self.grid_size**2)\n",
    "        malus = malus.reshape(self.grid_size, self.grid_size)\n",
    "\n",
    "        self.to_draw = np.zeros((self.max_time+2, self.grid_size*self.scale, self.grid_size*self.scale, 3))\n",
    "\n",
    "\n",
    "        malus[bonus>0]=0\n",
    "\n",
    "        self.board = bonus + malus\n",
    "\n",
    "        self.position = np.zeros((self.grid_size, self.grid_size))\n",
    "        self.position[0:2,:]= -1\n",
    "        self.position[:,0:2] = -1\n",
    "        self.position[-2:, :] = -1\n",
    "        self.position[:,-2 :] = -1  # I change it maybe a mistake \n",
    "        self.board[self.x,self.y] = 0\n",
    "        self.t = 0\n",
    "\n",
    "        state = np.concatenate((self.malus_position.reshape(self.grid_size, self.grid_size,1),\n",
    "                                self.board.reshape(self.grid_size, self.grid_size,1),\n",
    "                                self.position.reshape(self.grid_size, self.grid_size,1)),axis=2)\n",
    "\n",
    "\n",
    "        state = state[self.x - 2:self.x + 3, self.y - 2:self.y + 3, :]\n",
    "        return state\n",
    "    \n",
    "    def reset(self):\n",
    "        \"\"\"This function resets the game and returns the initial state\"\"\"\n",
    "\n",
    "        self.x = np.random.randint(3, self.grid_size-3, size=1)[0]\n",
    "        self.y = np.random.randint(3, self.grid_size-3, size=1)[0]\n",
    "        bonus = 0.5*np.random.binomial(1,self.temperature,size=self.grid_size**2)\n",
    "        bonus = bonus.reshape(self.grid_size,self.grid_size)\n",
    "\n",
    "        malus = -1.0*np.random.binomial(1,self.temperature,size=self.grid_size**2)\n",
    "        malus = malus.reshape(self.grid_size, self.grid_size)\n",
    "\n",
    "        self.to_draw = np.zeros((self.max_time+2, self.grid_size*self.scale, self.grid_size*self.scale, 3))\n",
    "        malus[bonus>0]=0\n",
    "\n",
    "        self.board = bonus + malus\n",
    "\n",
    "        self.position = np.zeros((self.grid_size, self.grid_size))\n",
    "        self.position[0:2,:]= -1\n",
    "        self.position[:,0:2] = -1\n",
    "        self.position[-2:, :] = -1\n",
    "        self.position[:,-2 :] = -1  # I change it maybe a mistake \n",
    "        self.board[self.x,self.y] = 0\n",
    "        self.t = 0\n",
    "        self.malus_position = np.zeros((self.grid_size, self.grid_size))\n",
    "        state = np.concatenate((self.malus_position.reshape(self.grid_size, self.grid_size,1),\n",
    "                                self.board.reshape(self.grid_size, self.grid_size,1),\n",
    "                                self.position.reshape(self.grid_size, self.grid_size,1)),axis=2)\n",
    "        state = state[self.x - 2:self.x + 3, self.y - 2:self.y + 3, :]\n",
    "        return state"
   ]
  },
  {
   "cell_type": "code",
   "execution_count": 27,
   "metadata": {},
   "outputs": [
    {
     "name": "stdout",
     "output_type": "stream",
     "text": [
      "Epoch 001/050 | Loss 0.0115 | Win/lose count 7.0/18.9 (-11.899999999999999)\n",
      "Epoch 002/050 | Loss 0.0054 | Win/lose count 4.0/21.800000000000026 (-17.800000000000026)\n",
      "Epoch 003/050 | Loss 0.0076 | Win/lose count 1.0/20.500000000000025 (-19.500000000000025)\n",
      "Epoch 004/050 | Loss 0.0064 | Win/lose count 3.5/22.500000000000053 (-19.000000000000053)\n",
      "Epoch 005/050 | Loss 0.0105 | Win/lose count 3.5/18.29999999999999 (-14.79999999999999)\n",
      "Epoch 006/050 | Loss 0.0045 | Win/lose count 3.5/20.80000000000001 (-17.30000000000001)\n",
      "Epoch 007/050 | Loss 0.0252 | Win/lose count 1.5/24.200000000000067 (-22.700000000000067)\n",
      "Epoch 008/050 | Loss 0.0152 | Win/lose count 3.5/22.10000000000006 (-18.60000000000006)\n",
      "Epoch 009/050 | Loss 0.0371 | Win/lose count 1.0/20.600000000000023 (-19.600000000000023)\n",
      "Epoch 010/050 | Loss 0.0209 | Win/lose count 3.0/19.600000000000012 (-16.600000000000012)\n",
      "Epoch 011/050 | Loss 0.0126 | Win/lose count 2.5/26.40000000000009 (-23.90000000000009)\n",
      "Epoch 012/050 | Loss 0.0752 | Win/lose count 4.0/19.099999999999987 (-15.099999999999987)\n",
      "Epoch 013/050 | Loss 0.0054 | Win/lose count 2.0/20.40000000000002 (-18.40000000000002)\n",
      "Epoch 014/050 | Loss 0.1211 | Win/lose count 3.0/22.100000000000044 (-19.100000000000044)\n",
      "Epoch 015/050 | Loss 0.0486 | Win/lose count 1.5/22.20000000000005 (-20.70000000000005)\n",
      "Epoch 016/050 | Loss 0.0026 | Win/lose count 3.5/19.900000000000013 (-16.400000000000013)\n",
      "Epoch 017/050 | Loss 0.0519 | Win/lose count 1.0/20.10000000000002 (-19.10000000000002)\n",
      "Epoch 018/050 | Loss 0.0032 | Win/lose count 1.0/20.10000000000002 (-19.10000000000002)\n",
      "Epoch 019/050 | Loss 0.0012 | Win/lose count 2.5/19.200000000000003 (-16.700000000000003)\n",
      "Epoch 020/050 | Loss 0.0564 | Win/lose count 2.5/20.60000000000001 (-18.10000000000001)\n",
      "Epoch 021/050 | Loss 0.0008 | Win/lose count 3.0/25.000000000000096 (-22.000000000000096)\n",
      "Epoch 022/050 | Loss 0.0024 | Win/lose count 2.5/24.300000000000065 (-21.800000000000065)\n",
      "Epoch 023/050 | Loss 0.0682 | Win/lose count 1.5/21.200000000000042 (-19.700000000000042)\n",
      "Epoch 024/050 | Loss 0.0017 | Win/lose count 1.0/23.400000000000073 (-22.400000000000073)\n",
      "Epoch 025/050 | Loss 0.0009 | Win/lose count 1.0/25.000000000000078 (-24.000000000000078)\n",
      "Epoch 026/050 | Loss 0.0015 | Win/lose count 1.5/23.50000000000007 (-22.00000000000007)\n",
      "Epoch 027/050 | Loss 0.0021 | Win/lose count 3.0/20.50000000000002 (-17.50000000000002)\n",
      "Epoch 028/050 | Loss 0.0081 | Win/lose count 3.5/22.400000000000055 (-18.900000000000055)\n",
      "Epoch 029/050 | Loss 0.0021 | Win/lose count 2.5/21.70000000000003 (-19.20000000000003)\n",
      "Epoch 030/050 | Loss 0.0079 | Win/lose count 3.0/21.40000000000004 (-18.40000000000004)\n",
      "Epoch 031/050 | Loss 0.1291 | Win/lose count 5.0/20.100000000000005 (-15.100000000000005)\n",
      "Epoch 032/050 | Loss 0.0006 | Win/lose count 2.0/24.400000000000084 (-22.400000000000084)\n",
      "Epoch 033/050 | Loss 0.0622 | Win/lose count 2.5/22.60000000000006 (-20.10000000000006)\n",
      "Epoch 034/050 | Loss 0.0591 | Win/lose count 1.5/22.20000000000005 (-20.70000000000005)\n",
      "Epoch 035/050 | Loss 0.0015 | Win/lose count 2.0/20.50000000000003 (-18.50000000000003)\n",
      "Epoch 036/050 | Loss 0.0018 | Win/lose count 1.5/22.700000000000056 (-21.200000000000056)\n",
      "Epoch 037/050 | Loss 0.0008 | Win/lose count 2.0/20.30000000000002 (-18.30000000000002)\n",
      "Epoch 038/050 | Loss 0.0037 | Win/lose count 3.5/20.00000000000002 (-16.50000000000002)\n",
      "Epoch 039/050 | Loss 0.0013 | Win/lose count 5.0/21.500000000000043 (-16.500000000000043)\n",
      "Epoch 040/050 | Loss 0.0628 | Win/lose count 3.5/21.400000000000027 (-17.900000000000027)\n",
      "Epoch 041/050 | Loss 0.0717 | Win/lose count 2.0/22.300000000000054 (-20.300000000000054)\n",
      "Epoch 042/050 | Loss 0.0069 | Win/lose count 1.5/22.40000000000005 (-20.90000000000005)\n",
      "Epoch 043/050 | Loss 0.0013 | Win/lose count 2.0/20.000000000000014 (-18.000000000000014)\n",
      "Epoch 044/050 | Loss 0.0003 | Win/lose count 3.0/22.30000000000005 (-19.30000000000005)\n",
      "Epoch 045/050 | Loss 0.1303 | Win/lose count 3.5/22.700000000000045 (-19.200000000000045)\n",
      "Epoch 046/050 | Loss 0.0005 | Win/lose count 3.0/23.700000000000056 (-20.700000000000056)\n",
      "Epoch 047/050 | Loss 0.0657 | Win/lose count 3.0/19.200000000000006 (-16.200000000000006)\n",
      "Epoch 048/050 | Loss 0.0035 | Win/lose count 3.0/22.700000000000053 (-19.700000000000053)\n",
      "Epoch 049/050 | Loss 0.0643 | Win/lose count 1.0/22.400000000000055 (-21.400000000000055)\n",
      "Epoch 050/050 | Loss 0.0003 | Win/lose count 1.0/23.40000000000007 (-22.40000000000007)\n"
     ]
    },
    {
     "data": {
      "text/html": [
       "<video alt=\"test\" controls>\n",
       "                <source src=\"data:video/mp4;base64,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\" type=\"video/mp4\" />\n",
       "             </video>"
      ],
      "text/plain": [
       "<IPython.core.display.HTML object>"
      ]
     },
     "execution_count": 27,
     "metadata": {},
     "output_type": "execute_result"
    }
   ],
   "source": [
    "# Training\n",
    "env = EnvironmentExploring(grid_size=size, max_time=T, temperature=0.3)\n",
    "agent = DQN_CNN(size, lr=.1, epsilon = 0.1, memory_size=2000, batch_size = 32,n_state=3)\n",
    "train_explore(agent, env, epochs_train, prefix='cnn_train_explore')\n",
    "HTML(display_videos('cnn_train_explore10.mp4'))"
   ]
  },
  {
   "cell_type": "code",
   "execution_count": 32,
   "metadata": {},
   "outputs": [
    {
     "name": "stdout",
     "output_type": "stream",
     "text": [
      "Win/lose count 3.0/3.0. Average score (0.0)\n",
      "Win/lose count 3.0/3.0. Average score (0.0)\n",
      "Win/lose count 0.5/0. Average score (0.16666666666666666)\n",
      "Win/lose count 4.0/3.0. Average score (0.375)\n",
      "Win/lose count 2.5/1.0. Average score (0.6)\n",
      "Win/lose count 2.5/4.0. Average score (0.25)\n",
      "Win/lose count 3.0/2.0. Average score (0.35714285714285715)\n",
      "Win/lose count 4.0/3.0. Average score (0.4375)\n",
      "Win/lose count 3.0/5.0. Average score (0.16666666666666666)\n",
      "Win/lose count 2.5/3.0. Average score (0.1)\n",
      "Win/lose count 5.5/2.0. Average score (0.4090909090909091)\n",
      "Win/lose count 2.0/2.0. Average score (0.375)\n",
      "Win/lose count 6.5/7.0. Average score (0.3076923076923077)\n",
      "Win/lose count 4.0/0. Average score (0.5714285714285714)\n",
      "Win/lose count 2.5/2.0. Average score (0.5666666666666667)\n",
      "Final score: 0.5666666666666667\n"
     ]
    },
    {
     "data": {
      "text/html": [
       "<video alt=\"test\" controls>\n",
       "                <source src=\"data:video/mp4;base64,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\" type=\"video/mp4\" />\n",
       "             </video>"
      ],
      "text/plain": [
       "<IPython.core.display.HTML object>"
      ]
     },
     "execution_count": 32,
     "metadata": {},
     "output_type": "execute_result"
    }
   ],
   "source": [
    "# Evaluation\n",
    "test(agent,env,epochs_test,prefix='cnn_test_explore')\n",
    "HTML(display_videos('cnn_test_explore0.mp4'))"
   ]
  },
  {
   "cell_type": "markdown",
   "metadata": {},
   "source": [
    "***\n",
    "***\n",
    "__BONUS question__ Use the expert DQN from the previous question to generate some winning games. Train a model that mimicks its behavior. Compare the performances."
   ]
  },
  {
   "cell_type": "markdown",
   "metadata": {},
   "source": [
    "***"
   ]
  }
 ],
 "metadata": {
  "kernelspec": {
   "display_name": "Python 3",
   "language": "python",
   "name": "python3"
  },
  "language_info": {
   "codemirror_mode": {
    "name": "ipython",
    "version": 3
   },
   "file_extension": ".py",
   "mimetype": "text/x-python",
   "name": "python",
   "nbconvert_exporter": "python",
   "pygments_lexer": "ipython3",
   "version": "3.6.8"
  }
 },
 "nbformat": 4,
 "nbformat_minor": 2
}
